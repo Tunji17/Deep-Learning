{
 "cells": [
  {
   "cell_type": "markdown",
   "metadata": {},
   "source": [
    "## Triplet loss\n",
    "### Train a linear embedding space with triplet loss\n",
    "\n",
    "> Adapt this code to train a linear embedding that takes as inputs 1-hot encoding of digits 0 to 9, and outputs a 2D-embedding. Then train this embedding with a triplet loss in order to shape the embedding space so that the digits appear ordered in the embedding space. Plot the embedding space with matplotlib.\n",
    "\n",
    "[Slides](https://olki.loria.fr/cerisara/lexres/2024td1.html#/4/6)"
   ]
  },
  {
   "cell_type": "code",
   "execution_count": 32,
   "metadata": {},
   "outputs": [],
   "source": [
    "import torch\n",
    "import pytorch_lightning as pl\n",
    "import math\n",
    "import torch.nn.functional as F\n",
    "import matplotlib.pyplot as plt"
   ]
  },
  {
   "cell_type": "code",
   "execution_count": 33,
   "metadata": {},
   "outputs": [],
   "source": [
    "# Pytorch dataset that generates one triple\n",
    "class NTripDS(torch.utils.data.Dataset):\n",
    "    def __init__(self):\n",
    "        super().__init__()\n",
    "\n",
    "    def __len__(self):\n",
    "        return 1000\n",
    "\n",
    "    def __getitem__(self,i):\n",
    "        va = torch.randint(0, 10, (1,))\n",
    "        vb = torch.randint(0, 10, (1,))\n",
    "        vc = torch.randint(0, 10, (1,))\n",
    "        xa = F.one_hot(va, num_classes=10).float()\n",
    "        b = F.one_hot(vb, num_classes=10).float()\n",
    "        c = F.one_hot(vc, num_classes=10).float()\n",
    "        if math.fabs(vb-va) <= math.fabs(vc-va):\n",
    "            xp,xn = b,c\n",
    "        else:\n",
    "            xp,xn = c,b\n",
    "        return xa,xp,xn"
   ]
  },
  {
   "cell_type": "code",
   "execution_count": 34,
   "metadata": {},
   "outputs": [],
   "source": [
    "class Mod(pl.LightningModule):\n",
    "    def __init__(self):\n",
    "        super().__init__()\n",
    "        self.W = torch.nn.Linear(10,2)\n",
    "\n",
    "    def configure_optimizers(self):\n",
    "        opt = torch.optim.AdamW(self.parameters(), lr = 1e-3)\n",
    "        return opt\n",
    "\n",
    "    def forward(self, x):\n",
    "        e = self.W(x)\n",
    "        return e\n",
    "\n",
    "    def training_step(self, batch, batch_idx):\n",
    "        anc, pos, neg = batch\n",
    "        ea = self.W(anc)\n",
    "        ep = self.W(pos)\n",
    "        en = self.W(neg)\n",
    "        dp = torch.nn.functional.triplet_margin_loss(ea,ep,en)\n",
    "        self.log(\"train_loss\", dp, on_step=False, on_epoch=True)\n",
    "        return dp"
   ]
  },
  {
   "cell_type": "code",
   "execution_count": 35,
   "metadata": {},
   "outputs": [],
   "source": [
    "def plot(mod):\n",
    "    x = F.one_hot(torch.arange(0,10)).float()\n",
    "    y = mod(x)\n",
    "    ny = y.detach().numpy()\n",
    "    x = ny[:,0]\n",
    "    y = ny[:,1]\n",
    "    for i in range(len(x)):\n",
    "        plt.annotate(f\"{i}\", (x[i],y[i]))\n",
    "    plt.scatter(x, y)\n",
    "    plt.show()"
   ]
  },
  {
   "cell_type": "code",
   "execution_count": 36,
   "metadata": {},
   "outputs": [
    {
     "name": "stderr",
     "output_type": "stream",
     "text": [
      "GPU available: True (cuda), used: True\n",
      "TPU available: False, using: 0 TPU cores\n",
      "HPU available: False, using: 0 HPUs\n",
      "`Trainer(limit_train_batches=1.0)` was configured so 100% of the batches per epoch will be used..\n",
      "LOCAL_RANK: 0 - CUDA_VISIBLE_DEVICES: [0]\n"
     ]
    },
    {
     "name": "stderr",
     "output_type": "stream",
     "text": [
      "\n",
      "  | Name | Type   | Params | Mode \n",
      "----------------------------------------\n",
      "0 | W    | Linear | 22     | train\n",
      "----------------------------------------\n",
      "22        Trainable params\n",
      "0         Non-trainable params\n",
      "22        Total params\n",
      "0.000     Total estimated model params size (MB)\n",
      "1         Modules in train mode\n",
      "0         Modules in eval mode\n"
     ]
    },
    {
     "data": {
      "application/vnd.jupyter.widget-view+json": {
       "model_id": "4d074874871747dfad06f13e2338b5be",
       "version_major": 2,
       "version_minor": 0
      },
      "text/plain": [
       "Training: |          | 0/? [00:00<?, ?it/s]"
      ]
     },
     "metadata": {},
     "output_type": "display_data"
    },
    {
     "name": "stderr",
     "output_type": "stream",
     "text": [
      "`Trainer.fit` stopped: `max_epochs=3` reached.\n"
     ]
    },
    {
     "data": {
      "image/png": "[encoded data removed]",
      "text/plain": [
       "<Figure size 640x480 with 1 Axes>"
      ]
     },
     "metadata": {},
     "output_type": "display_data"
    }
   ],
   "source": [
    "traindata = NTripDS()\n",
    "trainloader = torch.utils.data.DataLoader(traindata, batch_size=1, shuffle=False)\n",
    "mod = Mod()\n",
    "# logger = pl.loggers.TensorBoardLogger(save_dir=\"logs/\", flush_secs=1)\n",
    "trainer = pl.Trainer(limit_train_batches=1.0, max_epochs=3, log_every_n_steps=1)\n",
    "trainer.fit(model=mod, train_dataloaders=trainloader)\n",
    "\n",
    "#Â to view the training curves:\n",
    "# tensorboard --logdir=lightning_logs/\n",
    "\n",
    "plot(mod)"
   ]
  }
 ],
 "metadata": {
  "kernelspec": {
   "display_name": ".venv",
   "language": "python",
   "name": "python3"
  },
  "language_info": {
   "codemirror_mode": {
    "name": "ipython",
    "version": 3
   },
   "file_extension": ".py",
   "mimetype": "text/x-python",
   "name": "python",
   "nbconvert_exporter": "python",
   "pygments_lexer": "ipython3",
   "version": "3.10.12"
  }
 },
 "nbformat": 4,
 "nbformat_minor": 2
}
