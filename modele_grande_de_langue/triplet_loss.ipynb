{
 "cells": [
  {
   "cell_type": "markdown",
   "metadata": {},
   "source": [
    "## Triplet loss\n",
    "### Train a linear embedding space with triplet loss\n",
    "\n",
    "> Adapt this code to train a linear embedding that takes as inputs 1-hot encoding of digits 0 to 9, and outputs a 2D-embedding. Then train this embedding with a triplet loss in order to shape the embedding space so that the digits appear ordered in the embedding space. Plot the embedding space with matplotlib.\n",
    "\n",
    "[Slides](https://olki.loria.fr/cerisara/lexres/2024td1.html#/4/6)"
   ]
  },
  {
   "cell_type": "code",
   "execution_count": null,
   "metadata": {},
   "outputs": [],
   "source": [
    "import torch\n",
    "import pytorch_lightning as pl\n",
    "\n",
    "class Mod(pl.LightningModule):\n",
    "    def __init__(self):\n",
    "        super().__init__()\n",
    "        self.W = torch.nn.Linear(1,5)\n",
    "\n",
    "    def configure_optimizers(self):\n",
    "        opt = torch.optim.AdamW(self.parameters(), lr = 1e-3)\n",
    "        return opt\n",
    "\n",
    "    def training_step(self, batch, batch_idx):\n",
    "        anc, pos, neg = batch\n",
    "        ea = self.W(anc)\n",
    "        ep = self.W(pos)\n",
    "        en = self.W(neg)\n",
    "        dp = torch.nn.functional.triplet_margin_loss(ea,ep,en)\n",
    "        self.log(\"train_loss\", dp, on_step=False, on_epoch=True)\n",
    "        return dp"
   ]
  },
  {
   "cell_type": "code",
   "execution_count": null,
   "metadata": {},
   "outputs": [],
   "source": [
    "class TripDS(torch.utils.data.Dataset):\n",
    "    def __init__(self):\n",
    "        super().__init__()\n",
    "\n",
    "    def __len__(self):\n",
    "        return 1000\n",
    "\n",
    "    def __getitem__(self,i):\n",
    "        if i%2==0:\n",
    "            # pair: on sample une ancre from class 1\n",
    "            xa = torch.randn(1)/10.-0.5\n",
    "            xp = torch.randn(1)/10.-0.5\n",
    "            xn = torch.randn(1)/10.+0.5\n",
    "            return xa,xp,xn\n",
    "        else:\n",
    "            # impair: on sample une ancre from class 2\n",
    "            xa = torch.randn(1)/10.+0.5\n",
    "            xp = torch.randn(1)/10.+0.5\n",
    "            xn = torch.randn(1)/10.-0.5\n",
    "            return xa,xp,xn"
   ]
  },
  {
   "cell_type": "code",
   "execution_count": null,
   "metadata": {},
   "outputs": [],
   "source": [
    "traindata = TripDS()\n",
    "trainloader = torch.utils.data.DataLoader(traindata, batch_size=1, shuffle=False)\n",
    "mod = Mod()\n",
    "logger = pl.loggers.TensorBoardLogger(save_dir=\"logs/\", flush_secs=1)\n",
    "trainer = pl.Trainer(limit_train_batches=1.0, max_epochs=1000, log_every_n_steps=1,logger=logger)\n",
    "trainer.fit(model=mod, train_dataloaders=trainloader)"
   ]
  }
 ],
 "metadata": {
  "language_info": {
   "name": "python"
  }
 },
 "nbformat": 4,
 "nbformat_minor": 2
}
