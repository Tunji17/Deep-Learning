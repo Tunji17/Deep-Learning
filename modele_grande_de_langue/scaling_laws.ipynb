{
 "cells": [
  {
   "cell_type": "code",
   "execution_count": 1,
   "metadata": {},
   "outputs": [],
   "source": [
    "# Scaling laws for neural networks\n",
    "\n",
    "from transformers import GPT2TokenizerFast\n",
    "import datasets\n",
    "from transformers import GPT2LMHeadModel, DataCollatorForLanguageModeling, TrainingArguments, Trainer"
   ]
  },
  {
   "cell_type": "code",
   "execution_count": 2,
   "metadata": {},
   "outputs": [],
   "source": [
    "t = GPT2TokenizerFast.from_pretrained('distilgpt2')\n",
    "t.pad_token = t.eos_token\n",
    "\n",
    "d0 = datasets.load_dataset(\"wikitext\",\"wikitext-2-v1\")"
   ]
  },
  {
   "cell_type": "code",
   "execution_count": 3,
   "metadata": {},
   "outputs": [
    {
     "data": {
      "application/vnd.jupyter.widget-view+json": {
       "model_id": "5ca2a10218484487ad8c77272da79433",
       "version_major": 2,
       "version_minor": 0
      },
      "text/plain": [
       "Map:   0%|          | 0/3760 [00:00<?, ? examples/s]"
      ]
     },
     "metadata": {},
     "output_type": "display_data"
    },
    {
     "name": "stdout",
     "output_type": "stream",
     "text": [
      "datatrain Dataset({\n",
      "    features: ['input_ids'],\n",
      "    num_rows: 90\n",
      "})\n",
      "datavral Dataset({\n",
      "    features: ['input_ids'],\n",
      "    num_rows: 10\n",
      "})\n"
     ]
    }
   ],
   "source": [
    "dval = d0['validation']\n",
    "d0 = d0['train']\n",
    "\n",
    "slen = 64\n",
    "def tokenize(element):\n",
    "    outputs = t(element[\"text\"], truncation=True, max_length=slen, return_overflowing_tokens=True, return_length=True)\n",
    "    input_batch = []\n",
    "    for length, input_ids in zip(outputs[\"length\"], outputs[\"input_ids\"]):\n",
    "        if length == slen: input_batch.append(input_ids)\n",
    "    return {\"input_ids\": input_batch}\n",
    "d0= d0.map(tokenize, batched=True, remove_columns=d0.column_names)\n",
    "dval = dval.map(tokenize, batched=True, remove_columns=dval.column_names)\n",
    "d0 = d0.select([i for i in range(90)])\n",
    "print(\"datatrain\",d0)\n",
    "dval = dval.select([i for i in range(10)])\n",
    "print(\"datavral\",dval)"
   ]
  },
  {
   "cell_type": "code",
   "execution_count": 4,
   "metadata": {},
   "outputs": [
    {
     "name": "stderr",
     "output_type": "stream",
     "text": [
      "/Users/tunji/.local/share/virtualenvs/nn_speech_recognition-qgr9tgLb/lib/python3.12/site-packages/transformers/training_args.py:1545: FutureWarning: `evaluation_strategy` is deprecated and will be removed in version 4.46 of 🤗 Transformers. Use `eval_strategy` instead\n",
      "  warnings.warn(\n"
     ]
    },
    {
     "data": {
      "application/vnd.jupyter.widget-view+json": {
       "model_id": "45c6c482be07440c9e69014795b9c69f",
       "version_major": 2,
       "version_minor": 0
      },
      "text/plain": [
       "  0%|          | 0/90 [00:00<?, ?it/s]"
      ]
     },
     "metadata": {},
     "output_type": "display_data"
    },
    {
     "name": "stdout",
     "output_type": "stream",
     "text": [
      "{'loss': 5.7401, 'grad_norm': 25.521936416625977, 'learning_rate': 9.888888888888889e-05, 'epoch': 0.01}\n"
     ]
    },
    {
     "data": {
      "application/vnd.jupyter.widget-view+json": {
       "model_id": "bf2407d0c48246cb93769bf3fcd1a523",
       "version_major": 2,
       "version_minor": 0
      },
      "text/plain": [
       "  0%|          | 0/10 [00:00<?, ?it/s]"
      ]
     },
     "metadata": {},
     "output_type": "display_data"
    },
    {
     "name": "stdout",
     "output_type": "stream",
     "text": [
      "{'eval_loss': 4.4415669441223145, 'eval_runtime': 0.5644, 'eval_samples_per_second': 17.717, 'eval_steps_per_second': 17.717, 'epoch': 0.01}\n",
      "{'loss': 5.036, 'grad_norm': 19.63477325439453, 'learning_rate': 9.777777777777778e-05, 'epoch': 0.02}\n"
     ]
    },
    {
     "data": {
      "application/vnd.jupyter.widget-view+json": {
       "model_id": "50bb35404c2b436182a57d3f0f7aebd3",
       "version_major": 2,
       "version_minor": 0
      },
      "text/plain": [
       "  0%|          | 0/10 [00:00<?, ?it/s]"
      ]
     },
     "metadata": {},
     "output_type": "display_data"
    },
    {
     "name": "stdout",
     "output_type": "stream",
     "text": [
      "{'eval_loss': 4.386664390563965, 'eval_runtime': 0.4914, 'eval_samples_per_second': 20.351, 'eval_steps_per_second': 20.351, 'epoch': 0.02}\n",
      "{'loss': 6.4559, 'grad_norm': 19.85694694519043, 'learning_rate': 9.666666666666667e-05, 'epoch': 0.03}\n"
     ]
    },
    {
     "data": {
      "application/vnd.jupyter.widget-view+json": {
       "model_id": "35fab2f24e2e4a6689f4acacb1e840cf",
       "version_major": 2,
       "version_minor": 0
      },
      "text/plain": [
       "  0%|          | 0/10 [00:00<?, ?it/s]"
      ]
     },
     "metadata": {},
     "output_type": "display_data"
    },
    {
     "name": "stdout",
     "output_type": "stream",
     "text": [
      "{'eval_loss': 4.33546257019043, 'eval_runtime': 0.4575, 'eval_samples_per_second': 21.859, 'eval_steps_per_second': 21.859, 'epoch': 0.03}\n",
      "{'loss': 4.4872, 'grad_norm': 17.28373146057129, 'learning_rate': 9.555555555555557e-05, 'epoch': 0.04}\n"
     ]
    },
    {
     "data": {
      "application/vnd.jupyter.widget-view+json": {
       "model_id": "f4da191deea246de957ccd37a8371773",
       "version_major": 2,
       "version_minor": 0
      },
      "text/plain": [
       "  0%|          | 0/10 [00:00<?, ?it/s]"
      ]
     },
     "metadata": {},
     "output_type": "display_data"
    },
    {
     "name": "stdout",
     "output_type": "stream",
     "text": [
      "{'eval_loss': 4.281554698944092, 'eval_runtime': 0.5717, 'eval_samples_per_second': 17.491, 'eval_steps_per_second': 17.491, 'epoch': 0.04}\n",
      "{'loss': 4.4003, 'grad_norm': 19.87548065185547, 'learning_rate': 9.444444444444444e-05, 'epoch': 0.06}\n"
     ]
    },
    {
     "data": {
      "application/vnd.jupyter.widget-view+json": {
       "model_id": "abd29779ca3d425d8c2f17217feca8b0",
       "version_major": 2,
       "version_minor": 0
      },
      "text/plain": [
       "  0%|          | 0/10 [00:00<?, ?it/s]"
      ]
     },
     "metadata": {},
     "output_type": "display_data"
    },
    {
     "name": "stdout",
     "output_type": "stream",
     "text": [
      "{'eval_loss': 4.254778861999512, 'eval_runtime': 0.465, 'eval_samples_per_second': 21.504, 'eval_steps_per_second': 21.504, 'epoch': 0.06}\n",
      "{'loss': 5.5186, 'grad_norm': 19.25905990600586, 'learning_rate': 9.333333333333334e-05, 'epoch': 0.07}\n"
     ]
    },
    {
     "data": {
      "application/vnd.jupyter.widget-view+json": {
       "model_id": "ef8f7b8909b140b083d2ed04cc6247d7",
       "version_major": 2,
       "version_minor": 0
      },
      "text/plain": [
       "  0%|          | 0/10 [00:00<?, ?it/s]"
      ]
     },
     "metadata": {},
     "output_type": "display_data"
    },
    {
     "name": "stdout",
     "output_type": "stream",
     "text": [
      "{'eval_loss': 4.240801811218262, 'eval_runtime': 0.5269, 'eval_samples_per_second': 18.981, 'eval_steps_per_second': 18.981, 'epoch': 0.07}\n",
      "{'loss': 4.3363, 'grad_norm': 20.48720359802246, 'learning_rate': 9.222222222222223e-05, 'epoch': 0.08}\n"
     ]
    },
    {
     "data": {
      "application/vnd.jupyter.widget-view+json": {
       "model_id": "7f0eb822d4cc4b268e86788fa89d5755",
       "version_major": 2,
       "version_minor": 0
      },
      "text/plain": [
       "  0%|          | 0/10 [00:00<?, ?it/s]"
      ]
     },
     "metadata": {},
     "output_type": "display_data"
    },
    {
     "name": "stdout",
     "output_type": "stream",
     "text": [
      "{'eval_loss': 4.239785194396973, 'eval_runtime': 0.4759, 'eval_samples_per_second': 21.012, 'eval_steps_per_second': 21.012, 'epoch': 0.08}\n",
      "{'loss': 5.2575, 'grad_norm': 21.462770462036133, 'learning_rate': 9.111111111111112e-05, 'epoch': 0.09}\n"
     ]
    },
    {
     "data": {
      "application/vnd.jupyter.widget-view+json": {
       "model_id": "20866f6032154ea0900b76eb85ab32a7",
       "version_major": 2,
       "version_minor": 0
      },
      "text/plain": [
       "  0%|          | 0/10 [00:00<?, ?it/s]"
      ]
     },
     "metadata": {},
     "output_type": "display_data"
    },
    {
     "name": "stdout",
     "output_type": "stream",
     "text": [
      "{'eval_loss': 4.243952751159668, 'eval_runtime': 0.4798, 'eval_samples_per_second': 20.843, 'eval_steps_per_second': 20.843, 'epoch': 0.09}\n",
      "{'loss': 4.3777, 'grad_norm': 18.640596389770508, 'learning_rate': 9e-05, 'epoch': 0.1}\n"
     ]
    },
    {
     "data": {
      "application/vnd.jupyter.widget-view+json": {
       "model_id": "1a926d2c7cbe4a63bca0cc9b0d7a2512",
       "version_major": 2,
       "version_minor": 0
      },
      "text/plain": [
       "  0%|          | 0/10 [00:00<?, ?it/s]"
      ]
     },
     "metadata": {},
     "output_type": "display_data"
    },
    {
     "name": "stdout",
     "output_type": "stream",
     "text": [
      "{'eval_loss': 4.248261451721191, 'eval_runtime': 0.5295, 'eval_samples_per_second': 18.887, 'eval_steps_per_second': 18.887, 'epoch': 0.1}\n",
      "{'loss': 3.9338, 'grad_norm': 21.863296508789062, 'learning_rate': 8.888888888888889e-05, 'epoch': 0.11}\n"
     ]
    },
    {
     "data": {
      "application/vnd.jupyter.widget-view+json": {
       "model_id": "79369b9034a44f72af3e3045c9f31262",
       "version_major": 2,
       "version_minor": 0
      },
      "text/plain": [
       "  0%|          | 0/10 [00:00<?, ?it/s]"
      ]
     },
     "metadata": {},
     "output_type": "display_data"
    },
    {
     "name": "stdout",
     "output_type": "stream",
     "text": [
      "{'eval_loss': 4.25583553314209, 'eval_runtime': 0.4607, 'eval_samples_per_second': 21.706, 'eval_steps_per_second': 21.706, 'epoch': 0.11}\n",
      "{'loss': 4.1744, 'grad_norm': 19.577655792236328, 'learning_rate': 8.777777777777778e-05, 'epoch': 0.12}\n"
     ]
    },
    {
     "data": {
      "application/vnd.jupyter.widget-view+json": {
       "model_id": "297a4c91c17041d9b458aad33a101c29",
       "version_major": 2,
       "version_minor": 0
      },
      "text/plain": [
       "  0%|          | 0/10 [00:00<?, ?it/s]"
      ]
     },
     "metadata": {},
     "output_type": "display_data"
    },
    {
     "name": "stdout",
     "output_type": "stream",
     "text": [
      "{'eval_loss': 4.266143321990967, 'eval_runtime': 0.4547, 'eval_samples_per_second': 21.99, 'eval_steps_per_second': 21.99, 'epoch': 0.12}\n",
      "{'loss': 4.285, 'grad_norm': 21.187570571899414, 'learning_rate': 8.666666666666667e-05, 'epoch': 0.13}\n"
     ]
    },
    {
     "data": {
      "application/vnd.jupyter.widget-view+json": {
       "model_id": "0903d6f4b32a4c32a82ee3dc25fdc2d2",
       "version_major": 2,
       "version_minor": 0
      },
      "text/plain": [
       "  0%|          | 0/10 [00:00<?, ?it/s]"
      ]
     },
     "metadata": {},
     "output_type": "display_data"
    },
    {
     "name": "stdout",
     "output_type": "stream",
     "text": [
      "{'eval_loss': 4.283980846405029, 'eval_runtime': 0.4793, 'eval_samples_per_second': 20.865, 'eval_steps_per_second': 20.865, 'epoch': 0.13}\n",
      "{'loss': 3.9931, 'grad_norm': 23.988943099975586, 'learning_rate': 8.555555555555556e-05, 'epoch': 0.14}\n"
     ]
    },
    {
     "data": {
      "application/vnd.jupyter.widget-view+json": {
       "model_id": "03564b2a716643db875bbb44e31d3cae",
       "version_major": 2,
       "version_minor": 0
      },
      "text/plain": [
       "  0%|          | 0/10 [00:00<?, ?it/s]"
      ]
     },
     "metadata": {},
     "output_type": "display_data"
    },
    {
     "name": "stdout",
     "output_type": "stream",
     "text": [
      "{'eval_loss': 4.30027961730957, 'eval_runtime': 0.4453, 'eval_samples_per_second': 22.459, 'eval_steps_per_second': 22.459, 'epoch': 0.14}\n",
      "{'loss': 5.2277, 'grad_norm': 18.875226974487305, 'learning_rate': 8.444444444444444e-05, 'epoch': 0.16}\n"
     ]
    },
    {
     "data": {
      "application/vnd.jupyter.widget-view+json": {
       "model_id": "6ffc1f29bac14878804591a8fb31c8c1",
       "version_major": 2,
       "version_minor": 0
      },
      "text/plain": [
       "  0%|          | 0/10 [00:00<?, ?it/s]"
      ]
     },
     "metadata": {},
     "output_type": "display_data"
    },
    {
     "name": "stdout",
     "output_type": "stream",
     "text": [
      "{'eval_loss': 4.304394721984863, 'eval_runtime': 0.5241, 'eval_samples_per_second': 19.082, 'eval_steps_per_second': 19.082, 'epoch': 0.16}\n",
      "{'loss': 4.5966, 'grad_norm': 19.658811569213867, 'learning_rate': 8.333333333333334e-05, 'epoch': 0.17}\n"
     ]
    },
    {
     "data": {
      "application/vnd.jupyter.widget-view+json": {
       "model_id": "addfdcd0957840ceb21bad080efd9510",
       "version_major": 2,
       "version_minor": 0
      },
      "text/plain": [
       "  0%|          | 0/10 [00:00<?, ?it/s]"
      ]
     },
     "metadata": {},
     "output_type": "display_data"
    },
    {
     "name": "stdout",
     "output_type": "stream",
     "text": [
      "{'eval_loss': 4.298184394836426, 'eval_runtime': 0.447, 'eval_samples_per_second': 22.37, 'eval_steps_per_second': 22.37, 'epoch': 0.17}\n",
      "{'loss': 3.9228, 'grad_norm': 20.547088623046875, 'learning_rate': 8.222222222222222e-05, 'epoch': 0.18}\n"
     ]
    },
    {
     "data": {
      "application/vnd.jupyter.widget-view+json": {
       "model_id": "a0b9e697733b45b5b865280c61a9859b",
       "version_major": 2,
       "version_minor": 0
      },
      "text/plain": [
       "  0%|          | 0/10 [00:00<?, ?it/s]"
      ]
     },
     "metadata": {},
     "output_type": "display_data"
    },
    {
     "name": "stdout",
     "output_type": "stream",
     "text": [
      "{'eval_loss': 4.294473171234131, 'eval_runtime': 0.4428, 'eval_samples_per_second': 22.581, 'eval_steps_per_second': 22.581, 'epoch': 0.18}\n",
      "{'loss': 4.5158, 'grad_norm': 23.391643524169922, 'learning_rate': 8.111111111111112e-05, 'epoch': 0.19}\n"
     ]
    },
    {
     "data": {
      "application/vnd.jupyter.widget-view+json": {
       "model_id": "4f7ca051338d447aaeae766be38f09b3",
       "version_major": 2,
       "version_minor": 0
      },
      "text/plain": [
       "  0%|          | 0/10 [00:00<?, ?it/s]"
      ]
     },
     "metadata": {},
     "output_type": "display_data"
    },
    {
     "name": "stdout",
     "output_type": "stream",
     "text": [
      "{'eval_loss': 4.2836222648620605, 'eval_runtime': 0.5232, 'eval_samples_per_second': 19.112, 'eval_steps_per_second': 19.112, 'epoch': 0.19}\n",
      "{'loss': 3.2305, 'grad_norm': 21.233592987060547, 'learning_rate': 8e-05, 'epoch': 0.2}\n"
     ]
    },
    {
     "data": {
      "application/vnd.jupyter.widget-view+json": {
       "model_id": "3dc286262d54431d96da583633dffe34",
       "version_major": 2,
       "version_minor": 0
      },
      "text/plain": [
       "  0%|          | 0/10 [00:00<?, ?it/s]"
      ]
     },
     "metadata": {},
     "output_type": "display_data"
    },
    {
     "name": "stdout",
     "output_type": "stream",
     "text": [
      "{'eval_loss': 4.2751784324646, 'eval_runtime': 0.4399, 'eval_samples_per_second': 22.731, 'eval_steps_per_second': 22.731, 'epoch': 0.2}\n",
      "{'loss': 3.4618, 'grad_norm': 18.98032569885254, 'learning_rate': 7.88888888888889e-05, 'epoch': 0.21}\n"
     ]
    },
    {
     "data": {
      "application/vnd.jupyter.widget-view+json": {
       "model_id": "b25e60e87ec64c36be4aa25d716b4ccc",
       "version_major": 2,
       "version_minor": 0
      },
      "text/plain": [
       "  0%|          | 0/10 [00:00<?, ?it/s]"
      ]
     },
     "metadata": {},
     "output_type": "display_data"
    },
    {
     "name": "stdout",
     "output_type": "stream",
     "text": [
      "{'eval_loss': 4.26506233215332, 'eval_runtime': 0.4708, 'eval_samples_per_second': 21.239, 'eval_steps_per_second': 21.239, 'epoch': 0.21}\n",
      "{'loss': 3.904, 'grad_norm': 18.770347595214844, 'learning_rate': 7.777777777777778e-05, 'epoch': 0.22}\n"
     ]
    },
    {
     "data": {
      "application/vnd.jupyter.widget-view+json": {
       "model_id": "ac747d4e7f2344b090a7f780ece3c5a7",
       "version_major": 2,
       "version_minor": 0
      },
      "text/plain": [
       "  0%|          | 0/10 [00:00<?, ?it/s]"
      ]
     },
     "metadata": {},
     "output_type": "display_data"
    },
    {
     "name": "stdout",
     "output_type": "stream",
     "text": [
      "{'eval_loss': 4.257669448852539, 'eval_runtime': 0.5415, 'eval_samples_per_second': 18.468, 'eval_steps_per_second': 18.468, 'epoch': 0.22}\n",
      "{'loss': 4.1799, 'grad_norm': 21.884307861328125, 'learning_rate': 7.666666666666667e-05, 'epoch': 0.23}\n"
     ]
    },
    {
     "data": {
      "application/vnd.jupyter.widget-view+json": {
       "model_id": "45e7e60e942a4ddc9ca6dbe0e25a8d7e",
       "version_major": 2,
       "version_minor": 0
      },
      "text/plain": [
       "  0%|          | 0/10 [00:00<?, ?it/s]"
      ]
     },
     "metadata": {},
     "output_type": "display_data"
    },
    {
     "name": "stdout",
     "output_type": "stream",
     "text": [
      "{'eval_loss': 4.253930568695068, 'eval_runtime': 0.4476, 'eval_samples_per_second': 22.341, 'eval_steps_per_second': 22.341, 'epoch': 0.23}\n",
      "{'loss': 4.1025, 'grad_norm': 20.26140594482422, 'learning_rate': 7.555555555555556e-05, 'epoch': 0.24}\n"
     ]
    },
    {
     "data": {
      "application/vnd.jupyter.widget-view+json": {
       "model_id": "ca731991321f4c8cbaaa65b772baebc3",
       "version_major": 2,
       "version_minor": 0
      },
      "text/plain": [
       "  0%|          | 0/10 [00:00<?, ?it/s]"
      ]
     },
     "metadata": {},
     "output_type": "display_data"
    },
    {
     "name": "stdout",
     "output_type": "stream",
     "text": [
      "{'eval_loss': 4.242224216461182, 'eval_runtime': 0.4435, 'eval_samples_per_second': 22.55, 'eval_steps_per_second': 22.55, 'epoch': 0.24}\n",
      "{'loss': 3.7029, 'grad_norm': 19.222854614257812, 'learning_rate': 7.444444444444444e-05, 'epoch': 0.26}\n"
     ]
    },
    {
     "data": {
      "application/vnd.jupyter.widget-view+json": {
       "model_id": "7388d6edca6142fbb3d8133387e72ac6",
       "version_major": 2,
       "version_minor": 0
      },
      "text/plain": [
       "  0%|          | 0/10 [00:00<?, ?it/s]"
      ]
     },
     "metadata": {},
     "output_type": "display_data"
    },
    {
     "name": "stdout",
     "output_type": "stream",
     "text": [
      "{'eval_loss': 4.2336835861206055, 'eval_runtime': 0.4602, 'eval_samples_per_second': 21.727, 'eval_steps_per_second': 21.727, 'epoch': 0.26}\n",
      "{'loss': 3.728, 'grad_norm': 20.129772186279297, 'learning_rate': 7.333333333333333e-05, 'epoch': 0.27}\n"
     ]
    },
    {
     "data": {
      "application/vnd.jupyter.widget-view+json": {
       "model_id": "3d83a94948eb4a58ae29ceee3722e7ee",
       "version_major": 2,
       "version_minor": 0
      },
      "text/plain": [
       "  0%|          | 0/10 [00:00<?, ?it/s]"
      ]
     },
     "metadata": {},
     "output_type": "display_data"
    },
    {
     "name": "stdout",
     "output_type": "stream",
     "text": [
      "{'eval_loss': 4.225817680358887, 'eval_runtime': 0.4458, 'eval_samples_per_second': 22.429, 'eval_steps_per_second': 22.429, 'epoch': 0.27}\n",
      "{'loss': 4.4174, 'grad_norm': 22.21619987487793, 'learning_rate': 7.222222222222222e-05, 'epoch': 0.28}\n"
     ]
    },
    {
     "data": {
      "application/vnd.jupyter.widget-view+json": {
       "model_id": "32b9f1cc3d6c4bb58df8e7880230df54",
       "version_major": 2,
       "version_minor": 0
      },
      "text/plain": [
       "  0%|          | 0/10 [00:00<?, ?it/s]"
      ]
     },
     "metadata": {},
     "output_type": "display_data"
    },
    {
     "name": "stdout",
     "output_type": "stream",
     "text": [
      "{'eval_loss': 4.214072227478027, 'eval_runtime': 0.5259, 'eval_samples_per_second': 19.015, 'eval_steps_per_second': 19.015, 'epoch': 0.28}\n",
      "{'loss': 3.8772, 'grad_norm': 22.927547454833984, 'learning_rate': 7.111111111111112e-05, 'epoch': 0.29}\n"
     ]
    },
    {
     "data": {
      "application/vnd.jupyter.widget-view+json": {
       "model_id": "3858ee092ceb4f25a746909d1683cb14",
       "version_major": 2,
       "version_minor": 0
      },
      "text/plain": [
       "  0%|          | 0/10 [00:00<?, ?it/s]"
      ]
     },
     "metadata": {},
     "output_type": "display_data"
    },
    {
     "name": "stdout",
     "output_type": "stream",
     "text": [
      "{'eval_loss': 4.202847480773926, 'eval_runtime': 0.4473, 'eval_samples_per_second': 22.355, 'eval_steps_per_second': 22.355, 'epoch': 0.29}\n",
      "{'loss': 3.918, 'grad_norm': 19.50896644592285, 'learning_rate': 7e-05, 'epoch': 0.3}\n"
     ]
    },
    {
     "data": {
      "application/vnd.jupyter.widget-view+json": {
       "model_id": "65f2ecee20a04e0fb03a8ec7a106ba19",
       "version_major": 2,
       "version_minor": 0
      },
      "text/plain": [
       "  0%|          | 0/10 [00:00<?, ?it/s]"
      ]
     },
     "metadata": {},
     "output_type": "display_data"
    },
    {
     "name": "stdout",
     "output_type": "stream",
     "text": [
      "{'eval_loss': 4.189577579498291, 'eval_runtime': 0.4512, 'eval_samples_per_second': 22.164, 'eval_steps_per_second': 22.164, 'epoch': 0.3}\n",
      "{'loss': 4.4405, 'grad_norm': 18.22975730895996, 'learning_rate': 6.88888888888889e-05, 'epoch': 0.31}\n"
     ]
    },
    {
     "data": {
      "application/vnd.jupyter.widget-view+json": {
       "model_id": "a6b93ae5490b492e9c52be035d3fa1e6",
       "version_major": 2,
       "version_minor": 0
      },
      "text/plain": [
       "  0%|          | 0/10 [00:00<?, ?it/s]"
      ]
     },
     "metadata": {},
     "output_type": "display_data"
    },
    {
     "name": "stdout",
     "output_type": "stream",
     "text": [
      "{'eval_loss': 4.17767858505249, 'eval_runtime': 0.5202, 'eval_samples_per_second': 19.224, 'eval_steps_per_second': 19.224, 'epoch': 0.31}\n",
      "{'loss': 3.4631, 'grad_norm': 19.146156311035156, 'learning_rate': 6.777777777777778e-05, 'epoch': 0.32}\n"
     ]
    },
    {
     "data": {
      "application/vnd.jupyter.widget-view+json": {
       "model_id": "3b17a20e000449d6ae3505cd44421153",
       "version_major": 2,
       "version_minor": 0
      },
      "text/plain": [
       "  0%|          | 0/10 [00:00<?, ?it/s]"
      ]
     },
     "metadata": {},
     "output_type": "display_data"
    },
    {
     "name": "stdout",
     "output_type": "stream",
     "text": [
      "{'eval_loss': 4.167211055755615, 'eval_runtime': 0.4638, 'eval_samples_per_second': 21.562, 'eval_steps_per_second': 21.562, 'epoch': 0.32}\n",
      "{'loss': 4.472, 'grad_norm': 19.84195327758789, 'learning_rate': 6.666666666666667e-05, 'epoch': 0.33}\n"
     ]
    },
    {
     "data": {
      "application/vnd.jupyter.widget-view+json": {
       "model_id": "3abe5aea3c6c44a5ad99416c281cef72",
       "version_major": 2,
       "version_minor": 0
      },
      "text/plain": [
       "  0%|          | 0/10 [00:00<?, ?it/s]"
      ]
     },
     "metadata": {},
     "output_type": "display_data"
    },
    {
     "name": "stdout",
     "output_type": "stream",
     "text": [
      "{'eval_loss': 4.156577110290527, 'eval_runtime': 0.4386, 'eval_samples_per_second': 22.799, 'eval_steps_per_second': 22.799, 'epoch': 0.33}\n",
      "{'loss': 3.9463, 'grad_norm': 27.542980194091797, 'learning_rate': 6.555555555555556e-05, 'epoch': 0.34}\n"
     ]
    },
    {
     "data": {
      "application/vnd.jupyter.widget-view+json": {
       "model_id": "05b10d49769a45dcae8702e92b3b5deb",
       "version_major": 2,
       "version_minor": 0
      },
      "text/plain": [
       "  0%|          | 0/10 [00:00<?, ?it/s]"
      ]
     },
     "metadata": {},
     "output_type": "display_data"
    },
    {
     "name": "stdout",
     "output_type": "stream",
     "text": [
      "{'eval_loss': 4.144015312194824, 'eval_runtime': 0.455, 'eval_samples_per_second': 21.977, 'eval_steps_per_second': 21.977, 'epoch': 0.34}\n",
      "{'loss': 4.3954, 'grad_norm': 18.900741577148438, 'learning_rate': 6.444444444444446e-05, 'epoch': 0.36}\n"
     ]
    },
    {
     "data": {
      "application/vnd.jupyter.widget-view+json": {
       "model_id": "2d1eb4cd12c54bb195d3b7463dd6be65",
       "version_major": 2,
       "version_minor": 0
      },
      "text/plain": [
       "  0%|          | 0/10 [00:00<?, ?it/s]"
      ]
     },
     "metadata": {},
     "output_type": "display_data"
    },
    {
     "name": "stdout",
     "output_type": "stream",
     "text": [
      "{'eval_loss': 4.136137962341309, 'eval_runtime': 0.449, 'eval_samples_per_second': 22.274, 'eval_steps_per_second': 22.274, 'epoch': 0.36}\n",
      "{'loss': 4.0986, 'grad_norm': 18.102874755859375, 'learning_rate': 6.333333333333333e-05, 'epoch': 0.37}\n"
     ]
    },
    {
     "data": {
      "application/vnd.jupyter.widget-view+json": {
       "model_id": "2317051810b74ca6820f168370b75992",
       "version_major": 2,
       "version_minor": 0
      },
      "text/plain": [
       "  0%|          | 0/10 [00:00<?, ?it/s]"
      ]
     },
     "metadata": {},
     "output_type": "display_data"
    },
    {
     "name": "stdout",
     "output_type": "stream",
     "text": [
      "{'eval_loss': 4.130122184753418, 'eval_runtime': 0.5367, 'eval_samples_per_second': 18.632, 'eval_steps_per_second': 18.632, 'epoch': 0.37}\n",
      "{'loss': 4.0214, 'grad_norm': 19.282733917236328, 'learning_rate': 6.222222222222222e-05, 'epoch': 0.38}\n"
     ]
    },
    {
     "data": {
      "application/vnd.jupyter.widget-view+json": {
       "model_id": "100f16108842447cb8cae8d9cf8a68c0",
       "version_major": 2,
       "version_minor": 0
      },
      "text/plain": [
       "  0%|          | 0/10 [00:00<?, ?it/s]"
      ]
     },
     "metadata": {},
     "output_type": "display_data"
    },
    {
     "name": "stdout",
     "output_type": "stream",
     "text": [
      "{'eval_loss': 4.124358654022217, 'eval_runtime': 0.4687, 'eval_samples_per_second': 21.333, 'eval_steps_per_second': 21.333, 'epoch': 0.38}\n",
      "{'loss': 3.3485, 'grad_norm': 19.880962371826172, 'learning_rate': 6.111111111111112e-05, 'epoch': 0.39}\n"
     ]
    },
    {
     "data": {
      "application/vnd.jupyter.widget-view+json": {
       "model_id": "985277e163254a6b8e1687d391fd0af4",
       "version_major": 2,
       "version_minor": 0
      },
      "text/plain": [
       "  0%|          | 0/10 [00:00<?, ?it/s]"
      ]
     },
     "metadata": {},
     "output_type": "display_data"
    },
    {
     "name": "stdout",
     "output_type": "stream",
     "text": [
      "{'eval_loss': 4.120548725128174, 'eval_runtime': 0.4593, 'eval_samples_per_second': 21.77, 'eval_steps_per_second': 21.77, 'epoch': 0.39}\n",
      "{'loss': 4.5054, 'grad_norm': 25.154029846191406, 'learning_rate': 6e-05, 'epoch': 0.4}\n"
     ]
    },
    {
     "data": {
      "application/vnd.jupyter.widget-view+json": {
       "model_id": "3d3e2513244f49808c8e4a6efd37ac80",
       "version_major": 2,
       "version_minor": 0
      },
      "text/plain": [
       "  0%|          | 0/10 [00:00<?, ?it/s]"
      ]
     },
     "metadata": {},
     "output_type": "display_data"
    },
    {
     "name": "stdout",
     "output_type": "stream",
     "text": [
      "{'eval_loss': 4.1116228103637695, 'eval_runtime': 0.4412, 'eval_samples_per_second': 22.665, 'eval_steps_per_second': 22.665, 'epoch': 0.4}\n",
      "{'loss': 4.1477, 'grad_norm': 18.295787811279297, 'learning_rate': 5.8888888888888896e-05, 'epoch': 0.41}\n"
     ]
    },
    {
     "data": {
      "application/vnd.jupyter.widget-view+json": {
       "model_id": "6860952dadcb4d3ba8b7abd816ffe445",
       "version_major": 2,
       "version_minor": 0
      },
      "text/plain": [
       "  0%|          | 0/10 [00:00<?, ?it/s]"
      ]
     },
     "metadata": {},
     "output_type": "display_data"
    },
    {
     "name": "stdout",
     "output_type": "stream",
     "text": [
      "{'eval_loss': 4.106698036193848, 'eval_runtime': 0.4447, 'eval_samples_per_second': 22.487, 'eval_steps_per_second': 22.487, 'epoch': 0.41}\n",
      "{'loss': 4.1298, 'grad_norm': 17.87449836730957, 'learning_rate': 5.7777777777777776e-05, 'epoch': 0.42}\n"
     ]
    },
    {
     "data": {
      "application/vnd.jupyter.widget-view+json": {
       "model_id": "443e3ba4653d47a6943323d8bba3fbb0",
       "version_major": 2,
       "version_minor": 0
      },
      "text/plain": [
       "  0%|          | 0/10 [00:00<?, ?it/s]"
      ]
     },
     "metadata": {},
     "output_type": "display_data"
    },
    {
     "name": "stdout",
     "output_type": "stream",
     "text": [
      "{'eval_loss': 4.10143518447876, 'eval_runtime': 0.527, 'eval_samples_per_second': 18.975, 'eval_steps_per_second': 18.975, 'epoch': 0.42}\n",
      "{'loss': 4.1827, 'grad_norm': 19.514644622802734, 'learning_rate': 5.666666666666667e-05, 'epoch': 0.43}\n"
     ]
    },
    {
     "data": {
      "application/vnd.jupyter.widget-view+json": {
       "model_id": "31bb3f8d35a948c19df0655995b62c8d",
       "version_major": 2,
       "version_minor": 0
      },
      "text/plain": [
       "  0%|          | 0/10 [00:00<?, ?it/s]"
      ]
     },
     "metadata": {},
     "output_type": "display_data"
    },
    {
     "name": "stdout",
     "output_type": "stream",
     "text": [
      "{'eval_loss': 4.095035076141357, 'eval_runtime': 0.4852, 'eval_samples_per_second': 20.611, 'eval_steps_per_second': 20.611, 'epoch': 0.43}\n",
      "{'loss': 4.3402, 'grad_norm': 21.85080909729004, 'learning_rate': 5.555555555555556e-05, 'epoch': 0.44}\n"
     ]
    },
    {
     "data": {
      "application/vnd.jupyter.widget-view+json": {
       "model_id": "b3262dbdc3e94fa899ab1792f00e8550",
       "version_major": 2,
       "version_minor": 0
      },
      "text/plain": [
       "  0%|          | 0/10 [00:00<?, ?it/s]"
      ]
     },
     "metadata": {},
     "output_type": "display_data"
    },
    {
     "name": "stdout",
     "output_type": "stream",
     "text": [
      "{'eval_loss': 4.089980602264404, 'eval_runtime': 0.4527, 'eval_samples_per_second': 22.091, 'eval_steps_per_second': 22.091, 'epoch': 0.44}\n",
      "{'loss': 4.3814, 'grad_norm': 19.422203063964844, 'learning_rate': 5.4444444444444446e-05, 'epoch': 0.46}\n"
     ]
    },
    {
     "data": {
      "application/vnd.jupyter.widget-view+json": {
       "model_id": "54dfedadaa624890bb6f79b23149c8b5",
       "version_major": 2,
       "version_minor": 0
      },
      "text/plain": [
       "  0%|          | 0/10 [00:00<?, ?it/s]"
      ]
     },
     "metadata": {},
     "output_type": "display_data"
    },
    {
     "name": "stdout",
     "output_type": "stream",
     "text": [
      "{'eval_loss': 4.0847673416137695, 'eval_runtime': 0.5153, 'eval_samples_per_second': 19.406, 'eval_steps_per_second': 19.406, 'epoch': 0.46}\n",
      "{'loss': 4.1501, 'grad_norm': 18.870685577392578, 'learning_rate': 5.333333333333333e-05, 'epoch': 0.47}\n"
     ]
    },
    {
     "data": {
      "application/vnd.jupyter.widget-view+json": {
       "model_id": "3fd9d2b7ad7a4170aca4eb654c357ff0",
       "version_major": 2,
       "version_minor": 0
      },
      "text/plain": [
       "  0%|          | 0/10 [00:00<?, ?it/s]"
      ]
     },
     "metadata": {},
     "output_type": "display_data"
    },
    {
     "name": "stdout",
     "output_type": "stream",
     "text": [
      "{'eval_loss': 4.082319736480713, 'eval_runtime': 0.4669, 'eval_samples_per_second': 21.418, 'eval_steps_per_second': 21.418, 'epoch': 0.47}\n",
      "{'loss': 3.4764, 'grad_norm': 18.880779266357422, 'learning_rate': 5.222222222222223e-05, 'epoch': 0.48}\n"
     ]
    },
    {
     "data": {
      "application/vnd.jupyter.widget-view+json": {
       "model_id": "f7e299bfe7734a8a9be8e1f9c3c7571b",
       "version_major": 2,
       "version_minor": 0
      },
      "text/plain": [
       "  0%|          | 0/10 [00:00<?, ?it/s]"
      ]
     },
     "metadata": {},
     "output_type": "display_data"
    },
    {
     "name": "stdout",
     "output_type": "stream",
     "text": [
      "{'eval_loss': 4.082535266876221, 'eval_runtime': 0.5471, 'eval_samples_per_second': 18.277, 'eval_steps_per_second': 18.277, 'epoch': 0.48}\n",
      "{'loss': 4.1284, 'grad_norm': 19.604461669921875, 'learning_rate': 5.111111111111111e-05, 'epoch': 0.49}\n"
     ]
    },
    {
     "data": {
      "application/vnd.jupyter.widget-view+json": {
       "model_id": "ea5eadae2ed8445193b17013687fbd8e",
       "version_major": 2,
       "version_minor": 0
      },
      "text/plain": [
       "  0%|          | 0/10 [00:00<?, ?it/s]"
      ]
     },
     "metadata": {},
     "output_type": "display_data"
    },
    {
     "name": "stdout",
     "output_type": "stream",
     "text": [
      "{'eval_loss': 4.084136009216309, 'eval_runtime': 0.4544, 'eval_samples_per_second': 22.007, 'eval_steps_per_second': 22.007, 'epoch': 0.49}\n",
      "{'loss': 4.0979, 'grad_norm': 20.36408805847168, 'learning_rate': 5e-05, 'epoch': 0.5}\n"
     ]
    },
    {
     "data": {
      "application/vnd.jupyter.widget-view+json": {
       "model_id": "f8e0b8f3bd414d838a00ee7cee0d9a5d",
       "version_major": 2,
       "version_minor": 0
      },
      "text/plain": [
       "  0%|          | 0/10 [00:00<?, ?it/s]"
      ]
     },
     "metadata": {},
     "output_type": "display_data"
    },
    {
     "name": "stdout",
     "output_type": "stream",
     "text": [
      "{'eval_loss': 4.085257053375244, 'eval_runtime': 0.484, 'eval_samples_per_second': 20.66, 'eval_steps_per_second': 20.66, 'epoch': 0.5}\n",
      "{'loss': 3.8252, 'grad_norm': 17.758583068847656, 'learning_rate': 4.888888888888889e-05, 'epoch': 0.51}\n"
     ]
    },
    {
     "data": {
      "application/vnd.jupyter.widget-view+json": {
       "model_id": "b72ae85d3e4e45dca2db10d1ac325e84",
       "version_major": 2,
       "version_minor": 0
      },
      "text/plain": [
       "  0%|          | 0/10 [00:00<?, ?it/s]"
      ]
     },
     "metadata": {},
     "output_type": "display_data"
    },
    {
     "name": "stdout",
     "output_type": "stream",
     "text": [
      "{'eval_loss': 4.087120056152344, 'eval_runtime': 0.5443, 'eval_samples_per_second': 18.373, 'eval_steps_per_second': 18.373, 'epoch': 0.51}\n",
      "{'loss': 3.636, 'grad_norm': 19.514331817626953, 'learning_rate': 4.7777777777777784e-05, 'epoch': 0.52}\n"
     ]
    },
    {
     "data": {
      "application/vnd.jupyter.widget-view+json": {
       "model_id": "4dc036149ae74b20a92e6dea0abcd4c5",
       "version_major": 2,
       "version_minor": 0
      },
      "text/plain": [
       "  0%|          | 0/10 [00:00<?, ?it/s]"
      ]
     },
     "metadata": {},
     "output_type": "display_data"
    },
    {
     "name": "stdout",
     "output_type": "stream",
     "text": [
      "{'eval_loss': 4.090484619140625, 'eval_runtime': 0.5293, 'eval_samples_per_second': 18.891, 'eval_steps_per_second': 18.891, 'epoch': 0.52}\n",
      "{'loss': 2.9227, 'grad_norm': 17.30066680908203, 'learning_rate': 4.666666666666667e-05, 'epoch': 0.53}\n"
     ]
    },
    {
     "data": {
      "application/vnd.jupyter.widget-view+json": {
       "model_id": "fb7bf81ca1e140d88326bddbac4ec577",
       "version_major": 2,
       "version_minor": 0
      },
      "text/plain": [
       "  0%|          | 0/10 [00:00<?, ?it/s]"
      ]
     },
     "metadata": {},
     "output_type": "display_data"
    },
    {
     "name": "stdout",
     "output_type": "stream",
     "text": [
      "{'eval_loss': 4.095337390899658, 'eval_runtime': 0.4487, 'eval_samples_per_second': 22.288, 'eval_steps_per_second': 22.288, 'epoch': 0.53}\n",
      "{'loss': 4.2485, 'grad_norm': 26.02021598815918, 'learning_rate': 4.555555555555556e-05, 'epoch': 0.54}\n"
     ]
    },
    {
     "data": {
      "application/vnd.jupyter.widget-view+json": {
       "model_id": "925a494cf332463ea3cb1b2467b95c2e",
       "version_major": 2,
       "version_minor": 0
      },
      "text/plain": [
       "  0%|          | 0/10 [00:00<?, ?it/s]"
      ]
     },
     "metadata": {},
     "output_type": "display_data"
    },
    {
     "name": "stdout",
     "output_type": "stream",
     "text": [
      "{'eval_loss': 4.097171306610107, 'eval_runtime': 0.4527, 'eval_samples_per_second': 22.09, 'eval_steps_per_second': 22.09, 'epoch': 0.54}\n",
      "{'loss': 4.4743, 'grad_norm': 20.680706024169922, 'learning_rate': 4.4444444444444447e-05, 'epoch': 0.56}\n"
     ]
    },
    {
     "data": {
      "application/vnd.jupyter.widget-view+json": {
       "model_id": "a608d9350d6a4bc1b1a2d52f07f56cc1",
       "version_major": 2,
       "version_minor": 0
      },
      "text/plain": [
       "  0%|          | 0/10 [00:00<?, ?it/s]"
      ]
     },
     "metadata": {},
     "output_type": "display_data"
    },
    {
     "name": "stdout",
     "output_type": "stream",
     "text": [
      "{'eval_loss': 4.095094203948975, 'eval_runtime': 0.52, 'eval_samples_per_second': 19.232, 'eval_steps_per_second': 19.232, 'epoch': 0.56}\n",
      "{'loss': 4.1883, 'grad_norm': 20.377208709716797, 'learning_rate': 4.3333333333333334e-05, 'epoch': 0.57}\n"
     ]
    },
    {
     "data": {
      "application/vnd.jupyter.widget-view+json": {
       "model_id": "3e18cdc15c5a46a7bc080f5fccd48f79",
       "version_major": 2,
       "version_minor": 0
      },
      "text/plain": [
       "  0%|          | 0/10 [00:00<?, ?it/s]"
      ]
     },
     "metadata": {},
     "output_type": "display_data"
    },
    {
     "name": "stdout",
     "output_type": "stream",
     "text": [
      "{'eval_loss': 4.092672824859619, 'eval_runtime': 0.4522, 'eval_samples_per_second': 22.112, 'eval_steps_per_second': 22.112, 'epoch': 0.57}\n",
      "{'loss': 3.6608, 'grad_norm': 19.26466941833496, 'learning_rate': 4.222222222222222e-05, 'epoch': 0.58}\n"
     ]
    },
    {
     "data": {
      "application/vnd.jupyter.widget-view+json": {
       "model_id": "5cb9f7a4e4d64d70ae968e72ef8313cf",
       "version_major": 2,
       "version_minor": 0
      },
      "text/plain": [
       "  0%|          | 0/10 [00:00<?, ?it/s]"
      ]
     },
     "metadata": {},
     "output_type": "display_data"
    },
    {
     "name": "stdout",
     "output_type": "stream",
     "text": [
      "{'eval_loss': 4.092669486999512, 'eval_runtime': 0.5387, 'eval_samples_per_second': 18.565, 'eval_steps_per_second': 18.565, 'epoch': 0.58}\n",
      "{'loss': 3.9135, 'grad_norm': 18.91793441772461, 'learning_rate': 4.111111111111111e-05, 'epoch': 0.59}\n"
     ]
    },
    {
     "data": {
      "application/vnd.jupyter.widget-view+json": {
       "model_id": "ad55d470c99b4e5db102dc39db6aa640",
       "version_major": 2,
       "version_minor": 0
      },
      "text/plain": [
       "  0%|          | 0/10 [00:00<?, ?it/s]"
      ]
     },
     "metadata": {},
     "output_type": "display_data"
    },
    {
     "name": "stdout",
     "output_type": "stream",
     "text": [
      "{'eval_loss': 4.09423828125, 'eval_runtime': 0.4543, 'eval_samples_per_second': 22.011, 'eval_steps_per_second': 22.011, 'epoch': 0.59}\n",
      "{'loss': 4.1123, 'grad_norm': 18.068408966064453, 'learning_rate': 4e-05, 'epoch': 0.6}\n"
     ]
    },
    {
     "data": {
      "application/vnd.jupyter.widget-view+json": {
       "model_id": "6c0a3ffcf70e42ee96af1e4e34a93aac",
       "version_major": 2,
       "version_minor": 0
      },
      "text/plain": [
       "  0%|          | 0/10 [00:00<?, ?it/s]"
      ]
     },
     "metadata": {},
     "output_type": "display_data"
    },
    {
     "name": "stdout",
     "output_type": "stream",
     "text": [
      "{'eval_loss': 4.096003532409668, 'eval_runtime': 0.4447, 'eval_samples_per_second': 22.488, 'eval_steps_per_second': 22.488, 'epoch': 0.6}\n",
      "{'loss': 4.2651, 'grad_norm': 20.186752319335938, 'learning_rate': 3.888888888888889e-05, 'epoch': 0.61}\n"
     ]
    },
    {
     "data": {
      "application/vnd.jupyter.widget-view+json": {
       "model_id": "0a882aec9c7d4a7c98d7207ba9a118e0",
       "version_major": 2,
       "version_minor": 0
      },
      "text/plain": [
       "  0%|          | 0/10 [00:00<?, ?it/s]"
      ]
     },
     "metadata": {},
     "output_type": "display_data"
    },
    {
     "name": "stdout",
     "output_type": "stream",
     "text": [
      "{'eval_loss': 4.096325397491455, 'eval_runtime': 0.5309, 'eval_samples_per_second': 18.837, 'eval_steps_per_second': 18.837, 'epoch': 0.61}\n",
      "{'loss': 3.4319, 'grad_norm': 17.648513793945312, 'learning_rate': 3.777777777777778e-05, 'epoch': 0.62}\n"
     ]
    },
    {
     "data": {
      "application/vnd.jupyter.widget-view+json": {
       "model_id": "9507ce57cbbb4801aff94641ba7e9994",
       "version_major": 2,
       "version_minor": 0
      },
      "text/plain": [
       "  0%|          | 0/10 [00:00<?, ?it/s]"
      ]
     },
     "metadata": {},
     "output_type": "display_data"
    },
    {
     "name": "stdout",
     "output_type": "stream",
     "text": [
      "{'eval_loss': 4.094703674316406, 'eval_runtime': 0.4501, 'eval_samples_per_second': 22.216, 'eval_steps_per_second': 22.216, 'epoch': 0.62}\n",
      "{'loss': 3.8616, 'grad_norm': 18.335538864135742, 'learning_rate': 3.6666666666666666e-05, 'epoch': 0.63}\n"
     ]
    },
    {
     "data": {
      "application/vnd.jupyter.widget-view+json": {
       "model_id": "72bbf4623b5c483d9dee78d1ad0262dc",
       "version_major": 2,
       "version_minor": 0
      },
      "text/plain": [
       "  0%|          | 0/10 [00:00<?, ?it/s]"
      ]
     },
     "metadata": {},
     "output_type": "display_data"
    },
    {
     "name": "stdout",
     "output_type": "stream",
     "text": [
      "{'eval_loss': 4.092527389526367, 'eval_runtime': 0.5405, 'eval_samples_per_second': 18.502, 'eval_steps_per_second': 18.502, 'epoch': 0.63}\n",
      "{'loss': 4.2535, 'grad_norm': 19.773914337158203, 'learning_rate': 3.555555555555556e-05, 'epoch': 0.64}\n"
     ]
    },
    {
     "data": {
      "application/vnd.jupyter.widget-view+json": {
       "model_id": "574489c469784a8180c2b3b1bb41b751",
       "version_major": 2,
       "version_minor": 0
      },
      "text/plain": [
       "  0%|          | 0/10 [00:00<?, ?it/s]"
      ]
     },
     "metadata": {},
     "output_type": "display_data"
    },
    {
     "name": "stdout",
     "output_type": "stream",
     "text": [
      "{'eval_loss': 4.089584827423096, 'eval_runtime': 0.472, 'eval_samples_per_second': 21.188, 'eval_steps_per_second': 21.188, 'epoch': 0.64}\n",
      "{'loss': 3.9943, 'grad_norm': 21.53346061706543, 'learning_rate': 3.444444444444445e-05, 'epoch': 0.66}\n"
     ]
    },
    {
     "data": {
      "application/vnd.jupyter.widget-view+json": {
       "model_id": "37a8f04d59774d1f8ee2ce940306ae96",
       "version_major": 2,
       "version_minor": 0
      },
      "text/plain": [
       "  0%|          | 0/10 [00:00<?, ?it/s]"
      ]
     },
     "metadata": {},
     "output_type": "display_data"
    },
    {
     "name": "stdout",
     "output_type": "stream",
     "text": [
      "{'eval_loss': 4.087071418762207, 'eval_runtime': 0.466, 'eval_samples_per_second': 21.46, 'eval_steps_per_second': 21.46, 'epoch': 0.66}\n",
      "{'loss': 4.0507, 'grad_norm': 19.552274703979492, 'learning_rate': 3.3333333333333335e-05, 'epoch': 0.67}\n"
     ]
    },
    {
     "data": {
      "application/vnd.jupyter.widget-view+json": {
       "model_id": "3408489959e74d4c9f476c5699eb7e75",
       "version_major": 2,
       "version_minor": 0
      },
      "text/plain": [
       "  0%|          | 0/10 [00:00<?, ?it/s]"
      ]
     },
     "metadata": {},
     "output_type": "display_data"
    },
    {
     "name": "stdout",
     "output_type": "stream",
     "text": [
      "{'eval_loss': 4.083815574645996, 'eval_runtime': 0.5125, 'eval_samples_per_second': 19.513, 'eval_steps_per_second': 19.513, 'epoch': 0.67}\n",
      "{'loss': 3.2107, 'grad_norm': 16.29998016357422, 'learning_rate': 3.222222222222223e-05, 'epoch': 0.68}\n"
     ]
    },
    {
     "data": {
      "application/vnd.jupyter.widget-view+json": {
       "model_id": "381cebc2ba6b4314907d427edc60635c",
       "version_major": 2,
       "version_minor": 0
      },
      "text/plain": [
       "  0%|          | 0/10 [00:00<?, ?it/s]"
      ]
     },
     "metadata": {},
     "output_type": "display_data"
    },
    {
     "name": "stdout",
     "output_type": "stream",
     "text": [
      "{'eval_loss': 4.082113265991211, 'eval_runtime': 0.461, 'eval_samples_per_second': 21.694, 'eval_steps_per_second': 21.694, 'epoch': 0.68}\n",
      "{'loss': 3.8724, 'grad_norm': 19.28742027282715, 'learning_rate': 3.111111111111111e-05, 'epoch': 0.69}\n"
     ]
    },
    {
     "data": {
      "application/vnd.jupyter.widget-view+json": {
       "model_id": "60ba8a8e09d9493fbf63731223e6d3ce",
       "version_major": 2,
       "version_minor": 0
      },
      "text/plain": [
       "  0%|          | 0/10 [00:00<?, ?it/s]"
      ]
     },
     "metadata": {},
     "output_type": "display_data"
    },
    {
     "name": "stdout",
     "output_type": "stream",
     "text": [
      "{'eval_loss': 4.080803871154785, 'eval_runtime': 0.5206, 'eval_samples_per_second': 19.207, 'eval_steps_per_second': 19.207, 'epoch': 0.69}\n",
      "{'loss': 3.5309, 'grad_norm': 19.663042068481445, 'learning_rate': 3e-05, 'epoch': 0.7}\n"
     ]
    },
    {
     "data": {
      "application/vnd.jupyter.widget-view+json": {
       "model_id": "ae89c9cbcc4f4ef5a26ef8afcec92d1a",
       "version_major": 2,
       "version_minor": 0
      },
      "text/plain": [
       "  0%|          | 0/10 [00:00<?, ?it/s]"
      ]
     },
     "metadata": {},
     "output_type": "display_data"
    },
    {
     "name": "stdout",
     "output_type": "stream",
     "text": [
      "{'eval_loss': 4.079379081726074, 'eval_runtime': 0.4503, 'eval_samples_per_second': 22.205, 'eval_steps_per_second': 22.205, 'epoch': 0.7}\n",
      "{'loss': 2.8699, 'grad_norm': 15.352190017700195, 'learning_rate': 2.8888888888888888e-05, 'epoch': 0.71}\n"
     ]
    },
    {
     "data": {
      "application/vnd.jupyter.widget-view+json": {
       "model_id": "c9549e23af124255afa0b403c4a968e5",
       "version_major": 2,
       "version_minor": 0
      },
      "text/plain": [
       "  0%|          | 0/10 [00:00<?, ?it/s]"
      ]
     },
     "metadata": {},
     "output_type": "display_data"
    },
    {
     "name": "stdout",
     "output_type": "stream",
     "text": [
      "{'eval_loss': 4.077733516693115, 'eval_runtime': 0.4715, 'eval_samples_per_second': 21.21, 'eval_steps_per_second': 21.21, 'epoch': 0.71}\n",
      "{'loss': 4.078, 'grad_norm': 18.819372177124023, 'learning_rate': 2.777777777777778e-05, 'epoch': 0.72}\n"
     ]
    },
    {
     "data": {
      "application/vnd.jupyter.widget-view+json": {
       "model_id": "b1a35bbdaee34365be2c0330a8eecd65",
       "version_major": 2,
       "version_minor": 0
      },
      "text/plain": [
       "  0%|          | 0/10 [00:00<?, ?it/s]"
      ]
     },
     "metadata": {},
     "output_type": "display_data"
    },
    {
     "name": "stdout",
     "output_type": "stream",
     "text": [
      "{'eval_loss': 4.076054573059082, 'eval_runtime': 0.5264, 'eval_samples_per_second': 18.997, 'eval_steps_per_second': 18.997, 'epoch': 0.72}\n",
      "{'loss': 3.4381, 'grad_norm': 19.579856872558594, 'learning_rate': 2.6666666666666667e-05, 'epoch': 0.73}\n"
     ]
    },
    {
     "data": {
      "application/vnd.jupyter.widget-view+json": {
       "model_id": "732324ddb7a84bebbada5d313ebd180c",
       "version_major": 2,
       "version_minor": 0
      },
      "text/plain": [
       "  0%|          | 0/10 [00:00<?, ?it/s]"
      ]
     },
     "metadata": {},
     "output_type": "display_data"
    },
    {
     "name": "stdout",
     "output_type": "stream",
     "text": [
      "{'eval_loss': 4.074435234069824, 'eval_runtime': 0.4509, 'eval_samples_per_second': 22.178, 'eval_steps_per_second': 22.178, 'epoch': 0.73}\n",
      "{'loss': 3.9813, 'grad_norm': 18.734586715698242, 'learning_rate': 2.5555555555555554e-05, 'epoch': 0.74}\n"
     ]
    },
    {
     "data": {
      "application/vnd.jupyter.widget-view+json": {
       "model_id": "be39f2ca52a342259413690f42c0d5e4",
       "version_major": 2,
       "version_minor": 0
      },
      "text/plain": [
       "  0%|          | 0/10 [00:00<?, ?it/s]"
      ]
     },
     "metadata": {},
     "output_type": "display_data"
    },
    {
     "name": "stdout",
     "output_type": "stream",
     "text": [
      "{'eval_loss': 4.0728960037231445, 'eval_runtime': 0.5561, 'eval_samples_per_second': 17.982, 'eval_steps_per_second': 17.982, 'epoch': 0.74}\n",
      "{'loss': 4.5877, 'grad_norm': 19.351652145385742, 'learning_rate': 2.4444444444444445e-05, 'epoch': 0.76}\n"
     ]
    },
    {
     "data": {
      "application/vnd.jupyter.widget-view+json": {
       "model_id": "fd841bde373c46b3a25ed3adc1ea7a10",
       "version_major": 2,
       "version_minor": 0
      },
      "text/plain": [
       "  0%|          | 0/10 [00:00<?, ?it/s]"
      ]
     },
     "metadata": {},
     "output_type": "display_data"
    },
    {
     "name": "stdout",
     "output_type": "stream",
     "text": [
      "{'eval_loss': 4.071114540100098, 'eval_runtime': 0.4423, 'eval_samples_per_second': 22.608, 'eval_steps_per_second': 22.608, 'epoch': 0.76}\n",
      "{'loss': 4.1025, 'grad_norm': 19.447362899780273, 'learning_rate': 2.3333333333333336e-05, 'epoch': 0.77}\n"
     ]
    },
    {
     "data": {
      "application/vnd.jupyter.widget-view+json": {
       "model_id": "d9722324d55347279a2d3991356c4d34",
       "version_major": 2,
       "version_minor": 0
      },
      "text/plain": [
       "  0%|          | 0/10 [00:00<?, ?it/s]"
      ]
     },
     "metadata": {},
     "output_type": "display_data"
    },
    {
     "name": "stdout",
     "output_type": "stream",
     "text": [
      "{'eval_loss': 4.069612979888916, 'eval_runtime': 0.4479, 'eval_samples_per_second': 22.329, 'eval_steps_per_second': 22.329, 'epoch': 0.77}\n",
      "{'loss': 3.3006, 'grad_norm': 20.417816162109375, 'learning_rate': 2.2222222222222223e-05, 'epoch': 0.78}\n"
     ]
    },
    {
     "data": {
      "application/vnd.jupyter.widget-view+json": {
       "model_id": "bc54961e9339401aba8e831be564f479",
       "version_major": 2,
       "version_minor": 0
      },
      "text/plain": [
       "  0%|          | 0/10 [00:00<?, ?it/s]"
      ]
     },
     "metadata": {},
     "output_type": "display_data"
    },
    {
     "name": "stdout",
     "output_type": "stream",
     "text": [
      "{'eval_loss': 4.0682902336120605, 'eval_runtime': 0.4602, 'eval_samples_per_second': 21.73, 'eval_steps_per_second': 21.73, 'epoch': 0.78}\n",
      "{'loss': 4.4059, 'grad_norm': 20.585521697998047, 'learning_rate': 2.111111111111111e-05, 'epoch': 0.79}\n"
     ]
    },
    {
     "data": {
      "application/vnd.jupyter.widget-view+json": {
       "model_id": "122d3384dd584bb987bf90ff7a0bb061",
       "version_major": 2,
       "version_minor": 0
      },
      "text/plain": [
       "  0%|          | 0/10 [00:00<?, ?it/s]"
      ]
     },
     "metadata": {},
     "output_type": "display_data"
    },
    {
     "name": "stdout",
     "output_type": "stream",
     "text": [
      "{'eval_loss': 4.066617012023926, 'eval_runtime': 0.4511, 'eval_samples_per_second': 22.168, 'eval_steps_per_second': 22.168, 'epoch': 0.79}\n",
      "{'loss': 4.021, 'grad_norm': 23.50567054748535, 'learning_rate': 2e-05, 'epoch': 0.8}\n"
     ]
    },
    {
     "data": {
      "application/vnd.jupyter.widget-view+json": {
       "model_id": "6262ad51aa0a405980686a86aa1dcda5",
       "version_major": 2,
       "version_minor": 0
      },
      "text/plain": [
       "  0%|          | 0/10 [00:00<?, ?it/s]"
      ]
     },
     "metadata": {},
     "output_type": "display_data"
    },
    {
     "name": "stdout",
     "output_type": "stream",
     "text": [
      "{'eval_loss': 4.065402030944824, 'eval_runtime': 0.5242, 'eval_samples_per_second': 19.077, 'eval_steps_per_second': 19.077, 'epoch': 0.8}\n",
      "{'loss': 3.7943, 'grad_norm': 17.315502166748047, 'learning_rate': 1.888888888888889e-05, 'epoch': 0.81}\n"
     ]
    },
    {
     "data": {
      "application/vnd.jupyter.widget-view+json": {
       "model_id": "ed72cfbc0a5e4194aa5f4b2ea2bf5fef",
       "version_major": 2,
       "version_minor": 0
      },
      "text/plain": [
       "  0%|          | 0/10 [00:00<?, ?it/s]"
      ]
     },
     "metadata": {},
     "output_type": "display_data"
    },
    {
     "name": "stdout",
     "output_type": "stream",
     "text": [
      "{'eval_loss': 4.064476013183594, 'eval_runtime': 0.4685, 'eval_samples_per_second': 21.345, 'eval_steps_per_second': 21.345, 'epoch': 0.81}\n",
      "{'loss': 4.0204, 'grad_norm': 20.084415435791016, 'learning_rate': 1.777777777777778e-05, 'epoch': 0.82}\n"
     ]
    },
    {
     "data": {
      "application/vnd.jupyter.widget-view+json": {
       "model_id": "39181f410cf54acb8a2114b67cfca67e",
       "version_major": 2,
       "version_minor": 0
      },
      "text/plain": [
       "  0%|          | 0/10 [00:00<?, ?it/s]"
      ]
     },
     "metadata": {},
     "output_type": "display_data"
    },
    {
     "name": "stdout",
     "output_type": "stream",
     "text": [
      "{'eval_loss': 4.062773704528809, 'eval_runtime': 0.4431, 'eval_samples_per_second': 22.57, 'eval_steps_per_second': 22.57, 'epoch': 0.82}\n",
      "{'loss': 4.0445, 'grad_norm': 19.000478744506836, 'learning_rate': 1.6666666666666667e-05, 'epoch': 0.83}\n"
     ]
    },
    {
     "data": {
      "application/vnd.jupyter.widget-view+json": {
       "model_id": "fb8ee0d41eeb4955ae08b3749ee074d3",
       "version_major": 2,
       "version_minor": 0
      },
      "text/plain": [
       "  0%|          | 0/10 [00:00<?, ?it/s]"
      ]
     },
     "metadata": {},
     "output_type": "display_data"
    },
    {
     "name": "stdout",
     "output_type": "stream",
     "text": [
      "{'eval_loss': 4.061379432678223, 'eval_runtime': 0.4566, 'eval_samples_per_second': 21.901, 'eval_steps_per_second': 21.901, 'epoch': 0.83}\n",
      "{'loss': 3.8153, 'grad_norm': 19.87094497680664, 'learning_rate': 1.5555555555555555e-05, 'epoch': 0.84}\n"
     ]
    },
    {
     "data": {
      "application/vnd.jupyter.widget-view+json": {
       "model_id": "bcae6e2142b74ea7ab9b55139ca2f31d",
       "version_major": 2,
       "version_minor": 0
      },
      "text/plain": [
       "  0%|          | 0/10 [00:00<?, ?it/s]"
      ]
     },
     "metadata": {},
     "output_type": "display_data"
    },
    {
     "name": "stdout",
     "output_type": "stream",
     "text": [
      "{'eval_loss': 4.060125350952148, 'eval_runtime': 0.4643, 'eval_samples_per_second': 21.538, 'eval_steps_per_second': 21.538, 'epoch': 0.84}\n",
      "{'loss': 3.7709, 'grad_norm': 17.861976623535156, 'learning_rate': 1.4444444444444444e-05, 'epoch': 0.86}\n"
     ]
    },
    {
     "data": {
      "application/vnd.jupyter.widget-view+json": {
       "model_id": "18813ff57b344962807bef4920010390",
       "version_major": 2,
       "version_minor": 0
      },
      "text/plain": [
       "  0%|          | 0/10 [00:00<?, ?it/s]"
      ]
     },
     "metadata": {},
     "output_type": "display_data"
    },
    {
     "name": "stdout",
     "output_type": "stream",
     "text": [
      "{'eval_loss': 4.059462547302246, 'eval_runtime': 0.532, 'eval_samples_per_second': 18.798, 'eval_steps_per_second': 18.798, 'epoch': 0.86}\n",
      "{'loss': 4.0546, 'grad_norm': 18.781911849975586, 'learning_rate': 1.3333333333333333e-05, 'epoch': 0.87}\n"
     ]
    },
    {
     "data": {
      "application/vnd.jupyter.widget-view+json": {
       "model_id": "4c7c480e79b64bf3bb5160db269f6b74",
       "version_major": 2,
       "version_minor": 0
      },
      "text/plain": [
       "  0%|          | 0/10 [00:00<?, ?it/s]"
      ]
     },
     "metadata": {},
     "output_type": "display_data"
    },
    {
     "name": "stdout",
     "output_type": "stream",
     "text": [
      "{'eval_loss': 4.0587592124938965, 'eval_runtime': 0.4489, 'eval_samples_per_second': 22.278, 'eval_steps_per_second': 22.278, 'epoch': 0.87}\n",
      "{'loss': 3.8281, 'grad_norm': 20.47819709777832, 'learning_rate': 1.2222222222222222e-05, 'epoch': 0.88}\n"
     ]
    },
    {
     "data": {
      "application/vnd.jupyter.widget-view+json": {
       "model_id": "b81e252babd44ff3b4faa4dd48f5348d",
       "version_major": 2,
       "version_minor": 0
      },
      "text/plain": [
       "  0%|          | 0/10 [00:00<?, ?it/s]"
      ]
     },
     "metadata": {},
     "output_type": "display_data"
    },
    {
     "name": "stdout",
     "output_type": "stream",
     "text": [
      "{'eval_loss': 4.058116912841797, 'eval_runtime': 0.4715, 'eval_samples_per_second': 21.207, 'eval_steps_per_second': 21.207, 'epoch': 0.88}\n",
      "{'loss': 4.4927, 'grad_norm': 20.430896759033203, 'learning_rate': 1.1111111111111112e-05, 'epoch': 0.89}\n"
     ]
    },
    {
     "data": {
      "application/vnd.jupyter.widget-view+json": {
       "model_id": "15177a3f8ba04173bcd1bccc86c4143f",
       "version_major": 2,
       "version_minor": 0
      },
      "text/plain": [
       "  0%|          | 0/10 [00:00<?, ?it/s]"
      ]
     },
     "metadata": {},
     "output_type": "display_data"
    },
    {
     "name": "stdout",
     "output_type": "stream",
     "text": [
      "{'eval_loss': 4.057432651519775, 'eval_runtime': 0.5567, 'eval_samples_per_second': 17.963, 'eval_steps_per_second': 17.963, 'epoch': 0.89}\n",
      "{'loss': 2.9154, 'grad_norm': 22.78038215637207, 'learning_rate': 1e-05, 'epoch': 0.9}\n"
     ]
    },
    {
     "data": {
      "application/vnd.jupyter.widget-view+json": {
       "model_id": "755baa2e5c394563ac28ea0a6671d493",
       "version_major": 2,
       "version_minor": 0
      },
      "text/plain": [
       "  0%|          | 0/10 [00:00<?, ?it/s]"
      ]
     },
     "metadata": {},
     "output_type": "display_data"
    },
    {
     "name": "stdout",
     "output_type": "stream",
     "text": [
      "{'eval_loss': 4.0567145347595215, 'eval_runtime': 0.4468, 'eval_samples_per_second': 22.381, 'eval_steps_per_second': 22.381, 'epoch': 0.9}\n",
      "{'loss': 4.38, 'grad_norm': 17.9160099029541, 'learning_rate': 8.88888888888889e-06, 'epoch': 0.91}\n"
     ]
    },
    {
     "data": {
      "application/vnd.jupyter.widget-view+json": {
       "model_id": "a821aed485584d13aef4fcf302934014",
       "version_major": 2,
       "version_minor": 0
      },
      "text/plain": [
       "  0%|          | 0/10 [00:00<?, ?it/s]"
      ]
     },
     "metadata": {},
     "output_type": "display_data"
    },
    {
     "name": "stdout",
     "output_type": "stream",
     "text": [
      "{'eval_loss': 4.056249141693115, 'eval_runtime': 0.5385, 'eval_samples_per_second': 18.57, 'eval_steps_per_second': 18.57, 'epoch': 0.91}\n",
      "{'loss': 3.1705, 'grad_norm': 20.54059410095215, 'learning_rate': 7.777777777777777e-06, 'epoch': 0.92}\n"
     ]
    },
    {
     "data": {
      "application/vnd.jupyter.widget-view+json": {
       "model_id": "38d2e2fb354e41d8b1dc971c6de33e62",
       "version_major": 2,
       "version_minor": 0
      },
      "text/plain": [
       "  0%|          | 0/10 [00:00<?, ?it/s]"
      ]
     },
     "metadata": {},
     "output_type": "display_data"
    },
    {
     "name": "stdout",
     "output_type": "stream",
     "text": [
      "{'eval_loss': 4.0555315017700195, 'eval_runtime': 0.4436, 'eval_samples_per_second': 22.541, 'eval_steps_per_second': 22.541, 'epoch': 0.92}\n",
      "{'loss': 3.2711, 'grad_norm': 23.314382553100586, 'learning_rate': 6.666666666666667e-06, 'epoch': 0.93}\n"
     ]
    },
    {
     "data": {
      "application/vnd.jupyter.widget-view+json": {
       "model_id": "c74fa898b6e54424a2ee6ece4f32d3cd",
       "version_major": 2,
       "version_minor": 0
      },
      "text/plain": [
       "  0%|          | 0/10 [00:00<?, ?it/s]"
      ]
     },
     "metadata": {},
     "output_type": "display_data"
    },
    {
     "name": "stdout",
     "output_type": "stream",
     "text": [
      "{'eval_loss': 4.0548415184021, 'eval_runtime': 0.4598, 'eval_samples_per_second': 21.748, 'eval_steps_per_second': 21.748, 'epoch': 0.93}\n",
      "{'loss': 4.2731, 'grad_norm': 19.245019912719727, 'learning_rate': 5.555555555555556e-06, 'epoch': 0.94}\n"
     ]
    },
    {
     "data": {
      "application/vnd.jupyter.widget-view+json": {
       "model_id": "bf1c322deac245eb94688ff27d2dce6e",
       "version_major": 2,
       "version_minor": 0
      },
      "text/plain": [
       "  0%|          | 0/10 [00:00<?, ?it/s]"
      ]
     },
     "metadata": {},
     "output_type": "display_data"
    },
    {
     "name": "stdout",
     "output_type": "stream",
     "text": [
      "{'eval_loss': 4.054380416870117, 'eval_runtime': 0.4921, 'eval_samples_per_second': 20.319, 'eval_steps_per_second': 20.319, 'epoch': 0.94}\n",
      "{'loss': 2.8127, 'grad_norm': 16.912609100341797, 'learning_rate': 4.444444444444445e-06, 'epoch': 0.96}\n"
     ]
    },
    {
     "data": {
      "application/vnd.jupyter.widget-view+json": {
       "model_id": "5ba993548a3247949c3cbbdb48989458",
       "version_major": 2,
       "version_minor": 0
      },
      "text/plain": [
       "  0%|          | 0/10 [00:00<?, ?it/s]"
      ]
     },
     "metadata": {},
     "output_type": "display_data"
    },
    {
     "name": "stdout",
     "output_type": "stream",
     "text": [
      "{'eval_loss': 4.054093360900879, 'eval_runtime': 0.4672, 'eval_samples_per_second': 21.404, 'eval_steps_per_second': 21.404, 'epoch': 0.96}\n",
      "{'loss': 4.0496, 'grad_norm': 21.995433807373047, 'learning_rate': 3.3333333333333333e-06, 'epoch': 0.97}\n"
     ]
    },
    {
     "data": {
      "application/vnd.jupyter.widget-view+json": {
       "model_id": "4c911e683edb41038a43e8c070e3c391",
       "version_major": 2,
       "version_minor": 0
      },
      "text/plain": [
       "  0%|          | 0/10 [00:00<?, ?it/s]"
      ]
     },
     "metadata": {},
     "output_type": "display_data"
    },
    {
     "name": "stdout",
     "output_type": "stream",
     "text": [
      "{'eval_loss': 4.053713321685791, 'eval_runtime': 0.5321, 'eval_samples_per_second': 18.794, 'eval_steps_per_second': 18.794, 'epoch': 0.97}\n",
      "{'loss': 4.7567, 'grad_norm': 18.277254104614258, 'learning_rate': 2.2222222222222225e-06, 'epoch': 0.98}\n"
     ]
    },
    {
     "data": {
      "application/vnd.jupyter.widget-view+json": {
       "model_id": "d4776a8def95403d93fb84087cff1cec",
       "version_major": 2,
       "version_minor": 0
      },
      "text/plain": [
       "  0%|          | 0/10 [00:00<?, ?it/s]"
      ]
     },
     "metadata": {},
     "output_type": "display_data"
    },
    {
     "name": "stdout",
     "output_type": "stream",
     "text": [
      "{'eval_loss': 4.053528785705566, 'eval_runtime': 0.4748, 'eval_samples_per_second': 21.063, 'eval_steps_per_second': 21.063, 'epoch': 0.98}\n",
      "{'loss': 4.251, 'grad_norm': 20.74728012084961, 'learning_rate': 1.1111111111111112e-06, 'epoch': 0.99}\n"
     ]
    },
    {
     "data": {
      "application/vnd.jupyter.widget-view+json": {
       "model_id": "46a9186040fa4d3bb0d2918fef0969b0",
       "version_major": 2,
       "version_minor": 0
      },
      "text/plain": [
       "  0%|          | 0/10 [00:00<?, ?it/s]"
      ]
     },
     "metadata": {},
     "output_type": "display_data"
    },
    {
     "name": "stdout",
     "output_type": "stream",
     "text": [
      "{'eval_loss': 4.053211688995361, 'eval_runtime': 0.4496, 'eval_samples_per_second': 22.243, 'eval_steps_per_second': 22.243, 'epoch': 0.99}\n",
      "{'loss': 3.905, 'grad_norm': 20.508441925048828, 'learning_rate': 0.0, 'epoch': 1.0}\n"
     ]
    },
    {
     "data": {
      "application/vnd.jupyter.widget-view+json": {
       "model_id": "292ff57da33347ccb068f8a9bb96f7b7",
       "version_major": 2,
       "version_minor": 0
      },
      "text/plain": [
       "  0%|          | 0/10 [00:00<?, ?it/s]"
      ]
     },
     "metadata": {},
     "output_type": "display_data"
    },
    {
     "name": "stdout",
     "output_type": "stream",
     "text": [
      "{'eval_loss': 4.053027629852295, 'eval_runtime': 0.4658, 'eval_samples_per_second': 21.468, 'eval_steps_per_second': 21.468, 'epoch': 1.0}\n",
      "{'train_runtime': 80.4489, 'train_samples_per_second': 1.119, 'train_steps_per_second': 1.119, 'train_loss': 4.070558097627428, 'epoch': 1.0}\n"
     ]
    },
    {
     "data": {
      "text/plain": [
       "TrainOutput(global_step=90, training_loss=4.070558097627428, metrics={'train_runtime': 80.4489, 'train_samples_per_second': 1.119, 'train_steps_per_second': 1.119, 'total_flos': 1469794222080.0, 'train_loss': 4.070558097627428, 'epoch': 1.0})"
      ]
     },
     "execution_count": 4,
     "metadata": {},
     "output_type": "execute_result"
    }
   ],
   "source": [
    "ep = 1\n",
    "dc = DataCollatorForLanguageModeling(tokenizer=t, mlm=False)\n",
    "model = GPT2LMHeadModel.from_pretrained('distilgpt2')\n",
    "trargs = TrainingArguments(\".\", do_train=True, num_train_epochs=ep, per_device_train_batch_size=1, logging_steps=1, learning_rate=0.0001,\n",
    "        per_device_eval_batch_size=1, evaluation_strategy=\"steps\", eval_steps=1)\n",
    "tr = Trainer(model=model, args=trargs, train_dataset=d0, eval_dataset=dval, tokenizer=t, data_collator=dc)\n",
    "tr.train()"
   ]
  },
  {
   "cell_type": "code",
   "execution_count": null,
   "metadata": {},
   "outputs": [],
   "source": []
  }
 ],
 "metadata": {
  "kernelspec": {
   "display_name": "nn_speech_recognition-qgr9tgLb",
   "language": "python",
   "name": "python3"
  },
  "language_info": {
   "codemirror_mode": {
    "name": "ipython",
    "version": 3
   },
   "file_extension": ".py",
   "mimetype": "text/x-python",
   "name": "python",
   "nbconvert_exporter": "python",
   "pygments_lexer": "ipython3",
   "version": "3.12.4"
  }
 },
 "nbformat": 4,
 "nbformat_minor": 2
}
