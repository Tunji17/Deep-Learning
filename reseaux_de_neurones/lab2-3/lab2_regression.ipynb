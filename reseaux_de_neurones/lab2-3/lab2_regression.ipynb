{
 "cells": [
  {
   "cell_type": "markdown",
   "metadata": {},
   "source": [
    "# Regression in Pytorch\n",
    "\n",
    "**Name**:\n",
    "\n",
    "In the previous lab, we have seen the basics of Pytorch and how to manipulate data through datasets and dataloaders.  However, the strength of Pytorch is its ability to define and train *models*. In this lab, we see how to do that for regression tasks.\n",
    "\n",
    "## Preliminaries (course reminder)\n",
    "\n",
    "Modeling data basically means designing a mapping (=a mathematical function $f$) between inputs $x$ and outputs data $y$, such that $ y \\approx f(x)$. For instance, in age dection, the input data $x$ is the set of pixel values of a person's photo, and the output is the number $y$ corresponding to the age of that person.\n",
    "\n",
    "<center><a href=\"https://pyimagesearch.com/2020/04/13/opencv-age-detection-with-deep-learning/\">\n",
    "    <img src=\"https://b2633864.smushcdn.com/2633864/wp-content/uploads/2020/04/opencv_age_detection_examples.jpg?lossy=1&strip=1&webp=1\" width=\"550\"></a></center>\n",
    "    \n",
    "To perform such a task, we have to:\n",
    "\n",
    "- Design a model $f$, that is, we specify a general mathematical function (e.g., a neural network) with some parameters (either a few or millions). Then, we can compute the predicted age $y_{\\text{pred}}$ by passing the input to the function: $y_{\\text{pred}} = f(x)$.\n",
    "- Train $f$ using a dataset of known image/age pairs (a *training dataset*) in order to adjust the parameters of the model. We do that by considering an *optimization* problem: ideally, we want the predicted age to be as close as possible to the true age $y$. Therefore, we define a *loss function* which measures the difference between $y$ and $y_{\\text{pred}}$, and we want adjust the parameters of the model $f$ such that they minimize this loss function. This is achieved by using an optimization algorithm such as stochastic gradient descent, which is directly implemented in Pytorch.\n",
    "\n",
    "Once the model is designed and trained, we can use it for performing predictions on novel data.\n",
    "\n",
    "Broadly speaking, there are two types of tasks in machine learning, depending on the nature of the output $y$:\n",
    "- if $y$ can take only a finite number of values (usually represented as integers), then it's a *classification* task. The most basic case is when there are only two possible classes (binary classification). Examples are hate speech detection (1 = hate, 0 = no hate), recommender systems (1 = like, 0 = dislike), spam detection (1 = spam, 0 = not spam), etc.\n",
    "- if $y$ ranges in a continuous (and therefore infinite) set of values, then it's a *regression* task. Examples are age prediction as above ($y \\in [0, 100]$, or any arbitrary high value), estimating the price of a product, weather forecast, etc.\n",
    "\n",
    "We will study classification in the next lab. In this one, we focus on regression, and we consider generic numerical data $x$ and $y$. But before diving into regression, let's learn a bit about the Autograd module."
   ]
  },
  {
   "cell_type": "code",
   "execution_count": 54,
   "metadata": {},
   "outputs": [],
   "source": [
    "import torch\n",
    "import torch.nn as nn\n",
    "import matplotlib.pyplot as plt"
   ]
  },
  {
   "cell_type": "markdown",
   "metadata": {},
   "source": [
    "## Automatic differentiation (Autograd)\n",
    "\n",
    "Autograd is the Pytorch engine that performs gradient tracking and computation. It really is the core of neural networks training, since optimization algorithms like stochastic gradient descent rely on gradient computation. Every tensor in Pytorch not only contains some values (the data itself), but also stores the gradients related to operations that have been computed using these tensors."
   ]
  },
  {
   "cell_type": "code",
   "execution_count": 55,
   "metadata": {},
   "outputs": [
    {
     "name": "stdout",
     "output_type": "stream",
     "text": [
      "False\n"
     ]
    }
   ],
   "source": [
    "# By default, when tensors are created their gradients is not tracked\n",
    "x = torch.ones(1, 10)\n",
    "print(x.requires_grad)"
   ]
  },
  {
   "cell_type": "code",
   "execution_count": 56,
   "metadata": {},
   "outputs": [
    {
     "name": "stdout",
     "output_type": "stream",
     "text": [
      "True\n",
      "True\n"
     ]
    }
   ],
   "source": [
    "# You can change it using the requires_grad_() method\n",
    "x.requires_grad_()\n",
    "print(x.requires_grad)\n",
    "\n",
    "# Alternatively, when creating a tensor, you can directly set 'requires_grad=True'\n",
    "x = torch.ones(1, 10, requires_grad=True)\n",
    "print(x.requires_grad)"
   ]
  },
  {
   "cell_type": "code",
   "execution_count": 57,
   "metadata": {},
   "outputs": [
    {
     "name": "stdout",
     "output_type": "stream",
     "text": [
      "None\n"
     ]
    }
   ],
   "source": [
    "# You can access the gradient stored in x with 'x.grad'.\n",
    "# However, since no computation has been performed yet, it should return 'None'\n",
    "print(x.grad)"
   ]
  },
  {
   "cell_type": "code",
   "execution_count": 58,
   "metadata": {},
   "outputs": [
    {
     "name": "stdout",
     "output_type": "stream",
     "text": [
      "<AddBackward0 object at 0x717654197a60>\n",
      "<MulBackward0 object at 0x717654197a60>\n",
      "<MeanBackward0 object at 0x717654197a60>\n"
     ]
    }
   ],
   "source": [
    "# If you create a tensor y from x using any torch operation, it will have a gradient function (grad_fn) which is specific to this operation\n",
    "y = x + 50\n",
    "print(y.grad_fn)\n",
    "\n",
    "y = 3 * x\n",
    "print(y.grad_fn)\n",
    "\n",
    "y = x.mean()\n",
    "print(y.grad_fn)"
   ]
  },
  {
   "cell_type": "markdown",
   "metadata": {},
   "source": [
    "As an example, let's define an operation involving a 1D data tensor $\\mathbf{x} = [x_0, \\ldots, x_{9}]$ and a parameter $a$:\n",
    "\n",
    "$$ loss = a \\times \\sum_i x_i $$\n",
    "\n",
    "We can mathematically compute the gradient of $loss$ with respect to $a$ and $\\mathbf{x}$:\n",
    "\n",
    "$$ \\nabla_{a} loss = \\sum_i x_i $$\n",
    "and\n",
    "$$  \\nabla_{x_i} loss = a \\quad (\\text{or in vector form:} \\quad \\nabla_{\\mathbf{x}} loss = [a, \\ldots, a]) $$\n",
    "\n",
    "Of course, on this example it's easy to compute gradients by hand. But when working with deep neural networks with millions of parameters, it can be a bit more complicated. The good news is that Pytorch does it automatically for us, thanks to the `backward()` method."
   ]
  },
  {
   "cell_type": "code",
   "execution_count": 59,
   "metadata": {},
   "outputs": [
    {
     "name": "stdout",
     "output_type": "stream",
     "text": [
      "True\n",
      "<MulBackward0 object at 0x717654209750>\n"
     ]
    }
   ],
   "source": [
    "# Let's implement the above:\n",
    "a = torch.tensor([3.], requires_grad=True)\n",
    "x = torch.ones(1, 10, requires_grad=True)\n",
    "\n",
    "loss = x.sum() * a\n",
    "\n",
    "print(loss.requires_grad)\n",
    "print(loss.grad_fn)"
   ]
  },
  {
   "cell_type": "code",
   "execution_count": 60,
   "metadata": {},
   "outputs": [
    {
     "name": "stdout",
     "output_type": "stream",
     "text": [
      "tensor([[3., 3., 3., 3., 3., 3., 3., 3., 3., 3.]])\n",
      "tensor([10.])\n"
     ]
    }
   ],
   "source": [
    "# Now, let's compute the gradient of the loss with respect to x and a\n",
    "loss.backward()\n",
    "\n",
    "# These gradients are stored in x.grad and a.grad\n",
    "print(x.grad)\n",
    "print(a.grad)"
   ]
  },
  {
   "cell_type": "markdown",
   "metadata": {},
   "source": [
    "As you can see, `x.grad` and `a.grad` contain $\\nabla_{\\mathbf{x}} loss$ and $\\nabla_a loss$, respectively.\n",
    "\n",
    "**Note**: In this example, we have computed the gradient with respect to both the input data $\\mathbf{x}$ and the parameter $a$, but this is only for illustrative purpose. Indeed, in practice, we do not compute the gradient with respect to the data ($\\mathbf{x}$) because it is fixed; we are only interested in the gradient with respect to the parameter ($a$), since this is what we optimize using gradient descent."
   ]
  },
  {
   "cell_type": "code",
   "execution_count": 61,
   "metadata": {},
   "outputs": [
    {
     "name": "stdout",
     "output_type": "stream",
     "text": [
      "False\n"
     ]
    }
   ],
   "source": [
    "# After a model is trained, we no longer need to compute its gradient. Therefore, when doing prediction,\n",
    "# we can disable gradient tracking to save memory and computational time\n",
    "\n",
    "with torch.no_grad():\n",
    "    loss = x.sum() * a\n",
    "    print(loss.requires_grad)"
   ]
  },
  {
   "cell_type": "markdown",
   "metadata": {},
   "source": [
    "<span style=\"color:red\">**Exercice 1**</span> Follow the instructions below in order to print the gradient of the loss with respect to parameters `w` and `b`."
   ]
  },
  {
   "cell_type": "code",
   "execution_count": 62,
   "metadata": {},
   "outputs": [
    {
     "name": "stdout",
     "output_type": "stream",
     "text": [
      "tensor([25.], grad_fn=<PowBackward0>)\n",
      "tensor([-20.])\n",
      "tensor([-10.])\n"
     ]
    }
   ],
   "source": [
    "# TO DO:\n",
    "# - define a data tensor x which simply contains the value 2\n",
    "x = torch.tensor([2.])\n",
    "# - define another data tensor y which simply contains the value 10\n",
    "y = torch.tensor([10.])\n",
    "# - define parameter tensors w and b with values 1 and 3, respectively (these need gradient tracking)\n",
    "w = torch.tensor([1.], requires_grad=True)\n",
    "b = torch.tensor([3.], requires_grad=True)\n",
    "# - compute the loss as: loss=(y - (w*x + b))^2\n",
    "loss = (y - (w*x + b))**2\n",
    "print(loss)\n",
    "# - compute the gradients of loss\n",
    "loss.backward()\n",
    "# - print the value of the gradient of loss with respect to w and b\n",
    "print(w.grad)\n",
    "print(b.grad)\n",
    "# hint: to be sure there's no mistake, you can check if it's correct with a bit of math.\n"
   ]
  },
  {
   "cell_type": "markdown",
   "metadata": {},
   "source": [
    "## Linear regression\n",
    "\n",
    "<center><a href=\"https://kpu.pressbooks.pub/learningstatistics/chapter/linear-regression/\">\n",
    "    <img src=\"https://kpu.pressbooks.pub/app/uploads/sites/66/2019/09/regression1a-1.png\" width=\"500\"></a></center>\n",
    "\n",
    "Let's now address linear regression. Assuming we have several points of data pairs $(x,y)$, the model is simply $f(x) = wx + b$, where $w$ is called *weight* (or slope) and $b$ is called the *bias*. The goal of linear regression is to estimate the optimal $w$ and $b$ from the available training data $x$ and $y$.\n",
    "\n",
    "**Note**: we don't really need Pytorch for solving that problem (indeed, a basic gradient descent algorithm can be implemented directly without too much hassle - if you have some math background and want to have fun, please feel free). Nonetheless, we consider it anyway because it's a good basic exercice, and once linear regression is solved, we can move to more sophisticated nonlinear regression and to (deep) neural networks.\n",
    "\n",
    "### Data"
   ]
  },
  {
   "cell_type": "code",
   "execution_count": 63,
   "metadata": {},
   "outputs": [
    {
     "name": "stdout",
     "output_type": "stream",
     "text": [
      "torch.Size([15, 1]) torch.Size([15, 1])\n"
     ]
    },
    {
     "data": {
      "image/png": "[encoded data removed]",
      "text/plain": [
       "<Figure size 640x480 with 1 Axes>"
      ]
     },
     "metadata": {},
     "output_type": "display_data"
    }
   ],
   "source": [
    "# Create a toy dataset (we store all values of x and y into single tensors 'all_x' and 'all_y')\n",
    "all_x = torch.tensor([[3.3], [4.4], [5.5], [6.71], [6.93], [4.168], [9.779], [6.182], [7.59],\n",
    "                      [2.167], [7.042], [10.791], [5.313], [7.997], [3.1]], dtype=torch.float)\n",
    "all_y = torch.tensor([[1.7], [2.76], [2.09], [3.19], [1.694], [1.573], [3.366], [2.596], [2.53],\n",
    "                      [1.221], [2.827], [3.465], [1.65], [2.904], [1.3]], dtype=torch.float)\n",
    "print(all_x.shape, all_y.shape)\n",
    "\n",
    "# Plot the data (y as a function of x)\n",
    "plt.figure()\n",
    "plt.plot(all_x, all_y, 'bo')\n",
    "plt.xlabel('x'), plt.ylabel('y')\n",
    "plt.show()"
   ]
  },
  {
   "cell_type": "markdown",
   "metadata": {},
   "source": [
    "The data tensors `all_x` and `all_y` we have defined here constitute our *dataset*, which has therefore a length of 15; and each data sample $(x,y)$ is one element in `(all_x,all_y)`. Since it's a very small and simple dataset, we don't need to use a Pytorch `Dataset` or `Dataloader` object as introduced in lab 1; we can directly consider that our dataset consists of 1 batch of data, with a batch size of 15.\n",
    "\n",
    "### Model\n",
    "\n",
    "Let us create our linear model. In pytorch, it's easily done with `nn.Linear` (check the [documentation](https://pytorch.org/docs/stable/generated/torch.nn.Linear.html?highlight=torch%20nn%20linear#torch.nn.Linear)!). In particular, we need to specify the input and output sizes. In our case, these are equal to 1 since we work with scalars. There is also an option `bias` which can be `True` (default) or `False`. If `bias=False`, then $b=0$ and the model reduces to $f(x) = wx$.\n",
    "\n",
    "**Note**: When we create a Pytorch model using any `torch.nn` module, the corresponding parameters have `requires_grad=True` by default, thus you don't need to explicitly specify it."
   ]
  },
  {
   "cell_type": "code",
   "execution_count": 64,
   "metadata": {},
   "outputs": [
    {
     "name": "stdout",
     "output_type": "stream",
     "text": [
      "Parameter containing:\n",
      "tensor([[-0.0198]], requires_grad=True)\n",
      "Parameter containing:\n",
      "tensor([0.7929], requires_grad=True)\n"
     ]
    }
   ],
   "source": [
    "# Create the linear model\n",
    "input_size = 1\n",
    "output_size = 1\n",
    "lin_reg_model = nn.Linear(input_size, output_size, bias=True)\n",
    "\n",
    "# 'lin_reg_model' is a module which contains the linear function and its parameters (weight and bias)\n",
    "# When we instanciate the model, the parameters are initialized with random values\n",
    "# We also remark that both parameters have 'requires_grad=True', which is the normal default behavior.\n",
    "print(lin_reg_model.weight)\n",
    "print(lin_reg_model.bias)"
   ]
  },
  {
   "cell_type": "code",
   "execution_count": 65,
   "metadata": {},
   "outputs": [
    {
     "name": "stdout",
     "output_type": "stream",
     "text": [
      "-0.019813179969787598\n",
      "0.7928894758224487\n"
     ]
    }
   ],
   "source": [
    "# If you only want to display the value of the parameters, use the '.item()' method\n",
    "print(lin_reg_model.weight.item())\n",
    "print(lin_reg_model.bias.item())"
   ]
  },
  {
   "cell_type": "code",
   "execution_count": 66,
   "metadata": {},
   "outputs": [
    {
     "name": "stdout",
     "output_type": "stream",
     "text": [
      "tensor([0.7275], grad_fn=<ViewBackward0>)\n",
      "True\n"
     ]
    }
   ],
   "source": [
    "# Now we can easily compute predictions as y_pred = f(x) as follows:\n",
    "x = all_x[0]\n",
    "y_pred = lin_reg_model(x)\n",
    "print(y_pred)\n",
    "\n",
    "# Since y_pred is computed from the model (which has requires_grad=True), it also has requires_grad=True\n",
    "print(y_pred.requires_grad)"
   ]
  },
  {
   "cell_type": "code",
   "execution_count": 67,
   "metadata": {},
   "outputs": [
    {
     "name": "stdout",
     "output_type": "stream",
     "text": [
      "False\n"
     ]
    },
    {
     "data": {
      "image/png": "[encoded data removed]",
      "text/plain": [
       "<Figure size 640x480 with 1 Axes>"
      ]
     },
     "metadata": {},
     "output_type": "display_data"
    }
   ],
   "source": [
    "# Let's compute predictions for all the data at once:\n",
    "all_y_pred = lin_reg_model(all_x)\n",
    "\n",
    "# If we want to plot all_y_pred, we first need to get rid of the tracked gradient. This is done as follows:\n",
    "all_y_pred = all_y_pred.detach()\n",
    "print(all_y_pred.requires_grad)\n",
    "\n",
    "# We can plot the predicted values on top of the original data\n",
    "plt.figure()\n",
    "plt.plot(all_x, all_y, 'bo', label='Original data')\n",
    "plt.plot(all_x, all_y_pred, 'r', label='Predicted data')\n",
    "plt.xlabel('x'), plt.ylabel('y')\n",
    "plt.legend()\n",
    "plt.show()"
   ]
  },
  {
   "cell_type": "code",
   "execution_count": 68,
   "metadata": {},
   "outputs": [
    {
     "name": "stdout",
     "output_type": "stream",
     "text": [
      "Parameter containing:\n",
      "tensor([[2.]], requires_grad=True)\n",
      "Parameter containing:\n",
      "tensor([3.], requires_grad=True)\n"
     ]
    }
   ],
   "source": [
    "# It is possible to manually change the values of the parameters (weight and bias):\n",
    "lin_reg_model.weight.data.fill_(2)\n",
    "lin_reg_model.bias.data.fill_(3)\n",
    "\n",
    "print(lin_reg_model.weight)\n",
    "print(lin_reg_model.bias)"
   ]
  },
  {
   "cell_type": "code",
   "execution_count": 69,
   "metadata": {},
   "outputs": [
    {
     "name": "stdout",
     "output_type": "stream",
     "text": [
      "False\n"
     ]
    },
    {
     "data": {
      "image/png": "[encoded data removed]",
      "text/plain": [
       "<Figure size 640x480 with 1 Axes>"
      ]
     },
     "metadata": {},
     "output_type": "display_data"
    }
   ],
   "source": [
    "# TO DO:\n",
    "# - set the weight and bias of the linear model at 0.5 and -1, respectively.\n",
    "lin_reg_model.weight.data.fill_(0.5)\n",
    "lin_reg_model.bias.data.fill_(-1)\n",
    "# - compute the new predictions all_y_pred with this model\n",
    "all_y_pred = lin_reg_model(all_x)\n",
    "# - plot the predictions on top of the original data\n",
    "# If we want to plot all_y_pred, we first need to get rid of the tracked gradient. This is done as follows:\n",
    "all_y_pred = all_y_pred.detach()\n",
    "print(all_y_pred.requires_grad)\n",
    "\n",
    "# We can plot the predicted values on top of the original data\n",
    "plt.figure()\n",
    "plt.plot(all_x, all_y, 'bo', label='Original data')\n",
    "plt.plot(all_x, all_y_pred, 'r', label='Predicted data')\n",
    "plt.xlabel('x'), plt.ylabel('y')\n",
    "plt.legend()\n",
    "plt.show()\n"
   ]
  },
  {
   "cell_type": "markdown",
   "metadata": {},
   "source": [
    "### Training\n",
    "\n",
    "Now that our model is defined, we have to train it, that is, to optimize the values of the weight and bias $w$ and $b$. To do that, we first define the [loss function](https://pytorch.org/docs/stable/nn.html#loss-functions) and the `optimizer` (i.e., [the optimization algorithm](https://pytorch.org/docs/stable/optim.html#algorithms))."
   ]
  },
  {
   "cell_type": "code",
   "execution_count": 70,
   "metadata": {},
   "outputs": [
    {
     "name": "stdout",
     "output_type": "stream",
     "text": [
      "Parameter containing:\n",
      "tensor([[1.]], requires_grad=True)\n",
      "Parameter containing:\n",
      "tensor([1.], requires_grad=True)\n"
     ]
    }
   ],
   "source": [
    "# TO DO: first, re-instanciate the model and set both the weight and bias at 1.\n",
    "# This will avoid random values and ensure reproducibility (everyone should get the same results)\n",
    "input_size = 1\n",
    "output_size = 1\n",
    "lin_reg_model = nn.Linear(input_size, output_size, bias=True)\n",
    "lin_reg_model.weight.data.fill_(1)\n",
    "lin_reg_model.bias.data.fill_(1)\n",
    "\n",
    "print(lin_reg_model.weight)\n",
    "print(lin_reg_model.bias)\n"
   ]
  },
  {
   "cell_type": "code",
   "execution_count": 71,
   "metadata": {},
   "outputs": [],
   "source": [
    "# For linear regression, it is common to use the mean square error (MSE) as loss function\n",
    "loss_fn = nn.MSELoss() \n",
    "\n",
    "# For the optimizer, let's use stochastic gradient (SGD). In Pytorch, we need to specify:\n",
    "# - which parameters are going to be updated (= the model's parameters)\n",
    "# - the learning rate\n",
    "optimizer = torch.optim.SGD(lin_reg_model.parameters(), lr=0.01)"
   ]
  },
  {
   "cell_type": "markdown",
   "metadata": {},
   "source": [
    "Let us briefly recap the gradient descent procedure for training (we note $\\mathcal{L}$ the loss function and $\\mu$ the learning rate). At each iteration (or *epoch*), we perform the following operations:\n",
    "1. Using the current model's parameters, compute the predictions: $y_{\\text{pred}} = f(x)$\n",
    "2. Using the loss function, compute the error between true values and predictions: $l = \\mathcal{L}(y_{\\text{pred}},y)$\n",
    "3. Compute the gradients of the loss with respect to the parameters. If there are only two parameters $w$ and $b$, then we have to compute $\\nabla_{w} l$ and $\\nabla_{b} l$.\n",
    "4. Perform gradient descent, that is, update the parameters with: $w \\leftarrow w - \\mu \\nabla_{w} l$ and $b \\leftarrow b - \\mu \\nabla_{b} l$\n",
    "\n",
    "The good news is that we don't have to explicitly code steps 3. and 4., since Pytorch takes care about that for us with simple functions: all gradients are computed with `l.backward()` (we have seen this one already) and the gradient descent is simply performed with `optimizer.step()`.\n",
    "\n",
    "**Note**: before computing the gradients with `l.backward()`, it's safer to remove all possible gradients that have been computed beforehand (e.g., from another model, or stored in the memory) to avoid numerical issues. This is easily done with: `optimizer.zero_grad()`.\n",
    "\n",
    "<span style=\"color:red\">**Exercice 2**</span> Write the training loop for 10 epochs. At the end of each epoch, print the value of the loss (it's easily accessed with `l.item()`). After training, print the final values of the weight $w$ and bias $b$."
   ]
  },
  {
   "cell_type": "code",
   "execution_count": 72,
   "metadata": {},
   "outputs": [
    {
     "name": "stdout",
     "output_type": "stream",
     "text": [
      "Training the model...\n",
      "Epoch: 0 Loss: 25.676067352294922\n",
      "Epoch: 1 Loss: 0.6435868144035339\n",
      "Epoch: 2 Loss: 0.18030418455600739\n",
      "Epoch: 3 Loss: 0.17171698808670044\n",
      "Epoch: 4 Loss: 0.17154482007026672\n",
      "Epoch: 5 Loss: 0.17152836918830872\n",
      "Epoch: 6 Loss: 0.17151494324207306\n",
      "Epoch: 7 Loss: 0.17150162160396576\n",
      "Epoch: 8 Loss: 0.17148835957050323\n",
      "Epoch: 9 Loss: 0.1714751422405243\n",
      "Parameter containing:\n",
      "tensor([[0.2400]], requires_grad=True)\n",
      "Parameter containing:\n",
      "tensor([0.8871], requires_grad=True)\n"
     ]
    }
   ],
   "source": [
    "print(\"Training the model...\")\n",
    "for epoch in range(10):\n",
    "  # Forward pass\n",
    "  all_y_pred = lin_reg_model(all_x)\n",
    "  \n",
    "  # Compute the loss\n",
    "  loss = loss_fn(all_y_pred, all_y)\n",
    "  \n",
    "  # zero gradients\n",
    "  optimizer.zero_grad()\n",
    "  \n",
    "  # Backward pass\n",
    "  loss.backward()\n",
    "  \n",
    "  # Update the parameters\n",
    "  optimizer.step()\n",
    "  print('Epoch:', epoch, 'Loss:', loss.item())\n",
    "  \n",
    "# Final weight and bias\n",
    "print(lin_reg_model.weight)\n",
    "print(lin_reg_model.bias)"
   ]
  },
  {
   "cell_type": "markdown",
   "metadata": {},
   "source": [
    "### Vizualization\n",
    "\n",
    "After training, you can use the trained model to compute the final estimates `all_y_pred`, and compare them to the original data. It is useful to vizualise whether the model properly fits the data or not."
   ]
  },
  {
   "cell_type": "code",
   "execution_count": 73,
   "metadata": {},
   "outputs": [
    {
     "data": {
      "image/png": "[encoded data removed]",
      "text/plain": [
       "<Figure size 640x480 with 1 Axes>"
      ]
     },
     "metadata": {},
     "output_type": "display_data"
    }
   ],
   "source": [
    "# TO DO: Compute the final estimates all_y_pred using the trained model, and plot the results (original data and predictions)\n",
    "all_y_pred = lin_reg_model(all_x)\n",
    "all_y_pred = all_y_pred.detach()\n",
    "plt.figure()\n",
    "plt.plot(all_x, all_y, 'bo', label='Original data')\n",
    "plt.plot(all_x, all_y_pred, 'r', label='Predicted data')\n",
    "plt.xlabel('x'), plt.ylabel('y')\n",
    "plt.legend()\n",
    "plt.show()"
   ]
  },
  {
   "cell_type": "markdown",
   "metadata": {},
   "source": [
    "Congrats, you have just trained and saved your first model in Pytorch! In practice, this is how easy working with neural networks is, and the training function is always pretty much the same, up to one difference: here he have use the whole dataset (`all_x`) directly, but real-world datasets are much larger, so we need to split it into batches using a `Dataloader` (as we've seen in lab 1), and iterate over these batches (as we will see in lab 3).\n",
    "\n",
    "### Saving and loading a model\n",
    "\n",
    "You can save a trained model in an external file in order to reuse it later (e.g., evaluate it in a separate script, resume training, fine-tune it on a different dataset, share it with other developpers, etc.). In PyTorch, you can either save the *whole model*, which includes all its architecture details; or only the *model's parameters* (weights and biases). The latter is the [recommended way](https://pytorch.org/tutorials/beginner/saving_loading_models.html).\n"
   ]
  },
  {
   "cell_type": "code",
   "execution_count": 74,
   "metadata": {},
   "outputs": [],
   "source": [
    "# Save the trained model's parameters\n",
    "torch.save(lin_reg_model.state_dict(), 'model_linear_regression.pt')"
   ]
  },
  {
   "cell_type": "code",
   "execution_count": 75,
   "metadata": {},
   "outputs": [
    {
     "name": "stdout",
     "output_type": "stream",
     "text": [
      "weight after loading the trained model: 0.2399560809135437\n",
      "bias after loading the trained model: 0.8870622515678406\n"
     ]
    }
   ],
   "source": [
    "# To load it, you need to first instanciate a model using the class definition, and then load the parameters\n",
    "loaded_model = nn.Linear(input_size, output_size, bias=True)\n",
    "loaded_model.load_state_dict(torch.load('model_linear_regression.pt'))\n",
    "\n",
    "# Print the value of the weight and bias to check it's the same as when finishing training above\n",
    "print('weight after loading the trained model:', loaded_model.weight.item())\n",
    "print('bias after loading the trained model:', loaded_model.bias.item())"
   ]
  },
  {
   "cell_type": "markdown",
   "metadata": {},
   "source": [
    "## Nonlinear regression\n",
    "\n",
    "We now address the more elaborate task of *nonlinear regression*, where $f$ is no longer a simple linear/affine function.\n",
    "\n",
    "<center><a href=\"https://www.r-bloggers.com/2016/02/first-steps-with-non-linear-regression-in-r/\">\n",
    "    <img src=\"https://i0.wp.com/datascienceplus.com/wp-content/uploads/2016/02/NLS_2.png\" width=\"400\"></a></center>\n",
    "\n",
    "In some scenarios, analyzing/vizualizing the data allows to recognize the nature of $f$ (polynomial, exponential, logarithm...). But sometimes, things get more complicated and even vizualization is not straightforward (e.g., when working with high-dimensional data such as images, audio signals, text data...). That's where neural networks become useful: we only define a general function architecture by assembling elementary operators (linear layers and *activation functions*), which allows to approximate any complicated function (remember the [universal approximation theorem](https://en.wikipedia.org/wiki/Universal_approximation_theorem)).\n",
    "\n",
    "### Data\n",
    "\n",
    "For this example, we consider sinusoidal-like data - of course in this case we know the function $f$, but let's pretend we don't and see if we can approximate it using a neural network."
   ]
  },
  {
   "cell_type": "code",
   "execution_count": 76,
   "metadata": {},
   "outputs": [
    {
     "name": "stdout",
     "output_type": "stream",
     "text": [
      "torch.Size([60])\n",
      "torch.Size([60, 1])\n"
     ]
    },
    {
     "data": {
      "image/png": "[encoded data removed]",
      "text/plain": [
       "<Figure size 640x480 with 1 Axes>"
      ]
     },
     "metadata": {},
     "output_type": "display_data"
    }
   ],
   "source": [
    "# TO DO: generate sinusoidal data:\n",
    "# - create a tensor all_x which ranges from -3 to 3 with a step of 0.1\n",
    "all_x = torch.arange(-3, 3, 0.1)\n",
    "print(all_x.shape)\n",
    "# - unsqueeze it to add an extra dimension (its shape should be [60, 1])\n",
    "all_x = all_x.unsqueeze(1)\n",
    "print(all_x.shape)\n",
    "# - compute all_y = cos(all_x)\n",
    "all_y = torch.cos(all_x)\n",
    "# - plot all_y as a function of all_x\n",
    "plt.figure()\n",
    "plt.plot(all_x, all_y)\n",
    "plt.xlabel('x'), plt.ylabel('y')\n",
    "plt.show()\n",
    "\n"
   ]
  },
  {
   "cell_type": "markdown",
   "metadata": {},
   "source": [
    "### Model\n",
    "\n",
    "As recalled above, the core idea behind neural networks is to assemble simple mathematical operations to approximate a potentially complicated function. For instance, in multilayer perceptrons (MLP), a network is designed by concatenating several layers, where each layer consists of:\n",
    "- a linear function\n",
    "- (potentially) a non-linear element-wise *activation* function\n",
    "\n",
    "There is a plethora of nonlinear activation functions, which you can check [here](https://pytorch.org/docs/stable/nn.html#non-linear-activations-weighted-sum-nonlinearity). A popular one is the rectified linear unit ([ReLU](https://pytorch.org/docs/stable/generated/torch.nn.ReLU.html#torch.nn.ReLU)).\n",
    "\n",
    "Here, we propose to approximate our sinusoidal data with a simple network made up with 2 linear layers and 1 activation function in between:\n",
    "\n",
    "<center> $x \\to$ Linear_1 $\\to$ ReLU $\\to$ Linear_2 $\\to y$</center>\n",
    "&nbsp;\n",
    "\n",
    "where the first linear layer increases the dimension (`input_size=1` and `output_size=3`) and the second linear layer decreases the dimension (input and output sizes are inverted). To build the complete model, you can stack the separate layers together into one model using the [Sequential](https://pytorch.org/docs/stable/generated/torch.nn.Sequential.html#torch.nn.Sequential) function."
   ]
  },
  {
   "cell_type": "code",
   "execution_count": 77,
   "metadata": {},
   "outputs": [
    {
     "name": "stdout",
     "output_type": "stream",
     "text": [
      "torch.Size([60, 1])\n"
     ]
    }
   ],
   "source": [
    "# TO DO: write the 'nonlin_reg_model' model described above.\n",
    "# When it's done, compute nonlin_reg_model(all_x) to be sure there are no bugs\n",
    "nonlin_reg_model = nn.Sequential(\n",
    "    nn.Linear(1, 3),\n",
    "    nn.ReLU(),\n",
    "    nn.Linear(3, 1)\n",
    ")\n",
    "\n",
    "# Compute the predictions\n",
    "all_y_pred = nonlin_reg_model(all_x)\n",
    "print(all_y_pred.shape)"
   ]
  },
  {
   "cell_type": "code",
   "execution_count": 78,
   "metadata": {},
   "outputs": [
    {
     "data": {
      "text/plain": [
       "Sequential(\n",
       "  (0): Linear(in_features=1, out_features=3, bias=True)\n",
       "  (1): ReLU()\n",
       "  (2): Linear(in_features=3, out_features=1, bias=True)\n",
       ")"
      ]
     },
     "execution_count": 78,
     "metadata": {},
     "output_type": "execute_result"
    }
   ],
   "source": [
    "# initialization (ensure reproducibility: everybody should have the same results)\n",
    "def init_weights(m):\n",
    "    if isinstance(m, nn.Linear):\n",
    "        torch.nn.init.xavier_uniform_(m.weight.data)\n",
    "        m.bias.data.fill_(0.01)\n",
    "\n",
    "torch.manual_seed(0)\n",
    "nonlin_reg_model.apply(init_weights)"
   ]
  },
  {
   "cell_type": "markdown",
   "metadata": {},
   "source": [
    "### Training\n",
    "\n",
    "The training procedure is similar to the linear regression case we handled before. We use the MSE function, 50 epochs, and the algorithm is SGD with a learning rate of 0.1.\n",
    "\n",
    "**Note**: Every time you train a new model, you need to define a new optimizer, in order to make sure you're updating the parameters of this new model (here: `nonlin_reg_model`). Otherwise, you will likely be optimizing the parameters of the previous model..."
   ]
  },
  {
   "cell_type": "code",
   "execution_count": 79,
   "metadata": {},
   "outputs": [],
   "source": [
    "# Training parameters\n",
    "num_epochs = 50\n",
    "loss_fn = torch.nn.MSELoss() \n",
    "optimizer = torch.optim.SGD(nonlin_reg_model.parameters(), lr=0.1)"
   ]
  },
  {
   "cell_type": "markdown",
   "metadata": {},
   "source": [
    "<span style=\"color:red\">**Exercice 3**</span> Write the training loop for the nonlinear model, and store the loss over epochs into a list. After training, save the model's parameters and plot the loss over epochs."
   ]
  },
  {
   "cell_type": "code",
   "execution_count": 80,
   "metadata": {},
   "outputs": [
    {
     "name": "stdout",
     "output_type": "stream",
     "text": [
      "Epoch: 0 Loss: 0.8169981837272644\n",
      "Epoch: 1 Loss: 0.45279067754745483\n",
      "Epoch: 2 Loss: 0.3724183738231659\n",
      "Epoch: 3 Loss: 0.3247685134410858\n",
      "Epoch: 4 Loss: 0.2903457283973694\n",
      "Epoch: 5 Loss: 0.2638123333454132\n",
      "Epoch: 6 Loss: 0.24239791929721832\n",
      "Epoch: 7 Loss: 0.22399969398975372\n",
      "Epoch: 8 Loss: 0.2077016979455948\n",
      "Epoch: 9 Loss: 0.19311842322349548\n",
      "Epoch: 10 Loss: 0.17986874282360077\n",
      "Epoch: 11 Loss: 0.16754452884197235\n",
      "Epoch: 12 Loss: 0.1560012847185135\n",
      "Epoch: 13 Loss: 0.14515922963619232\n",
      "Epoch: 14 Loss: 0.13514158129692078\n",
      "Epoch: 15 Loss: 0.12570978701114655\n",
      "Epoch: 16 Loss: 0.11683384329080582\n",
      "Epoch: 17 Loss: 0.10849328339099884\n",
      "Epoch: 18 Loss: 0.10066947340965271\n",
      "Epoch: 19 Loss: 0.09334350377321243\n",
      "Epoch: 20 Loss: 0.08649560809135437\n",
      "Epoch: 21 Loss: 0.08010505139827728\n",
      "Epoch: 22 Loss: 0.0741504356265068\n",
      "Epoch: 23 Loss: 0.06860988587141037\n",
      "Epoch: 24 Loss: 0.06346539407968521\n",
      "Epoch: 25 Loss: 0.058731261640787125\n",
      "Epoch: 26 Loss: 0.054339535534381866\n",
      "Epoch: 27 Loss: 0.05026795715093613\n",
      "Epoch: 28 Loss: 0.04649707302451134\n",
      "Epoch: 29 Loss: 0.04300813004374504\n",
      "Epoch: 30 Loss: 0.03978307172656059\n",
      "Epoch: 31 Loss: 0.03680459037423134\n",
      "Epoch: 32 Loss: 0.03405614569783211\n",
      "Epoch: 33 Loss: 0.0315309576690197\n",
      "Epoch: 34 Loss: 0.02921387366950512\n",
      "Epoch: 35 Loss: 0.027080444619059563\n",
      "Epoch: 36 Loss: 0.02511703222990036\n",
      "Epoch: 37 Loss: 0.02331101894378662\n",
      "Epoch: 38 Loss: 0.021650606766343117\n",
      "Epoch: 39 Loss: 0.020124834030866623\n",
      "Epoch: 40 Loss: 0.018723415210843086\n",
      "Epoch: 41 Loss: 0.017436806112527847\n",
      "Epoch: 42 Loss: 0.016256090253591537\n",
      "Epoch: 43 Loss: 0.015172983519732952\n",
      "Epoch: 44 Loss: 0.014179777354001999\n",
      "Epoch: 45 Loss: 0.013269325718283653\n",
      "Epoch: 46 Loss: 0.012434999458491802\n",
      "Epoch: 47 Loss: 0.0116706732660532\n",
      "Epoch: 48 Loss: 0.010970641858875751\n",
      "Epoch: 49 Loss: 0.010329675860702991\n",
      "Final weights and bias: Parameter containing:\n",
      "tensor([[-0.5488],\n",
      "        [ 0.8903],\n",
      "        [-0.9542]], requires_grad=True) Parameter containing:\n",
      "tensor([-0.2469, -0.2089, -0.0307], requires_grad=True)\n"
     ]
    }
   ],
   "source": [
    "for epoch in range(num_epochs):\n",
    "    # forward pass\n",
    "    all_y_pred = nonlin_reg_model(all_x)\n",
    "    \n",
    "    # compute the loss\n",
    "    loss = loss_fn(all_y_pred, all_y)\n",
    "    \n",
    "    # zero gradients\n",
    "    optimizer.zero_grad()\n",
    "    \n",
    "    # backward pass\n",
    "    loss.backward()\n",
    "    \n",
    "    # update the parameters\n",
    "    optimizer.step()\n",
    "    \n",
    "    print('Epoch:', epoch, 'Loss:', loss.item())\n",
    "    \n",
    "print('Final weights and bias:', nonlin_reg_model[0].weight, nonlin_reg_model[0].bias)\n",
    "    "
   ]
  },
  {
   "cell_type": "markdown",
   "metadata": {},
   "source": [
    "<span style=\"color:red\">**Exercice 4**</span> Use the trained model to compute the predicted outputs, and plot the results (original data and predicted outputs)."
   ]
  },
  {
   "cell_type": "code",
   "execution_count": 81,
   "metadata": {},
   "outputs": [
    {
     "data": {
      "image/png": "[encoded data removed]",
      "text/plain": [
       "<Figure size 640x480 with 1 Axes>"
      ]
     },
     "metadata": {},
     "output_type": "display_data"
    }
   ],
   "source": [
    "all_y_pred = nonlin_reg_model(all_x)\n",
    "all_y_pred = all_y_pred.detach()\n",
    "\n",
    "plt.figure()\n",
    "plt.plot(all_x, all_y, 'b', label='Original data')\n",
    "plt.plot(all_x, all_y_pred, 'r', label='Predicted data')\n",
    "plt.xlabel('x'), plt.ylabel('y')\n",
    "plt.legend()\n",
    "plt.show()"
   ]
  },
  {
   "cell_type": "code",
   "execution_count": null,
   "metadata": {},
   "outputs": [],
   "source": []
  }
 ],
 "metadata": {
  "kernelspec": {
   "display_name": "Python 3 (ipykernel)",
   "language": "python",
   "name": "python3"
  },
  "language_info": {
   "codemirror_mode": {
    "name": "ipython",
    "version": 3
   },
   "file_extension": ".py",
   "mimetype": "text/x-python",
   "name": "python",
   "nbconvert_exporter": "python",
   "pygments_lexer": "ipython3",
   "version": "3.10.12"
  }
 },
 "nbformat": 4,
 "nbformat_minor": 4
}
