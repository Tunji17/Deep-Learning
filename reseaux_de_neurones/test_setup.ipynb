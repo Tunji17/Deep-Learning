{
 "cells": [
  {
   "cell_type": "code",
   "execution_count": null,
   "id": "3985f6e2",
   "metadata": {},
   "outputs": [],
   "source": [
    "import torch\n",
    "import torchvision\n",
    "import torchaudio\n",
    "import torchtext\n",
    "import spacy\n",
    "import datasets\n",
    "import numpy as np\n",
    "import matplotlib\n",
    "import os\n",
    "import random\n",
    "import fnmatch\n",
    "from IPython.display import Audio, display\n",
    "import string\n",
    "import copy\n",
    "from sklearn.manifold import TSNE\n",
    "from sklearn.preprocessing import MinMaxScaler, QuantileTransformer\n",
    "\n",
    "print('All imports done successfully!')"
   ]
  },
  {
   "cell_type": "code",
   "execution_count": null,
   "id": "eeb935e3-4749-49aa-834a-30949d267ee0",
   "metadata": {},
   "outputs": [],
   "source": []
  }
 ],
 "metadata": {
  "kernelspec": {
   "display_name": "Python 3 (ipykernel)",
   "language": "python",
   "name": "python3"
  },
  "language_info": {
   "codemirror_mode": {
    "name": "ipython",
    "version": 3
   },
   "file_extension": ".py",
   "mimetype": "text/x-python",
   "name": "python",
   "nbconvert_exporter": "python",
   "pygments_lexer": "ipython3",
   "version": "3.10.14"
  }
 },
 "nbformat": 4,
 "nbformat_minor": 5
}
