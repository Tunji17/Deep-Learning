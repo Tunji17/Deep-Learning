{
 "cells": [
  {
   "cell_type": "markdown",
   "metadata": {},
   "source": [
    "# RNNs with Attention\n",
    "\n",
    "In lab 8, we have implemented a seq2seq model based on the encoder-decoder structure, which operates as follows:\n",
    "\n",
    "- The input sentence (source) is passed as input to the encoder, which compresses the information it contains into a *context vector* (= the final hidden/cell state of the encoder).\n",
    "- This context vector is then passed to the decoder, which sequentially decodes and updates it and produces the translated output sentence (target).\n",
    "\n",
    "However, there might be a limitation in this process: at a given step of decoding, it might be preferrable to have access to *all* the hidden states from the encoder rather than a single hidden state. This would allow to know which parts of the input sentence are the most relevent to generate the current word in the output sentence.\n",
    "\n",
    "This can be implemented using a mechanism called **attention**, which is the topic of this lab.\n",
    "\n",
    "Note: As in the previous lab, we'll talk about context and attention *vectors*. In practice, these are not vectors but tensors, since we operate on batches of data. Nevertheless we'll talk about *vectors* since it is consistent with the underlying theory.\n",
    "\n",
    "<center><a href=\"https://medium.com/swlh/a-simple-overview-of-rnn-lstm-and-attention-mechanism-9e844763d07b\">\n",
    "    <img src=\"https://miro.medium.com/max/2000/1*FP3zFjdFhNUWEJ9hxeIYOA.png\" width=\"800\"></a></center>\n"
   ]
  },
  {
   "cell_type": "code",
   "execution_count": 1,
   "metadata": {},
   "outputs": [],
   "source": [
    "import torch\n",
    "import torch.nn as nn\n",
    "from torch.utils.data import DataLoader, Subset\n",
    "import copy\n",
    "from matplotlib import pyplot as plt\n",
    "import matplotlib.ticker as ticker\n",
    "import datasets\n",
    "import spacy\n",
    "import torchtext;\n",
    "from torchtext.vocab import build_vocab_from_iterator"
   ]
  },
  {
   "cell_type": "code",
   "execution_count": 2,
   "metadata": {},
   "outputs": [],
   "source": [
    "# Initialization function for the network's parameters\n",
    "def init_params(m, seed=0):\n",
    "    if isinstance(m, nn.Linear):\n",
    "        nn.init.xavier_uniform_(m.weight.data, generator=torch.manual_seed(seed))\n",
    "        if m.bias is not None:\n",
    "            m.bias.data.fill_(0.01)\n",
    "    elif isinstance(m, nn.Embedding):\n",
    "        nn.init.xavier_uniform_(m.weight.data, generator=torch.manual_seed(seed))\n",
    "    elif isinstance(m, nn.LSTM) or isinstance(m, nn.GRU) or isinstance(m, nn.RNN):\n",
    "        for param in m.parameters():\n",
    "            if len(param.shape) >= 2:\n",
    "                nn.init.orthogonal_(param.data, generator=torch.manual_seed(seed))\n",
    "            else:\n",
    "                nn.init.normal_(param.data, generator=torch.manual_seed(seed))\n",
    "    return"
   ]
  },
  {
   "cell_type": "code",
   "execution_count": 3,
   "metadata": {},
   "outputs": [],
   "source": [
    "# Main dataset and pretrained model path - If needed, you can change it HERE but NOWHERE ELSE in the notebook!\n",
    "data_dir = '../datasets/'\n",
    "pretrained_model_path = './model_attention_large.pt'"
   ]
  },
  {
   "cell_type": "markdown",
   "metadata": {},
   "source": [
    "## Dataset and preprocessing\n",
    "\n",
    "The dataset and preprocessing are the same as in lab 8."
   ]
  },
  {
   "cell_type": "code",
   "execution_count": 4,
   "metadata": {},
   "outputs": [],
   "source": [
    "# Load the NLP pipelines\n",
    "en_nlp = spacy.load('en_core_web_sm')\n",
    "de_nlp = spacy.load('de_core_news_sm')\n",
    "\n",
    "# Load (eventually download) the dataset\n",
    "dataset = datasets.load_dataset(\"bentrevett/multi30k\", cache_dir=data_dir)\n",
    "train_data, valid_data, test_data = (dataset[\"train\"], dataset[\"validation\"], dataset[\"test\"])"
   ]
  },
  {
   "cell_type": "code",
   "execution_count": 5,
   "metadata": {},
   "outputs": [],
   "source": [
    "# Tokenization\n",
    "def tokenize_example(example, en_nlp, de_nlp, lower=True, sos_token='<sos>', eos_token='<eos>'):\n",
    "    en_tokens = [token.text for token in en_nlp.tokenizer(example[\"en\"])]\n",
    "    de_tokens = [token.text for token in de_nlp.tokenizer(example[\"de\"])]\n",
    "    if lower:\n",
    "        en_tokens = [token.lower() for token in en_tokens]\n",
    "        de_tokens = [token.lower() for token in de_tokens]\n",
    "    en_tokens = [sos_token] + en_tokens + [eos_token]\n",
    "    de_tokens = [sos_token] + de_tokens + [eos_token]\n",
    "    return {\"en_tokens\": en_tokens, \"de_tokens\": de_tokens}\n",
    "    \n",
    "train_data = train_data.map(tokenize_example, fn_kwargs={\"en_nlp\": en_nlp,\"de_nlp\": de_nlp})\n",
    "valid_data = valid_data.map(tokenize_example, fn_kwargs={\"en_nlp\": en_nlp,\"de_nlp\": de_nlp})\n",
    "test_data = test_data.map(tokenize_example, fn_kwargs={\"en_nlp\": en_nlp,\"de_nlp\": de_nlp})"
   ]
  },
  {
   "cell_type": "code",
   "execution_count": 6,
   "metadata": {},
   "outputs": [],
   "source": [
    "# Vocabularies\n",
    "min_freq = 2\n",
    "en_vocab = build_vocab_from_iterator(\n",
    "    train_data[\"en_tokens\"],\n",
    "    min_freq=min_freq,\n",
    "    specials=[\"<unk>\", \"<pad>\", \"<sos>\", \"<eos>\"],\n",
    ")\n",
    "de_vocab = build_vocab_from_iterator(\n",
    "    train_data[\"de_tokens\"],\n",
    "    min_freq=min_freq,\n",
    "    specials=[\"<unk>\", \"<pad>\", \"<sos>\", \"<eos>\"],\n",
    ")\n",
    "en_vocab.set_default_index(0)\n",
    "de_vocab.set_default_index(0)\n",
    "\n",
    "# Numericalization\n",
    "def numericalize_example(example, en_vocab, de_vocab):\n",
    "    en_ids = en_vocab.lookup_indices(example[\"en_tokens\"])\n",
    "    de_ids = de_vocab.lookup_indices(example[\"de_tokens\"])\n",
    "    return {\"en_ids\": en_ids, \"de_ids\": de_ids}\n",
    "train_data = train_data.map(numericalize_example, fn_kwargs={\"en_vocab\": en_vocab, \"de_vocab\": de_vocab})\n",
    "valid_data = valid_data.map(numericalize_example, fn_kwargs={\"en_vocab\": en_vocab, \"de_vocab\": de_vocab})\n",
    "test_data = test_data.map(numericalize_example, fn_kwargs={\"en_vocab\": en_vocab, \"de_vocab\": de_vocab})\n",
    "\n",
    "# Type (torch tensors)\n",
    "train_data = train_data.with_format(type=\"torch\", columns=[\"en_ids\", \"de_ids\"], output_all_columns=True)\n",
    "valid_data = valid_data.with_format(type=\"torch\", columns=[\"en_ids\", \"de_ids\"], output_all_columns=True)\n",
    "test_data = test_data.with_format(type=\"torch\", columns=[\"en_ids\", \"de_ids\"], output_all_columns=True)"
   ]
  },
  {
   "cell_type": "code",
   "execution_count": 7,
   "metadata": {},
   "outputs": [],
   "source": [
    "# Take a subset of the datasets for faster training\n",
    "train_data = Subset(train_data, range(500))\n",
    "valid_data = Subset(valid_data, range(50))\n",
    "test_data = Subset(test_data, range(50))"
   ]
  },
  {
   "cell_type": "code",
   "execution_count": 8,
   "metadata": {},
   "outputs": [],
   "source": [
    "# Dataloader\n",
    "def get_collate_fn(pad_index):\n",
    "    def collate_fn(batch):\n",
    "        batch_en_ids = [example[\"en_ids\"] for example in batch]\n",
    "        batch_de_ids = [example[\"de_ids\"] for example in batch]\n",
    "        batch_en_ids = nn.utils.rnn.pad_sequence(batch_en_ids, padding_value=pad_index)\n",
    "        batch_de_ids = nn.utils.rnn.pad_sequence(batch_de_ids, padding_value=pad_index)\n",
    "        batch = {\n",
    "            \"en_ids\": batch_en_ids,\n",
    "            \"de_ids\": batch_de_ids,\n",
    "        }\n",
    "        return batch\n",
    "\n",
    "    return collate_fn\n",
    "\n",
    "def get_data_loader(dataset, batch_size, shuffle=False, pad_index=1, seed=0):\n",
    "    collate_fn = get_collate_fn(pad_index)\n",
    "    data_loader = DataLoader(\n",
    "        dataset=dataset,\n",
    "        batch_size=batch_size,\n",
    "        collate_fn=collate_fn,\n",
    "        shuffle=shuffle,\n",
    "        generator=torch.manual_seed(seed)\n",
    "    )\n",
    "    return data_loader\n",
    "\n",
    "batch_size = 32\n",
    "train_dataloader = get_data_loader(train_data, batch_size, shuffle=True)\n",
    "valid_dataloader = get_data_loader(valid_data, batch_size)\n",
    "test_dataloader = get_data_loader(test_data, batch_size)"
   ]
  },
  {
   "cell_type": "code",
   "execution_count": 9,
   "metadata": {},
   "outputs": [
    {
     "name": "stdout",
     "output_type": "stream",
     "text": [
      "torch.Size([22, 32])\n",
      "tensor([   2,   48,   30,   17,  400,   51,    4,    0,    8,    4,  331, 2353,\n",
      "           5,    3,    1,    1,    1,    1,    1,    1,    1,    1])\n"
     ]
    }
   ],
   "source": [
    "# Get an example batch\n",
    "example_batch = next(iter(train_dataloader))\n",
    "example_batch_src, example_batch_trg = example_batch['en_ids'], example_batch['de_ids']\n",
    "print(example_batch_src.shape)\n",
    "print(example_batch_src[:, 0])"
   ]
  },
  {
   "cell_type": "code",
   "execution_count": 10,
   "metadata": {},
   "outputs": [],
   "source": [
    "# Define all the parameters of the network (small model for speed)\n",
    "input_size = len(en_vocab)\n",
    "output_size = len(de_vocab)\n",
    "emb_size_enc = 32\n",
    "emb_size_dec = 32\n",
    "hidden_size = 50\n",
    "n_layers = 1\n",
    "dropout_rate = 0.5"
   ]
  },
  {
   "cell_type": "markdown",
   "metadata": {},
   "source": [
    "## GRU encoder\n",
    "\n",
    "We use a similar encoder to the previous lab. The main difference is that it needs to output the whole sequence of hidden states (not only the final hidden state / context vector) because we will use it in the attention module."
   ]
  },
  {
   "cell_type": "code",
   "execution_count": 11,
   "metadata": {},
   "outputs": [],
   "source": [
    "class Encoder(nn.Module):\n",
    "    def __init__(self, input_size, emb_size_enc, hidden_size, n_layers, dropout_rate):\n",
    "        super().__init__()\n",
    "\n",
    "        # TO DO:\n",
    "        # - store the input parameters as class attributes\n",
    "        # - create the embedding, dropout, and GRU layers (the GRU layer does not use recurrent dropout)\n",
    "        self.input_size = input_size\n",
    "        self.emb_size_enc = emb_size_enc\n",
    "        self.hidden_size = hidden_size\n",
    "        self.n_layers = n_layers\n",
    "        self.dropout_rate = dropout_rate\n",
    "\n",
    "        self.embedding_layer = nn.Embedding(input_size, emb_size_enc)\n",
    "        self.dropout = nn.Dropout(dropout_rate)\n",
    "        self.gru = nn.GRU(emb_size_enc, hidden_size, n_layers)\n",
    "\n",
    "\n",
    "\n",
    "        \n",
    "    def forward(self, src):\n",
    "        \n",
    "        # TO DO:\n",
    "        # - write the forward pass\n",
    "        # - return both outputs of the GRU (call them 'enc_outputs' and 'enc_context')\n",
    "        y = self.embedding_layer(src)\n",
    "        y = self.dropout(y)\n",
    "        enc_outputs, enc_context = self.gru(y)\n",
    "\n",
    "        return enc_outputs, enc_context"
   ]
  },
  {
   "cell_type": "markdown",
   "metadata": {},
   "source": [
    "<span style=\"color:red\">**Exercice 1**</span> Instanciate the encoder and print the number of parameters. Apply the encoder to the example batch and print the shapes of the outputs."
   ]
  },
  {
   "cell_type": "code",
   "execution_count": 12,
   "metadata": {},
   "outputs": [
    {
     "name": "stdout",
     "output_type": "stream",
     "text": [
      "torch.Size([22, 32, 50])\n",
      "torch.Size([1, 32, 50])\n"
     ]
    }
   ],
   "source": [
    "# Instantiate the encoder\n",
    "encoder = Encoder(input_size, emb_size_enc, hidden_size, n_layers, dropout_rate)\n",
    "encoder.apply(init_params)\n",
    "enc_outputs, enc_context = encoder(example_batch_src)\n",
    "print(enc_outputs.shape)\n",
    "print(enc_context.shape)\n"
   ]
  },
  {
   "cell_type": "markdown",
   "metadata": {},
   "source": [
    "## The attention mechanism\n",
    "\n",
    "We now implement the attention mechanism. Intuitively, the idea behind attention is to identify which word of the source sentence is the most important to generate the current word at decoding.\n",
    "\n",
    "Mathematically, let's note $t'$ the current decoding step, $s_{t'-1}$ the previous hidden state of the decoder, and $H = \\{h_1, h_2,...,h_T \\}$  the set of all encoder outputs at the last layer. The attention vector $a_{t'}$ will therefore be calculated from $s_{t'-1}$ and $H$ through a set of operation with learnable parameters.\n",
    "\n",
    "### An example\n",
    "\n",
    "For the very first target token, the previous hidden state is given by $s_0$ = $z$ (= the context vector). The attention mechanism is illustrated below in this case, and we will consider it as example.\n",
    "\n",
    "<center><a href=\"https://github.com/bentrevett/pytorch-seq2seq/blob/master/3%20-%20Neural%20Machine%20Translation%20by%20Jointly%20Learning%20to%20Align%20and%20Translate.ipynb\">\n",
    "    <img src=\"https://github.com/bentrevett/pytorch-seq2seq/raw/49df8404d938a6edbf729876405558cc2c2b3013//assets/seq2seq9.png\" width=\"500\"></a></center>\n"
   ]
  },
  {
   "cell_type": "code",
   "execution_count": 13,
   "metadata": {},
   "outputs": [],
   "source": [
    "# Take the context vector of the encoder and treat it as the first hidden state to the decoder\n",
    "dec_hidden = enc_context"
   ]
  },
  {
   "cell_type": "markdown",
   "metadata": {},
   "source": [
    "The first step is to assemble / combine the current hidden state of the decoder $s_{t'-1}$ (here, it's simply the context vector) and the encoder outputs into a single tensor. There are many ways to do so (addition, multiplication...), here we simply concatenate them.\n",
    "\n",
    "**Note**: this is easy to implement when the recurrent part uses 1 layer; otherwise the computation would be more involved as we'd need to consider the extra dimension corresponding to the number of layers. We leave that to further exploration.\n",
    "\n",
    "Currently (on this example):\n",
    "- `enc_outputs` has a size of `[src_len, batch_size, hidden_size]`\n",
    "- `dec_hidden` has a size of `[1, batch_size, hidden_size]`\n",
    "\n",
    "We want to concatenate them along the last dimension, so first we need to repeat `dec_hidden` along the first dimension `src_len` times. Then, we can perform the concatenation. Finally, we permute the combined tensor so it has a size of `[batch_size, src_len, 2 * hidden_size]`."
   ]
  },
  {
   "cell_type": "code",
   "execution_count": 14,
   "metadata": {},
   "outputs": [
    {
     "name": "stdout",
     "output_type": "stream",
     "text": [
      "torch.Size([32, 22, 100])\n"
     ]
    }
   ],
   "source": [
    "# TO DO: compute this concatenation:\n",
    "# - repeat it using the 'repeat' function (check the doc!)\n",
    "# - concatenate the features using the 'cat' function\n",
    "# - permute the dimensions so the resulting combined input has shape [batch_size, src_len, 2*hidden_size]\n",
    "combined_input = torch.cat((dec_hidden.repeat(enc_outputs.shape[0], 1, 1), enc_outputs), dim=2)\n",
    "combined_input = combined_input.permute(1, 0, 2)\n",
    "print(combined_input.shape)\n"
   ]
  },
  {
   "cell_type": "markdown",
   "metadata": {},
   "source": [
    "We then write a network to compute attention from this combined tensor: $a = f(c)$. This network depends on two parameters values, which are:\n",
    " - `input_size_att`, which is the length of the input combined tensor, thus it's equal to `2 * hidden_size`.\n",
    " - `hidden_size_att`, which corresponds to the intermediate length used in computing the attention vector.\n",
    "\n",
    "The architecture of the network is as follows:\n",
    "\n",
    "- a linear layer that goes from size `input_size_att` to `hidden_size_att`\n",
    "- a tanh activation\n",
    "- a second linear layer, that goes from size `hidden_size_att` to `1`, and does not use bias\n",
    "- a softmax layer that acts along `dim=1`, to ensure that the attention vector sums to 1 for every sentence in the batch"
   ]
  },
  {
   "cell_type": "code",
   "execution_count": 15,
   "metadata": {},
   "outputs": [],
   "source": [
    "# TO DO:\n",
    "# - define the attention network parameters ('input_size_att', and 'hidden_size_att'=50)\n",
    "# - write the attention module\n",
    "# - apply it to the combined input tensor 'comb_inputs'\n",
    "# - squeeze the output and print its shape\n",
    "input_size_att = 2*hidden_size\n",
    "hidden_size_att = 50"
   ]
  },
  {
   "cell_type": "markdown",
   "metadata": {},
   "source": [
    "### The attention module\n",
    "\n",
    "Now, we can use what we did above on the example to write the full attention module in the general case."
   ]
  },
  {
   "cell_type": "code",
   "execution_count": 16,
   "metadata": {},
   "outputs": [],
   "source": [
    "class Attention(nn.Module):\n",
    "    def __init__(self, input_size_att, hidden_size_att):\n",
    "        super().__init__()\n",
    "\n",
    "        # TO DO: store the input parameters as attributes and define the network\n",
    "        self.input_size_att = input_size_att\n",
    "        self.hidden_size_att = hidden_size_att\n",
    "\n",
    "        self.attention_net = nn.Sequential(\n",
    "            nn.Linear(input_size_att, hidden_size_att),\n",
    "            nn.Tanh(),\n",
    "            nn.Linear(hidden_size_att, 1, bias=False),\n",
    "            nn.Softmax(dim=1)\n",
    "        )\n",
    "\n",
    "\n",
    "    def forward(self, dec_hidden, enc_outputs):\n",
    "        # TO DO: write the forward method to compute the attention vector\n",
    "        combined_input = torch.cat((dec_hidden.repeat(enc_outputs.shape[0], 1, 1), enc_outputs), dim=2)\n",
    "        combined_input = combined_input.permute(1, 0, 2)\n",
    "        attention_scores = self.attention_net(combined_input)\n",
    "\n",
    "        return attention_scores"
   ]
  },
  {
   "cell_type": "markdown",
   "metadata": {},
   "source": [
    "<span style=\"color:red\">**Exercice 2**</span> Instanciate an attention module, apply it to `dec_hidden` and `enc_outputs`, and print the size of the attention vector."
   ]
  },
  {
   "cell_type": "code",
   "execution_count": 17,
   "metadata": {},
   "outputs": [],
   "source": [
    "# attention = Attention(input_size_att, hidden_size_att)\n",
    "# attn = attention(dec_hidden, enc_outputs)\n",
    "# print(attn.shape)"
   ]
  },
  {
   "cell_type": "markdown",
   "metadata": {},
   "source": [
    "## Decoder with attention\n",
    "\n",
    "At the decoding step, we can now use the attention vector by applying it to the encoder outputs. This results in the *weighted* vector which is the average of encoder outputs scaled by attention:\n",
    "\n",
    "$$\n",
    "w = \\sum_t a_t \\times h_t\n",
    "$$"
   ]
  },
  {
   "cell_type": "code",
   "execution_count": 18,
   "metadata": {},
   "outputs": [],
   "source": [
    "# TO DO: Compute the weighted vector.\n",
    "# - you need to expand/unsqueeze the attention vector 'a' so it has size [batch_size, 1, src_len]\n",
    "# - you also need to permute the enc_outputs vector so it has size [batch_size, src_len, hidden_size]\n",
    "# - perform multiplication using 'torch.bmm' (no need to use a for loop)\n",
    "# - permute the result so the weighted vector has size [1, batch_size, hidden_size]\n",
    "# a = attn.unsqueeze(1)\n",
    "# # Remove last dimension of a\n",
    "# a = a.squeeze(-1)\n",
    "# print(\"Shape of a:\", a.shape)\n",
    "# enc_outputs = enc_outputs.permute(1, 0, 2)\n",
    "# print(\"Shape of enc_outputs:\", enc_outputs.shape)\n",
    "# multiplicated = torch.bmm(a, enc_outputs)\n",
    "# weighted_vector = multiplicated.permute(1, 0, 2)\n",
    "# print(\"Shape of weighted_vector:\", weighted_vector.shape)\n"
   ]
  },
  {
   "cell_type": "markdown",
   "metadata": {},
   "source": [
    "Finally, we need to take this weighted vector into account when using the RNN (which here is a GRU). We remind that without attention, the recurrent computation is simply $s_{t'} = \\text{GRU}(y_{t'}, s_{t'-1})$ where $y_{t'}$ is the embedding after dropout. When using attention, the formula becomes:\n",
    "\n",
    "$$\n",
    "s_{t'} = \\text{GRU}([y_{t'}, w], s_{t'-1})\n",
    "$$\n",
    "\n",
    "This means the input of the GRU in the decoder is obtained by concatenating the weighted vector with the embedding after dropout $y_{t'}$.\n",
    "\n",
    "**Note**: using this concatenation changes the size of the GRU input: the input size should no longer be `emb_size_dec`, but `emb_size_dec + hidden_size`."
   ]
  },
  {
   "cell_type": "code",
   "execution_count": 19,
   "metadata": {},
   "outputs": [],
   "source": [
    "class Decoder(nn.Module):\n",
    "    def __init__(self, output_size, emb_size_dec, hidden_size, hidden_size_att, n_layers, dropout_rate):\n",
    "        super().__init__()\n",
    "\n",
    "\n",
    "\t# Missing key(s) in state_dict:  \"decoder.attention.linear_layer.weight\", \"decoder.attention.linear_layer.bias\", \"decoder.attention.attention.weight\", \"decoder.fc.weight\", \"decoder.fc.bias\".\n",
    "\t# Unexpected key(s) in state_dict:  \"decoder.linear_layer.weight\", \"decoder.linear_layer.bias\", \"decoder.attention.attention_net.0.weight\", \"decoder.attention.attention_net.0.bias\", \"decoder.attention.attention_net.2.weight\".\n",
    "\n",
    "        # Store input parameters as class attributes\n",
    "        self.output_size = output_size\n",
    "        self.emb_size_dec = emb_size_dec\n",
    "        self.hidden_size = hidden_size\n",
    "        self.hidden_size_att = hidden_size_att\n",
    "        self.n_layers = n_layers\n",
    "        self.dropout_rate = dropout_rate\n",
    "\n",
    "        # Create the decoder layers and the attention module\n",
    "        self.embedding_layer = nn.Embedding(output_size, emb_size_dec)\n",
    "        self.dropout_layer = nn.Dropout(dropout_rate)\n",
    "        self.gru = nn.GRU(hidden_size + emb_size_dec, hidden_size, n_layers)\n",
    "        self.attention = Attention(2 * hidden_size, hidden_size_att)\n",
    "        self.linear_layer = nn.Linear(hidden_size, output_size)\n",
    "\n",
    "    def forward(self, input_idx, input_hidden, enc_outputs):\n",
    "        # Get the embeddings for the input token (same as in the previous lab)\n",
    "        y = self.dropout_layer(self.embedding_layer(input_idx))\n",
    "        y = y.unsqueeze(0)\n",
    "\n",
    "        # Compute the attention vector\n",
    "        a = self.attention(input_hidden, enc_outputs)\n",
    "        a = a.unsqueeze(1)\n",
    "        a = a.squeeze(-1)\n",
    "        \n",
    "        # Compute the weighted vector\n",
    "        enc_outputs = enc_outputs.permute(1, 0, 2)\n",
    "        weighted_vector = torch.bmm(a, enc_outputs).permute(1, 0, 2)\n",
    "        \n",
    "        # Concatenate the embedding (after dropout) and the weighted vector\n",
    "        combined_input = torch.cat((y, weighted_vector), dim=2)\n",
    "\n",
    "        # Apply the GRU layer\n",
    "        output, hidden = self.gru(combined_input, input_hidden)\n",
    "        \n",
    "        # Squeeze the output of the GRU and pass it to the linear layer to have the predicted probabilities\n",
    "        output = self.linear_layer(output.squeeze(0))\n",
    "\n",
    "        return output, hidden, a"
   ]
  },
  {
   "cell_type": "markdown",
   "metadata": {},
   "source": [
    "<span style=\"color:red\">**Exercice 3**</span> Instanciate the decoder and print the number of parameters."
   ]
  },
  {
   "cell_type": "code",
   "execution_count": 20,
   "metadata": {},
   "outputs": [
    {
     "name": "stdout",
     "output_type": "stream",
     "text": [
      "torch.Size([32, 7853])\n",
      "torch.Size([1, 32, 50])\n",
      "torch.Size([32, 1, 22])\n"
     ]
    }
   ],
   "source": [
    "# Instantiate the decoder\n",
    "decoder = Decoder(output_size, emb_size_dec, hidden_size, hidden_size_att, n_layers, dropout_rate)\n",
    "decoder.apply(init_params)\n",
    "dec_output, dec_hidden, a = decoder(example_batch_trg[0], dec_hidden, enc_outputs)\n",
    "print(dec_output.shape)\n",
    "print(dec_hidden.shape)\n",
    "print(a.shape)"
   ]
  },
  {
   "cell_type": "code",
   "execution_count": 21,
   "metadata": {},
   "outputs": [
    {
     "name": "stdout",
     "output_type": "stream",
     "text": [
      "torch.Size([1, 32, 50])\n",
      "torch.Size([1, 32, 50])\n",
      "torch.Size([32, 1, 22])\n"
     ]
    }
   ],
   "source": [
    "# Initialize an input index tensor (corresponds to <sos>)\n",
    "current_batch_size = a.shape[0]\n",
    "input_idx = torch.ones(current_batch_size).int() * 2\n",
    "\n",
    "# Apply the decoder, print the shape of the outputs\n",
    "pred_proba, hidden, a = decoder(input_idx, enc_context, enc_outputs)\n",
    "\n",
    "print(enc_context.shape)\n",
    "print(hidden.shape)\n",
    "print(a.shape)"
   ]
  },
  {
   "cell_type": "markdown",
   "metadata": {},
   "source": [
    "## Full model\n",
    "\n",
    "The full model is the same as in the previous lab. The only difference comes from the fact that we store the attention vector at every step."
   ]
  },
  {
   "cell_type": "code",
   "execution_count": 22,
   "metadata": {},
   "outputs": [],
   "source": [
    "# TO DO: write the Seq2Seq model\n",
    "class Seq2Seq(nn.Module):\n",
    "  def __init__(self, encoder, decoder):\n",
    "    super().__init__()\n",
    "\n",
    "    self.encoder = encoder\n",
    "    self.decoder = decoder\n",
    "    self.trg_vocab_size = decoder.output_size\n",
    "\n",
    "  def forward(self, src, trg_len):\n",
    "\n",
    "    batch_size = src.shape[-1]\n",
    "    pred_probas_all = torch.zeros(trg_len, batch_size, self.trg_vocab_size)\n",
    "    attention_all = torch.zeros(trg_len, batch_size, src.shape[0])\n",
    "    pred_probas_all[0, :, 2] = 1\n",
    "    input_idx = torch.ones(batch_size).int() * 2\n",
    "    enc_outputs, hidden = self.encoder(src)\n",
    "\n",
    "    for t in range(1, trg_len):\n",
    "      pred_proba_t, hidden, attn = self.decoder(input_idx, hidden, enc_outputs)\n",
    "      pred_probas_all[t, :, :] = pred_proba_t.squeeze(0)\n",
    "      attention_all[t, :, :] = attn.squeeze(1)\n",
    "      input_idx = pred_proba_t.argmax(dim=1)\n",
    "\n",
    "    return pred_probas_all, attention_all\n"
   ]
  },
  {
   "cell_type": "code",
   "execution_count": 23,
   "metadata": {},
   "outputs": [],
   "source": [
    "# Instanciate and initialize the encoder and decoder, then instanciate the full model, and print its number of parameters\n",
    "encoder = Encoder(input_size, emb_size_enc, hidden_size, n_layers, dropout_rate)\n",
    "encoder.apply(init_params)\n",
    "decoder = Decoder(output_size, emb_size_dec, hidden_size, hidden_size_att, n_layers, dropout_rate)\n",
    "decoder.apply(init_params)\n",
    "model = Seq2Seq(encoder, decoder)"
   ]
  },
  {
   "cell_type": "code",
   "execution_count": 24,
   "metadata": {},
   "outputs": [
    {
     "name": "stdout",
     "output_type": "stream",
     "text": [
      "torch.Size([25, 32, 7853])\n",
      "torch.Size([25, 32, 22])\n"
     ]
    }
   ],
   "source": [
    "# Apply it to the example_batch, and print the output shapes\n",
    "trg_len = example_batch_trg.shape[0]\n",
    "pred_probas_all, attention_all = model(example_batch_src, trg_len)\n",
    "print(pred_probas_all.shape)\n",
    "print(attention_all.shape)"
   ]
  },
  {
   "cell_type": "markdown",
   "metadata": {},
   "source": [
    "## Training (with validation) and evaluation\n",
    "\n",
    "We provide below the evaluation and training functions, since they're the same as in the previous lab (except we have to handle the fact that the model returns two outputs: `pred_probas_all` and `attention_all`)."
   ]
  },
  {
   "cell_type": "code",
   "execution_count": 25,
   "metadata": {},
   "outputs": [],
   "source": [
    "def evaluate_seq2seq(model, eval_dataloader, loss_fn):\n",
    "    \n",
    "    # Set the model in 'eval' mode (disable dropout layer)\n",
    "    model.eval()\n",
    "\n",
    "    # Initialize the eval loss\n",
    "    eval_loss = 0\n",
    "\n",
    "    # In test phase, we don't need to compute gradients (for memory efficiency)\n",
    "    with torch.no_grad():\n",
    "        # loop over batches\n",
    "        for i, batch in enumerate(eval_dataloader):\n",
    "\n",
    "            # Get the source and target sentence, and the target sentence length (varies from batch to batch)\n",
    "            src, trg = batch['en_ids'], batch['de_ids']\n",
    "            trg_len = trg.shape[0]\n",
    "\n",
    "            # Apply the model\n",
    "            pred_probas, _ = model(src, trg_len)\n",
    "\n",
    "            # Remove the first token (always <sos>) to compute the loss\n",
    "            output_size = pred_probas.shape[-1]\n",
    "            pred_probas = pred_probas[1:]\n",
    "\n",
    "            # Reshape the pred_probas and target so that they have appropriate sizes\n",
    "            pred_probas = pred_probas.view(-1, output_size)\n",
    "            trg = trg[1:].view(-1)\n",
    "\n",
    "            # Compute the loss\n",
    "            loss = loss_fn(pred_probas, trg)\n",
    "\n",
    "            # Record the loss\n",
    "            eval_loss += loss.item()\n",
    "\n",
    "    # Get the average evaluation loss\n",
    "    eval_loss = eval_loss / len(eval_dataloader)\n",
    "    \n",
    "    return eval_loss"
   ]
  },
  {
   "cell_type": "code",
   "execution_count": 26,
   "metadata": {},
   "outputs": [],
   "source": [
    "def training_val_seq2seq(model, train_dataloader, valid_dataloader, num_epochs, loss_fn, learning_rate, verbose=True):\n",
    "    \n",
    "    # Make a copy of the model (avoid changing the model outside this function)\n",
    "    model_tr = copy.deepcopy(model)\n",
    "    \n",
    "    # define the optimizer (Adam)\n",
    "    optimizer = torch.optim.Adam(model_tr.parameters(), lr=learning_rate)\n",
    "\n",
    "    # Initialize lists for storing the training and validation losses over epochs\n",
    "    train_losses = []\n",
    "    val_losses = []\n",
    "    \n",
    "    # Initialize the optimal validation loss at +Inf\n",
    "    val_loss_opt = torch.inf\n",
    "\n",
    "    for epoch in range(num_epochs):\n",
    "        tr_loss = 0\n",
    "\n",
    "        # Set the model in 'training' mode (ensures all parameters' gradients are computed)\n",
    "        model_tr.train()\n",
    "\n",
    "        for i, batch in enumerate(train_dataloader):\n",
    "\n",
    "            # Get the source and target sentence, and the target sentence length (varies from batch to batch)\n",
    "            src, trg = batch['en_ids'], batch['de_ids']\n",
    "            trg_len = trg.shape[0]\n",
    "\n",
    "            # Set the gradients at 0\n",
    "            optimizer.zero_grad()\n",
    "\n",
    "            # Apply the model\n",
    "            pred_probas, _ = model_tr(src, trg_len)\n",
    "\n",
    "            # Remove the first token (always <sos>) to compute the loss\n",
    "            output_dim = pred_probas.shape[-1]\n",
    "            pred_probas = pred_probas[1:]\n",
    "\n",
    "            # Reshape the pred_probas and target\n",
    "            pred_probas = pred_probas.view(-1, output_dim)\n",
    "            trg = trg[1:].view(-1)\n",
    "\n",
    "            # Backpropagation\n",
    "            loss = loss_fn(pred_probas, trg)\n",
    "            loss.backward()\n",
    "            torch.nn.utils.clip_grad_norm_(model_tr.parameters(), 1.0)\n",
    "            optimizer.step()\n",
    "\n",
    "            # Record the loss\n",
    "            tr_loss += loss.item()\n",
    "\n",
    "        # At the end of each epoch, get the average training loss and store it\n",
    "        tr_loss = tr_loss/len(train_dataloader)\n",
    "        train_losses.append(tr_loss)\n",
    "        \n",
    "        # Compute the validation loss and store it\n",
    "        val_loss = evaluate_seq2seq(model_tr, valid_dataloader, loss_fn)\n",
    "        val_losses.append(val_loss)\n",
    "        \n",
    "        # Display the training and validation losses at the current epoch\n",
    "        if verbose:\n",
    "            print('Epoch [{}/{}], Training loss: {:.4f} ; Validation loss: {:.4f}'\n",
    "                   .format(epoch+1, num_epochs, tr_loss, val_loss))\n",
    "            \n",
    "        # Save the current model as optimal only if validation loss decreases\n",
    "        if val_loss<val_loss_opt:\n",
    "            model_opt = copy.deepcopy(model_tr)\n",
    "            val_loss_opt = val_loss\n",
    "                \n",
    "    return model_opt, train_losses, val_losses"
   ]
  },
  {
   "cell_type": "code",
   "execution_count": 27,
   "metadata": {},
   "outputs": [],
   "source": [
    "# Training parameters\n",
    "num_epochs = 15\n",
    "learning_rate = 0.001\n",
    "loss_fn = nn.CrossEntropyLoss(ignore_index=1)"
   ]
  },
  {
   "cell_type": "markdown",
   "metadata": {},
   "source": [
    "<span style=\"color:red\">**Exercice 4**</span> Train the model, plot the training and validation losses, and compute the test loss."
   ]
  },
  {
   "cell_type": "code",
   "execution_count": 28,
   "metadata": {},
   "outputs": [
    {
     "name": "stdout",
     "output_type": "stream",
     "text": [
      "Epoch [1/15], Training loss: 8.5835 ; Validation loss: 8.0490\n",
      "Epoch [2/15], Training loss: 7.4109 ; Validation loss: 7.0066\n",
      "Epoch [3/15], Training loss: 6.3973 ; Validation loss: 6.2942\n",
      "Epoch [4/15], Training loss: 5.7505 ; Validation loss: 5.9025\n",
      "Epoch [5/15], Training loss: 5.4265 ; Validation loss: 5.7376\n",
      "Epoch [6/15], Training loss: 5.2786 ; Validation loss: 5.6945\n",
      "Epoch [7/15], Training loss: 5.2310 ; Validation loss: 5.6963\n",
      "Epoch [8/15], Training loss: 5.2101 ; Validation loss: 5.7086\n",
      "Epoch [9/15], Training loss: 5.2047 ; Validation loss: 5.7182\n",
      "Epoch [10/15], Training loss: 5.1945 ; Validation loss: 5.7312\n",
      "Epoch [11/15], Training loss: 5.1908 ; Validation loss: 5.7405\n",
      "Epoch [12/15], Training loss: 5.1909 ; Validation loss: 5.7562\n",
      "Epoch [13/15], Training loss: 5.1795 ; Validation loss: 5.7653\n",
      "Epoch [14/15], Training loss: 5.1781 ; Validation loss: 5.7764\n",
      "Epoch [15/15], Training loss: 5.1783 ; Validation loss: 5.7820\n"
     ]
    }
   ],
   "source": [
    "# Train the model\n",
    "model_opt, train_losses, val_losses = training_val_seq2seq(model, train_dataloader, valid_dataloader, num_epochs, loss_fn, learning_rate)"
   ]
  },
  {
   "cell_type": "code",
   "execution_count": 29,
   "metadata": {},
   "outputs": [
    {
     "name": "stdout",
     "output_type": "stream",
     "text": [
      "Test loss: 5.6257\n"
     ]
    }
   ],
   "source": [
    "# Evaluate the model on the test set\n",
    "test_loss = evaluate_seq2seq(model_opt, test_dataloader, loss_fn)\n",
    "print('Test loss: {:.4f}'.format(test_loss))"
   ]
  },
  {
   "cell_type": "code",
   "execution_count": 30,
   "metadata": {},
   "outputs": [
    {
     "data": {
      "image/png": "[encoded data removed]",
      "text/plain": [
       "<Figure size 640x480 with 1 Axes>"
      ]
     },
     "metadata": {},
     "output_type": "display_data"
    }
   ],
   "source": [
    "# Plot the training and validation losses\n",
    "plt.figure()\n",
    "plt.plot(train_losses, label='Training loss')\n",
    "plt.plot(val_losses, label='Validation loss')\n",
    "plt.xlabel('Epoch')\n",
    "plt.ylabel('Loss')\n",
    "plt.legend()\n",
    "plt.show()"
   ]
  },
  {
   "cell_type": "markdown",
   "metadata": {},
   "source": [
    "## Perspectives\n",
    "\n",
    "Let's quickly check the results on one example from the test set."
   ]
  },
  {
   "cell_type": "code",
   "execution_count": 31,
   "metadata": {},
   "outputs": [],
   "source": [
    "def translate_sentence(\n",
    "    sentence,\n",
    "    model,\n",
    "    en_nlp,\n",
    "    en_vocab,\n",
    "    de_vocab,\n",
    "    sos_token='<sos>',\n",
    "    eos_token='<eos>',\n",
    "    device='cpu',\n",
    "    output_length=15,\n",
    "):\n",
    "    model.eval()\n",
    "\n",
    "    # prepare the input sentence (tokenization, numericalization)\n",
    "    en_tokens = [token.text for token in en_nlp.tokenizer(sentence)]\n",
    "    en_tokens = [token.lower() for token in en_tokens]\n",
    "    en_tokens = [sos_token] + en_tokens + [eos_token]\n",
    "    ids = en_vocab.lookup_indices(en_tokens)\n",
    "    tensor = torch.LongTensor(ids).unsqueeze(-1).to(device)\n",
    "\n",
    "    # Compute the translation using the model\n",
    "    with torch.no_grad():\n",
    "        outputs, _ = model(tensor, output_length)\n",
    "        outputs = torch.argmax(outputs, -1)\n",
    "    outputs = [x.item() for x in outputs]\n",
    "    \n",
    "    translated = de_vocab.lookup_tokens(outputs)\n",
    "\n",
    "    return translated"
   ]
  },
  {
   "cell_type": "code",
   "execution_count": 32,
   "metadata": {},
   "outputs": [
    {
     "name": "stdout",
     "output_type": "stream",
     "text": [
      "Sentence:               A man in an orange hat starring at something.\n",
      "True translation:       Ein Mann mit einem orangefarbenen Hut, der etwas anstarrt.\n",
      "Predicted translation:  ['<sos>', '<eos>', '<eos>', '<eos>', '<eos>', '<eos>', '<eos>', '<eos>', '<eos>', '<eos>', '<eos>']\n"
     ]
    }
   ],
   "source": [
    "# Get an example sentence and its translation\n",
    "sentence = test_data[0][\"en\"]\n",
    "true_translation = test_data[0][\"de\"]\n",
    "\n",
    "# Get the true length of the (tokenized) translated sentence\n",
    "trg_len = len([token.text for token in de_nlp.tokenizer(true_translation)])\n",
    "\n",
    "# Translate the sentence\n",
    "pred_translation = translate_sentence(\n",
    "    sentence,\n",
    "    model_opt,\n",
    "    en_nlp,\n",
    "    en_vocab,\n",
    "    de_vocab,\n",
    "    output_length=trg_len\n",
    ")\n",
    "\n",
    "print('Sentence:              ', sentence)\n",
    "print('True translation:      ', true_translation)\n",
    "print('Predicted translation: ', pred_translation)"
   ]
  },
  {
   "cell_type": "markdown",
   "metadata": {},
   "source": [
    "As you can see on the example above, the results are not satisfactory. This can be explained by a variety of factors, but mainly because we consider a very small subset of the data and because we used a very light network. We provide the pretrained weights of a model with larger hidden and embedding sizes, and trained on the whole dataset (you can reproduce it using the provided parameters and using a batch size of 128)."
   ]
  },
  {
   "cell_type": "code",
   "execution_count": 33,
   "metadata": {},
   "outputs": [
    {
     "name": "stdout",
     "output_type": "stream",
     "text": [
      "odict_keys(['encoder.embedding_layer.weight', 'encoder.gru.weight_ih_l0', 'encoder.gru.weight_hh_l0', 'encoder.gru.bias_ih_l0', 'encoder.gru.bias_hh_l0', 'decoder.embedding_layer.weight', 'decoder.gru.weight_ih_l0', 'decoder.gru.weight_hh_l0', 'decoder.gru.bias_ih_l0', 'decoder.gru.bias_hh_l0', 'decoder.linear_layer.weight', 'decoder.linear_layer.bias', 'decoder.attention.attention_net.0.weight', 'decoder.attention.attention_net.0.bias', 'decoder.attention.attention_net.2.weight'])\n",
      "Sentence:               A man in an orange hat starring at something.\n",
      "True translation:       Ein Mann mit einem orangefarbenen Hut, der etwas anstarrt.\n",
      "Predicted translation:  ['<sos>', 'ein', 'mann', 'mit', 'einem', 'kopfbedeckung', 'starrt', 'etwas', 'etwas', 'etwas', '.']\n"
     ]
    }
   ],
   "source": [
    "# Instanciate a large model and load the pretrained parameters\n",
    "input_size = len(en_vocab)\n",
    "output_size = len(de_vocab)\n",
    "emb_size_enc = 256\n",
    "emb_size_dec = 256\n",
    "hidden_size = 512\n",
    "hidden_size_att = 512\n",
    "n_layers = 1\n",
    "dropout_rate = 0.5\n",
    "encoder = Encoder(input_size, emb_size_enc, hidden_size, n_layers, dropout_rate)\n",
    "decoder = Decoder(output_size, emb_size_dec, hidden_size, hidden_size_att, n_layers, dropout_rate)\n",
    "model_large = Seq2Seq(encoder, decoder)\n",
    "\n",
    "pretrained_model = torch.load(pretrained_model_path)\n",
    "print(pretrained_model.keys())\n",
    "model_large.load_state_dict(pretrained_model)\n",
    "\n",
    "# Translate the sentence\n",
    "pred_translation = translate_sentence(\n",
    "    sentence,\n",
    "    model_large,\n",
    "    en_nlp,\n",
    "    en_vocab,\n",
    "    de_vocab,\n",
    "    output_length=trg_len\n",
    ")\n",
    "\n",
    "print('Sentence:              ', sentence)\n",
    "print('True translation:      ', true_translation)\n",
    "print('Predicted translation: ', pred_translation)"
   ]
  },
  {
   "cell_type": "code",
   "execution_count": null,
   "metadata": {},
   "outputs": [],
   "source": []
  },
  {
   "cell_type": "markdown",
   "metadata": {},
   "source": [
    "The results are much better with this larger network, although not perfect since both the network structure and training protocol are rather basic. There are many other strategies to improve this task's performance (but also many other text processing / NLP tasks based on RNNs - or not):\n",
    "\n",
    "- using *bi-directionnal* recurrent networks to better account for the whole context of the sentence.\n",
    "- *skip-filtering*, which means feeding each RNN cell with the whole context vector instead of just the previous hidden state (done [here](https://github.com/bentrevett/pytorch-seq2seq/blob/master/2%20-%20Learning%20Phrase%20Representations%20using%20RNN%20Encoder-Decoder%20for%20Statistical%20Machine%20Translation.ipynb)).\n",
    "- *teacher forcing* when training the decoder, which means using the ground truth token as input to each decoding step, instead of the predicted token from the previous step (done [here](https://github.com/bentrevett/pytorch-seq2seq/blob/master/1%20-%20Sequence%20to%20Sequence%20Learning%20with%20Neural%20Networks.ipynb)).\n",
    "- *packed padded sentences* with masking, which allows to skip the `<pad>` token in the encoder and save time (done [here](https://github.com/bentrevett/pytorch-seq2seq/blob/main/legacy/4%20-%20Packed%20Padded%20Sequences%2C%20Masking%2C%20Inference%20and%20BLEU.ipynb)).\n",
    "- *self-attention*, a key component in [transformers](https://arxiv.org/pdf/1706.03762.pdf), which are state-of-the-art architectures for machine translation (see a simplified version implemented [here](https://github.com/bentrevett/pytorch-seq2seq/blob/main/legacy/6%20-%20Attention%20is%20All%20You%20Need.ipynb)).\n",
    "\n",
    "And many more - research continues to advance!"
   ]
  },
  {
   "cell_type": "code",
   "execution_count": null,
   "metadata": {},
   "outputs": [],
   "source": []
  }
 ],
 "metadata": {
  "kernelspec": {
   "display_name": "nn_speech_recognition-qgr9tgLb",
   "language": "python",
   "name": "python3"
  },
  "language_info": {
   "codemirror_mode": {
    "name": "ipython",
    "version": 3
   },
   "file_extension": ".py",
   "mimetype": "text/x-python",
   "name": "python",
   "nbconvert_exporter": "python",
   "pygments_lexer": "ipython3",
   "version": "3.12.4"
  }
 },
 "nbformat": 4,
 "nbformat_minor": 4
}
