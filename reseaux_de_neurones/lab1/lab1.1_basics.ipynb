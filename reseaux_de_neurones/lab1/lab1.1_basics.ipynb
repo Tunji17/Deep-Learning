{
 "cells": [
  {
   "cell_type": "markdown",
   "metadata": {},
   "source": [
    "# Pytorch basics\n",
    "\n",
    "<center><a href=\"https://pytorch.org/\">\n",
    "    <img src=\"https://upload.wikimedia.org/wikipedia/commons/9/96/Pytorch_logo.png\" width=\"300\"></a></center>\n",
    "    \n",
    "In this first script, we see the basics of Pytorch for manipulating tensors.\n",
    "\n",
    "Remember to check the [official documentation](https://pytorch.org/docs/stable/index.html), which is frequently used in these labs."
   ]
  },
  {
   "cell_type": "code",
   "execution_count": 51,
   "metadata": {},
   "outputs": [],
   "source": [
    "import torch\n",
    "import numpy as np\n",
    "from matplotlib import pyplot as plt"
   ]
  },
  {
   "cell_type": "markdown",
   "metadata": {},
   "source": [
    "## Creating tensors\n",
    "\n",
    "A [tensor](https://en.wikipedia.org/wiki/Tensor) is a multi-dimensional array (just like numpy arrays), which can store any structured numerical data. A 0D-tensor is just a scalar number, a 1D-tensor is a vector, a 2D-tensor is a matrix, a 3D-tensor is a \"cube\", etc.\n",
    "\n",
    "<center><a href=\"https://medium.com/@anoorasfatima/10-most-common-maths-operation-with-pytorchs-tensor-70a491d8cafd\">\n",
    "    <img src=\"https://miro.medium.com/max/1308/1*8jdzMrA33Leu3j3F6A8a3w.png\" width=\"400\"></a></center>"
   ]
  },
  {
   "cell_type": "code",
   "execution_count": 52,
   "metadata": {},
   "outputs": [
    {
     "name": "stdout",
     "output_type": "stream",
     "text": [
      "[[0. 0. 0. 0. 0.]]\n",
      "[[1. 1. 1. 1. 1.]]\n",
      "[[1 2]\n",
      " [3 4]]\n",
      "(2, 2) 2 2\n",
      "[[ 0.93439552 -1.01601358 -0.39701412 -1.83560177  2.2905667 ]\n",
      " [-0.25417314 -1.70614055  1.5915597  -0.42138928 -0.04779654]\n",
      " [-1.71166623 -1.02442889  1.13161574  1.40756557  0.27411354]\n",
      " [ 1.08153556  0.29862572 -0.11717312  0.47726993  0.54125495]]\n"
     ]
    }
   ],
   "source": [
    "# Reminder of numpy\n",
    "x = np.zeros((1, 5)) # create a 2D array (of shape 1x5) filled with 0\n",
    "print(x)\n",
    "x = np.ones((1, 5)) # create a 2D array (of shape 1x5) filled with 1\n",
    "print(x)\n",
    "x = np.array([[1, 2], [3, 4]]) # create an array with specified values\n",
    "print(x)\n",
    "print(x.shape, x.shape[0], x.shape[1]) # get the shape of an array\n",
    "x = np.random.randn(4, 5) # create an array with numbers drawn from a standard normal distribution\n",
    "print(x)"
   ]
  },
  {
   "cell_type": "code",
   "execution_count": 53,
   "metadata": {},
   "outputs": [
    {
     "name": "stdout",
     "output_type": "stream",
     "text": [
      "tensor([[0., 0., 0., 0., 0.]])\n",
      "tensor([[1., 1., 1., 1., 1.]])\n",
      "tensor([[1, 2],\n",
      "        [3, 4]])\n",
      "torch.Size([2, 2]) 2 2\n",
      "tensor([[-0.6761,  0.0123, -0.7216, -0.9162, -0.1701],\n",
      "        [-0.0906,  0.1277, -0.1100, -0.0830, -1.7973],\n",
      "        [ 1.3160,  0.1823, -1.5721, -0.5623,  0.0268],\n",
      "        [ 0.2313, -0.9568, -0.0693, -0.9359, -1.5753]])\n"
     ]
    }
   ],
   "source": [
    "# TO DO: create the same tensors in pytorch\n",
    "# hint: use 'torch' instead of 'np', the functions are similar\n",
    "x = torch.zeros((1, 5)) # create a 2D array (of shape 1x5) filled with 0\n",
    "print(x)\n",
    "x = torch.ones((1, 5)) # create a 2D array (of shape 1x5) filled with 1\n",
    "print(x)\n",
    "x = torch.tensor([[1, 2], [3, 4]]) # create an array with specified values\n",
    "print(x)\n",
    "print(x.shape, x.shape[0], x.shape[1]) # get the shape of an array\n",
    "x = torch.randn(4, 5) # create an array with numbers drawn from a standard normal distribution\n",
    "print(x)\n"
   ]
  },
  {
   "cell_type": "code",
   "execution_count": 54,
   "metadata": {},
   "outputs": [
    {
     "name": "stdout",
     "output_type": "stream",
     "text": [
      "[[1. 1. 1.]\n",
      " [1. 1. 1.]]\n",
      "tensor([[1., 1., 1.],\n",
      "        [1., 1., 1.]], dtype=torch.float64)\n",
      "[[1. 1. 1.]\n",
      " [1. 1. 1.]]\n"
     ]
    }
   ],
   "source": [
    "# Numpy Bridge: it's also possible to directly transform numpy arrays into pytorch tensor\n",
    "x_np = np.ones((2,3))\n",
    "print(x_np)\n",
    "x_pt = torch.from_numpy(x_np)\n",
    "print(x_pt)\n",
    "\n",
    "# And conversely:\n",
    "x_np = x_pt.numpy()\n",
    "print(x_np)"
   ]
  },
  {
   "cell_type": "code",
   "execution_count": 55,
   "metadata": {},
   "outputs": [
    {
     "name": "stdout",
     "output_type": "stream",
     "text": [
      "tensor([[20., 20., 20., 20., 20.]])\n"
     ]
    }
   ],
   "source": [
    "# Another way to create a tensor filled with a given value\n",
    "x = torch.zeros((1, 5))\n",
    "x.fill_(20)\n",
    "print(x)"
   ]
  },
  {
   "cell_type": "code",
   "execution_count": 56,
   "metadata": {},
   "outputs": [
    {
     "name": "stdout",
     "output_type": "stream",
     "text": [
      "tensor([[ 1.4660, -0.5119, -1.2547,  1.1396,  1.3007]])\n",
      "torch.Size([1, 5]) torch.Size([1, 5])\n"
     ]
    }
   ],
   "source": [
    "# With some functions, you can create an array without explicitly providing the shape (but instead use another tensor)\n",
    "y = torch.randn_like(x)\n",
    "print(y)\n",
    "print(y.shape, x.shape)"
   ]
  },
  {
   "cell_type": "code",
   "execution_count": 57,
   "metadata": {},
   "outputs": [
    {
     "name": "stdout",
     "output_type": "stream",
     "text": [
      "tensor([[0., 0., 0., 0., 0.]])\n",
      "tensor([[1., 1., 1., 1., 1.]])\n"
     ]
    }
   ],
   "source": [
    "# TO DO:\n",
    "# - create a tensor x0 that has the same size of x and filled with 0\n",
    "x0 = torch.zeros_like(x)\n",
    "print(x0)\n",
    "\n",
    "# - create a tensor x1 that has the same size of x and filled with 1\n",
    "x1 = torch.ones_like(x)\n",
    "print(x1)\n"
   ]
  },
  {
   "cell_type": "code",
   "execution_count": 58,
   "metadata": {},
   "outputs": [
    {
     "name": "stdout",
     "output_type": "stream",
     "text": [
      "tensor([3, 5, 7, 9])\n",
      "tensor([0, 1, 2, 3, 4, 5, 6, 7, 8, 9])\n"
     ]
    }
   ],
   "source": [
    "# Create an array of numbers from 'ind_beg' to 'ind_end' with an increment of 'inc_step'\n",
    "ind_beg = 3\n",
    "ind_end = 10\n",
    "inc_step = 2\n",
    "x = torch.arange(ind_beg, ind_end, inc_step)\n",
    "print(x)\n",
    "\n",
    "# Default values are 'ind_beg=0' and 'inc_step=1': \n",
    "x = torch.arange(ind_end)\n",
    "print(x)"
   ]
  },
  {
   "cell_type": "markdown",
   "metadata": {},
   "source": [
    "## Basic loops"
   ]
  },
  {
   "cell_type": "code",
   "execution_count": 59,
   "metadata": {},
   "outputs": [
    {
     "name": "stdout",
     "output_type": "stream",
     "text": [
      "0\n",
      "1\n",
      "2\n",
      "3\n",
      "4\n",
      "5\n",
      "6\n",
      "7\n",
      "8\n",
      "9\n"
     ]
    }
   ],
   "source": [
    "# The most simple 'for' loop\n",
    "for i in range(10):\n",
    "    print(i)"
   ]
  },
  {
   "cell_type": "code",
   "execution_count": 60,
   "metadata": {},
   "outputs": [
    {
     "name": "stdout",
     "output_type": "stream",
     "text": [
      "tensor(0)\n",
      "tensor(1)\n",
      "tensor(2)\n",
      "tensor(3)\n",
      "tensor(4)\n",
      "tensor(5)\n",
      "tensor(6)\n",
      "tensor(7)\n",
      "tensor(8)\n",
      "tensor(9)\n"
     ]
    }
   ],
   "source": [
    "# alternatively, you can create a tensor containing the indices over which iterating\n",
    "list_iter = torch.arange(10)\n",
    "for i in list_iter:\n",
    "    print(i)"
   ]
  },
  {
   "cell_type": "code",
   "execution_count": 61,
   "metadata": {},
   "outputs": [
    {
     "name": "stdout",
     "output_type": "stream",
     "text": [
      "tensor([ 0.2360,  0.2952, -0.0639, -1.0968,  0.7458, -0.8365,  0.4746,  0.6797,\n",
      "         0.4003,  0.4973])\n",
      "tensor(0.2360)\n",
      "tensor(0.2952)\n",
      "tensor(-0.0639)\n",
      "tensor(-1.0968)\n",
      "tensor(0.7458)\n",
      "tensor(-0.8365)\n",
      "tensor(0.4746)\n",
      "tensor(0.6797)\n",
      "tensor(0.4003)\n",
      "tensor(0.4973)\n"
     ]
    }
   ],
   "source": [
    "# You can also directly iterate over the elements of a 1D-tensor (or list) \n",
    "my_list = torch.randn(10)\n",
    "print(my_list)\n",
    "for x in my_list:\n",
    "    print(x)"
   ]
  },
  {
   "cell_type": "code",
   "execution_count": 62,
   "metadata": {},
   "outputs": [
    {
     "name": "stdout",
     "output_type": "stream",
     "text": [
      "0 tensor(0.2360)\n",
      "1 tensor(0.2952)\n",
      "2 tensor(-0.0639)\n",
      "3 tensor(-1.0968)\n",
      "4 tensor(0.7458)\n",
      "5 tensor(-0.8365)\n",
      "6 tensor(0.4746)\n",
      "7 tensor(0.6797)\n",
      "8 tensor(0.4003)\n",
      "9 tensor(0.4973)\n"
     ]
    }
   ],
   "source": [
    "# If you use 'enumerate', you can keep track of the index\n",
    "for i, x in enumerate(my_list):\n",
    "    print(i, x)"
   ]
  },
  {
   "cell_type": "code",
   "execution_count": 63,
   "metadata": {},
   "outputs": [
    {
     "name": "stdout",
     "output_type": "stream",
     "text": [
      "torch.Size([16, 16])\n"
     ]
    },
    {
     "data": {
      "image/png": "[encoded data removed]",
      "text/plain": [
       "<Figure size 640x480 with 1 Axes>"
      ]
     },
     "metadata": {},
     "output_type": "display_data"
    },
    {
     "name": "stdout",
     "output_type": "stream",
     "text": [
      "torch.Size([16, 16])\n"
     ]
    },
    {
     "data": {
      "image/png": "[encoded data removed]",
      "text/plain": [
       "<Figure size 640x480 with 1 Axes>"
      ]
     },
     "metadata": {},
     "output_type": "display_data"
    },
    {
     "name": "stdout",
     "output_type": "stream",
     "text": [
      "torch.Size([16, 16])\n"
     ]
    },
    {
     "data": {
      "image/png": "[encoded data removed]",
      "text/plain": [
       "<Figure size 640x480 with 1 Axes>"
      ]
     },
     "metadata": {},
     "output_type": "display_data"
    },
    {
     "name": "stdout",
     "output_type": "stream",
     "text": [
      "torch.Size([16, 16])\n"
     ]
    },
    {
     "data": {
      "image/png": "[encoded data removed]",
      "text/plain": [
       "<Figure size 640x480 with 1 Axes>"
      ]
     },
     "metadata": {},
     "output_type": "display_data"
    },
    {
     "name": "stdout",
     "output_type": "stream",
     "text": [
      "torch.Size([16, 16])\n"
     ]
    },
    {
     "data": {
      "image/png": "[encoded data removed]",
      "text/plain": [
       "<Figure size 640x480 with 1 Axes>"
      ]
     },
     "metadata": {},
     "output_type": "display_data"
    },
    {
     "name": "stdout",
     "output_type": "stream",
     "text": [
      "torch.Size([16, 16])\n"
     ]
    },
    {
     "data": {
      "image/png": "[encoded data removed]",
      "text/plain": [
       "<Figure size 640x480 with 1 Axes>"
      ]
     },
     "metadata": {},
     "output_type": "display_data"
    },
    {
     "name": "stdout",
     "output_type": "stream",
     "text": [
      "torch.Size([16, 16])\n"
     ]
    },
    {
     "data": {
      "image/png": "[encoded data removed]",
      "text/plain": [
       "<Figure size 640x480 with 1 Axes>"
      ]
     },
     "metadata": {},
     "output_type": "display_data"
    },
    {
     "name": "stdout",
     "output_type": "stream",
     "text": [
      "torch.Size([16, 16])\n"
     ]
    },
    {
     "data": {
      "image/png": "[encoded data removed]",
      "text/plain": [
       "<Figure size 640x480 with 1 Axes>"
      ]
     },
     "metadata": {},
     "output_type": "display_data"
    },
    {
     "name": "stdout",
     "output_type": "stream",
     "text": [
      "torch.Size([16, 16])\n"
     ]
    },
    {
     "data": {
      "image/png": "[encoded data removed]",
      "text/plain": [
       "<Figure size 640x480 with 1 Axes>"
      ]
     },
     "metadata": {},
     "output_type": "display_data"
    },
    {
     "name": "stdout",
     "output_type": "stream",
     "text": [
      "torch.Size([16, 16])\n"
     ]
    },
    {
     "data": {
      "image/png": "[encoded data removed]",
      "text/plain": [
       "<Figure size 640x480 with 1 Axes>"
      ]
     },
     "metadata": {},
     "output_type": "display_data"
    }
   ],
   "source": [
    "# If the object to iterate is a multivariate tensor, then it will iterate over the first dimension\n",
    "# For instance, if we iterate over a tensor of size [10, 16, 16], it will produce 10 tensors of size [16,16]\n",
    "\n",
    "mytensor = torch.randn(10, 16, 16)\n",
    "for x in mytensor:\n",
    "    print(x.shape)\n",
    "    plt.figure()\n",
    "    plt.imshow(x)\n",
    "    plt.show()"
   ]
  },
  {
   "cell_type": "markdown",
   "metadata": {},
   "source": [
    "## Basic operations"
   ]
  },
  {
   "cell_type": "code",
   "execution_count": 64,
   "metadata": {},
   "outputs": [
    {
     "name": "stdout",
     "output_type": "stream",
     "text": [
      "tensor([[8., 8., 8., 8., 8.]])\n",
      "tensor([[2., 2., 2., 2., 2.]])\n",
      "tensor([[15., 15., 15., 15., 15.]])\n",
      "tensor([[1.6667, 1.6667, 1.6667, 1.6667, 1.6667]])\n",
      "tensor([[125., 125., 125., 125., 125.]])\n"
     ]
    }
   ],
   "source": [
    "x = torch.ones((1,5))\n",
    "x.fill_(5)\n",
    "y = torch.ones((1,5))\n",
    "y.fill_(3)\n",
    "\n",
    "# Addition, subtraction, multiplication, division, and power\n",
    "print(x + y)\n",
    "print(x - y)\n",
    "print(x * y)\n",
    "print(x / y)\n",
    "print(x ** y)"
   ]
  },
  {
   "cell_type": "code",
   "execution_count": 65,
   "metadata": {},
   "outputs": [
    {
     "name": "stdout",
     "output_type": "stream",
     "text": [
      "tensor([[ 0.2394, -0.8442,  0.6756],\n",
      "        [ 1.1447,  0.6964,  0.6734]])\n",
      "tensor([[1.2704, 0.4299, 1.9651],\n",
      "        [3.1416, 2.0064, 1.9609]])\n"
     ]
    }
   ],
   "source": [
    "# Pytorch has some built-in basic math functions (exp, sin, cos...) that can be applied element-wise to a tensor\n",
    "x = torch.randn(2, 3)\n",
    "print(x)\n",
    "y = torch.exp(x)\n",
    "print(y)"
   ]
  },
  {
   "cell_type": "code",
   "execution_count": 66,
   "metadata": {},
   "outputs": [
    {
     "data": {
      "image/png": "[encoded data removed]",
      "text/plain": [
       "<Figure size 640x480 with 1 Axes>"
      ]
     },
     "metadata": {},
     "output_type": "display_data"
    }
   ],
   "source": [
    "# TO DO: plot the function y=sin(x)\n",
    "# - create a tensor x which ranges from -5 to 5 with a step increment of 0.1\n",
    "x = torch.arange(-5, 5, 0.1)\n",
    "# - compute y=sin(x) (use the torch.sin function)\n",
    "y = torch.sin(x)\n",
    "# - plot it using plt.plot(x, y)\n",
    "plt.plot(x, y)\n",
    "plt.show()\n"
   ]
  },
  {
   "cell_type": "code",
   "execution_count": 67,
   "metadata": {},
   "outputs": [
    {
     "data": {
      "image/png": "[encoded data removed]",
      "text/plain": [
       "<Figure size 640x480 with 1 Axes>"
      ]
     },
     "metadata": {},
     "output_type": "display_data"
    }
   ],
   "source": [
    "# TO DO: plot a noisy sinusoid\n",
    "# - create a noise tensor called 'noise' with the same shape as y (use torch.randn_like)\n",
    "noise = torch.randn_like(y)\n",
    "# - create a scalar 'amount_noise' which control the amount of noise (set it at 0.1 for instance)\n",
    "amount_noise = 0.1\n",
    "# - compute z, which is the sum of y and the noise tensor * the amount of noise\n",
    "z = y + noise * amount_noise\n",
    "# - plot z as a function of x\n",
    "plt.plot(x, z)\n",
    "plt.show()\n"
   ]
  },
  {
   "cell_type": "code",
   "execution_count": 68,
   "metadata": {},
   "outputs": [
    {
     "name": "stdout",
     "output_type": "stream",
     "text": [
      "tensor([[ 0.0342,  0.2734, -0.6189, -0.2811,  0.2761,  1.3708],\n",
      "        [-0.3714,  0.2683,  0.5326, -0.3391,  0.0569, -0.6546],\n",
      "        [-1.2708, -0.6602,  0.6125,  0.2852, -1.1750,  0.0740],\n",
      "        [ 0.2342, -0.3750, -0.0910, -1.0784, -1.0858, -2.9578],\n",
      "        [ 1.6799, -0.1382,  0.4543, -0.0406,  1.0453,  0.3140]])\n",
      "tensor([[ 0.0342,  0.2734, -0.6189, -0.2811,  0.2761,  1.3708],\n",
      "        [-0.3714,  0.2683,  0.5326, -0.3391,  0.0569, -0.6546],\n",
      "        [-1.2708, -0.6602,  0.6125,  0.2852, -1.1750,  0.0740]])\n",
      "tensor([[ 0.0342,  0.2734, -0.6189],\n",
      "        [-0.3714,  0.2683,  0.5326],\n",
      "        [-1.2708, -0.6602,  0.6125],\n",
      "        [ 0.2342, -0.3750, -0.0910],\n",
      "        [ 1.6799, -0.1382,  0.4543]])\n",
      "tensor([[ 0.0342,  0.2734, -0.6189],\n",
      "        [-0.3714,  0.2683,  0.5326],\n",
      "        [-1.2708, -0.6602,  0.6125]])\n"
     ]
    }
   ],
   "source": [
    "# Slicing (same as in numpy)\n",
    "x = torch.randn(5, 6)\n",
    "print(x)\n",
    "print(x[:3])  # slice over the first dimension\n",
    "print(x[:, :3]) # slice over the second dimension\n",
    "print(x[:3,:3]) # slice over both dimensions"
   ]
  },
  {
   "cell_type": "code",
   "execution_count": 69,
   "metadata": {},
   "outputs": [
    {
     "name": "stdout",
     "output_type": "stream",
     "text": [
      "tensor([[0.4965, 0.0141, 0.3235, 0.2072, 0.9864]])\n",
      "tensor(0.0141) tensor(0.9864) tensor(1) tensor(4)\n",
      "tensor([[0.0141, 0.2072, 0.3235, 0.4965, 0.9864]]) tensor([[1, 3, 2, 0, 4]])\n"
     ]
    }
   ],
   "source": [
    "# Useful functions are min, max, argmin and argmax\n",
    "x = torch.rand(1, 5)\n",
    "print(x)\n",
    "print(x.min(), x.max(), x.argmin(), x.argmax())\n",
    "\n",
    "# It's also easy to sort a tensor with ascending values\n",
    "x_sorted, ind_sort = x.sort()\n",
    "print(x_sorted, ind_sort)"
   ]
  },
  {
   "cell_type": "code",
   "execution_count": 70,
   "metadata": {},
   "outputs": [
    {
     "name": "stdout",
     "output_type": "stream",
     "text": [
      "torch.Size([600])\n"
     ]
    },
    {
     "data": {
      "image/png": "[encoded data removed]",
      "text/plain": [
       "<Figure size 640x480 with 1 Axes>"
      ]
     },
     "metadata": {},
     "output_type": "display_data"
    },
    {
     "name": "stdout",
     "output_type": "stream",
     "text": [
      "tensor(2.7500)\n",
      "tensor(450)\n",
      "tensor(1.5000)\n"
     ]
    }
   ],
   "source": [
    "# TO DO: find the minimum of a quadratic function\n",
    "# - create a tensor x which ranges from -3 to 3 with a step of 0.01\n",
    "x = torch.arange(-3, 3, 0.01)\n",
    "# - compute y = x^2 - 3x + 5\n",
    "y = x**2 - 3*x + 5\n",
    "print(y.shape)\n",
    "\n",
    "# - plot y as a function of x\n",
    "plt.plot(x, y)\n",
    "plt.show()\n",
    "# - compute the minimum value of y and print it\n",
    "min_val = y.min()\n",
    "print(min_val)\n",
    "# - find the index 'ind_min' corresponding to this minimum (hint: use the 'argmin' function)\n",
    "ind_min = y.argmin()\n",
    "print(ind_min)\n",
    "# - compute the value of x corresponding to the minimum: x[ind_min]\n",
    "x = x[ind_min]\n",
    "print(x)\n"
   ]
  },
  {
   "cell_type": "markdown",
   "metadata": {},
   "source": [
    "## Tensor types\n",
    "\n",
    "In Pytorch there are several data types, which are listed in the [documentation](https://pytorch.org/docs/stable/tensors.html)."
   ]
  },
  {
   "cell_type": "code",
   "execution_count": 71,
   "metadata": {},
   "outputs": [
    {
     "name": "stdout",
     "output_type": "stream",
     "text": [
      "tensor([[0.2583, 0.0476, 0.6448, 0.9645, 0.7695, 0.6751, 0.9914, 0.5293, 0.6822,\n",
      "         0.3380]])\n",
      "torch.float32\n"
     ]
    }
   ],
   "source": [
    "x = torch.rand(1, 10)\n",
    "print(x)\n",
    "\n",
    "# Display the type using the 'dtype' attribute\n",
    "# By default, it should be float32\n",
    "print(x.dtype)"
   ]
  },
  {
   "cell_type": "code",
   "execution_count": 72,
   "metadata": {},
   "outputs": [
    {
     "name": "stdout",
     "output_type": "stream",
     "text": [
      "torch.float16\n",
      "tensor([[0.2583, 0.0475, 0.6450, 0.9644, 0.7695, 0.6753, 0.9912, 0.5293, 0.6821,\n",
      "         0.3379]], dtype=torch.float16)\n",
      "torch.int16\n",
      "tensor([[0, 0, 0, 0, 0, 0, 0, 0, 0, 0]], dtype=torch.int16)\n"
     ]
    }
   ],
   "source": [
    "# Change the type using the 'type' method\n",
    "x = x.type(torch.float16)\n",
    "print(x.dtype)\n",
    "print(x)\n",
    "# Convert it to integer\n",
    "x = x.type(torch.int16)\n",
    "print(x.dtype)\n",
    "print(x)"
   ]
  },
  {
   "cell_type": "code",
   "execution_count": 73,
   "metadata": {},
   "outputs": [
    {
     "name": "stdout",
     "output_type": "stream",
     "text": [
      "tensor(3, dtype=torch.int32)\n"
     ]
    }
   ],
   "source": [
    "# You can specify the type when creating a tensor\n",
    "x = torch.tensor(3, dtype=torch.int)\n",
    "print(x)"
   ]
  },
  {
   "cell_type": "code",
   "execution_count": 74,
   "metadata": {},
   "outputs": [
    {
     "name": "stdout",
     "output_type": "stream",
     "text": [
      "False\n",
      "tensor(3.1416) True torch.float32\n"
     ]
    }
   ],
   "source": [
    "# Check if it's a float\n",
    "x = torch.tensor(3, dtype=torch.int)\n",
    "print(x.is_floating_point())\n",
    "\n",
    "pi = torch.tensor(3.14159)\n",
    "print(pi, pi.is_floating_point(), pi.dtype)"
   ]
  },
  {
   "cell_type": "markdown",
   "metadata": {},
   "source": [
    "## Reshaping"
   ]
  },
  {
   "cell_type": "code",
   "execution_count": 75,
   "metadata": {},
   "outputs": [
    {
     "name": "stdout",
     "output_type": "stream",
     "text": [
      "torch.Size([8, 5])\n",
      "torch.Size([5, 8])\n",
      "torch.Size([5, 8])\n"
     ]
    }
   ],
   "source": [
    "x = torch.randn(8,5)\n",
    "print(x.shape)\n",
    "\n",
    "# Transposition: use either 'x.t()' or 'x.transpose(dims)' where 'dims' specifies the new dimensions order\n",
    "y = x.transpose(1,0)\n",
    "print(y.shape)\n",
    "\n",
    "z = x.t()\n",
    "print(z.shape)"
   ]
  },
  {
   "cell_type": "code",
   "execution_count": 76,
   "metadata": {},
   "outputs": [
    {
     "name": "stdout",
     "output_type": "stream",
     "text": [
      "torch.Size([8, 5]) torch.Size([10, 4])\n",
      "torch.Size([4, 10])\n",
      "torch.Size([2, 20])\n"
     ]
    }
   ],
   "source": [
    "# Reshape: reorganize the tensor with the specified output dimensions (similar as 'numpy.reshape')\n",
    "x = torch.randn(8,5)\n",
    "y = x.reshape(10,4)\n",
    "print(x.shape, y.shape)\n",
    "\n",
    "# You can only specify one dimension and mark the other with '-1', and it will autocomplete consistently\n",
    "z = x.reshape(-1, 10)\n",
    "print(z.shape)\n",
    "z = x.reshape(2, -1)\n",
    "print(z.shape)\n"
   ]
  },
  {
   "cell_type": "code",
   "execution_count": 77,
   "metadata": {},
   "outputs": [
    {
     "name": "stdout",
     "output_type": "stream",
     "text": [
      "tensor([[0., 0., 0., 0.],\n",
      "        [0., 0., 0., 0.],\n",
      "        [0., 0., 0., 0.],\n",
      "        [0., 0., 0., 0.],\n",
      "        [0., 0., 0., 0.],\n",
      "        [0., 0., 0., 0.],\n",
      "        [0., 0., 0., 0.],\n",
      "        [0., 0., 0., 0.],\n",
      "        [0., 0., 0., 0.],\n",
      "        [0., 0., 0., 0.]])\n",
      "tensor([[1., 1., 1., 1.],\n",
      "        [1., 1., 1., 1.],\n",
      "        [1., 1., 1., 1.],\n",
      "        [1., 1., 1., 1.],\n",
      "        [1., 1., 1., 1.],\n",
      "        [1., 1., 1., 1.],\n",
      "        [1., 1., 1., 1.],\n",
      "        [1., 1., 1., 1.],\n",
      "        [1., 1., 1., 1.],\n",
      "        [1., 1., 1., 1.]])\n"
     ]
    }
   ],
   "source": [
    "# View: similar as 'reshape', but only creates a view over the tensor: if the original data is changed, then the viewed tensors also changes\n",
    "x = torch.zeros(8,5)\n",
    "y = x.view(10,4)\n",
    "print(y)\n",
    "\n",
    "x.fill_(1)\n",
    "print(y)"
   ]
  },
  {
   "cell_type": "markdown",
   "metadata": {},
   "source": [
    "## Squeeze and unsqueeze\n",
    "\n",
    "It's important to understand that there is a difference between a tensor of shape `[a, b]` and a tensor of shape `[a, b, 1]`: even though the same data can be stored in both, the second one as an extra dimension (the third one) that can be useful, e.g., if you want to assemble tensors together in a bigger object.\n",
    "\n",
    "For instance, an image with height `a` and width `b` can be seen as a 2D-tensor of shape `[a, b]`. But you can also view it as a single frame in a video, then it's a 3D-tensor of shape `[a, b, 1]`, and the whole video made up with `c` frames would be a 3D-tensor of shape `[a, b, c]`.\n",
    "\n",
    "From a given tensor, you can add an extra dimension (with shape 1) using the `unsqueeze` method. Conversely, you can remove a dimension with shape 1 using the `squeeze` method."
   ]
  },
  {
   "cell_type": "code",
   "execution_count": 78,
   "metadata": {},
   "outputs": [
    {
     "name": "stdout",
     "output_type": "stream",
     "text": [
      "torch.Size([2, 1, 5, 1])\n",
      "torch.Size([2, 5])\n"
     ]
    }
   ],
   "source": [
    "# Example of squeeze: remove all dimensions with shape 1\n",
    "x = torch.zeros(2, 1, 5, 1)\n",
    "print(x.shape)\n",
    "y = x.squeeze()\n",
    "print(y.shape)"
   ]
  },
  {
   "cell_type": "code",
   "execution_count": 79,
   "metadata": {},
   "outputs": [
    {
     "name": "stdout",
     "output_type": "stream",
     "text": [
      "torch.Size([2, 5])\n",
      "torch.Size([1, 2, 5])\n",
      "torch.Size([2, 5, 1])\n"
     ]
    }
   ],
   "source": [
    "# Conversely, 'unsqueeze' allows you to expand a tensor by adding a new dimension, whose location must be specified\n",
    "x = torch.zeros(2, 5)\n",
    "print(x.shape)\n",
    "y = x.unsqueeze(dim=0)\n",
    "print(y.shape)\n",
    "z = x.unsqueeze(dim=2)\n",
    "print(z.shape)"
   ]
  },
  {
   "cell_type": "markdown",
   "metadata": {},
   "source": [
    "## Assembling tensors"
   ]
  },
  {
   "cell_type": "code",
   "execution_count": 80,
   "metadata": {},
   "outputs": [
    {
     "name": "stdout",
     "output_type": "stream",
     "text": [
      "torch.Size([65, 64, 64])\n",
      "torch.Size([10, 706])\n",
      "torch.Size([10, 217, 26])\n"
     ]
    }
   ],
   "source": [
    "# Concatenate: useful to concatenate tensors along a specified (existing) dimension\n",
    "# Works with any tensors, provided that the dimensions over which you don't concatenate are consistent\n",
    "x1 = torch.rand(15, 64, 64)\n",
    "x2 = torch.rand(50, 64, 64)\n",
    "X_concat = torch.cat((x1,x2), dim=0)\n",
    "print(X_concat.shape)\n",
    "\n",
    "x1 = torch.rand(10, 217)\n",
    "x2 = torch.rand(10, 489)\n",
    "X_concat = torch.cat((x1,x2), dim=1)\n",
    "print(X_concat.shape)\n",
    "\n",
    "x1 = torch.rand(10, 217, 12)\n",
    "x2 = torch.rand(10, 217, 14)\n",
    "X_concat = torch.cat((x1,x2), dim=2)\n",
    "print(X_concat.shape)"
   ]
  },
  {
   "cell_type": "code",
   "execution_count": 81,
   "metadata": {},
   "outputs": [
    {
     "name": "stdout",
     "output_type": "stream",
     "text": [
      "torch.Size([2, 16, 16])\n"
     ]
    }
   ],
   "source": [
    "# TO DO :\n",
    "# - create two tensors of shape 16x16 with random values.\n",
    "x1 = torch.randn(16, 16)  \n",
    "x2 = torch.randn(16, 16)\n",
    "# - concatenate them into a single tensor of size (2, 16, 16)\n",
    "# hint: first 'unsqueeze' the tensors to create a new dimension, and then 'cat' over this dimension\n",
    "x = torch.cat((x1.unsqueeze(0), x2.unsqueeze(0)), dim=0)\n",
    "print(x.shape)\n"
   ]
  },
  {
   "cell_type": "code",
   "execution_count": 82,
   "metadata": {},
   "outputs": [
    {
     "name": "stdout",
     "output_type": "stream",
     "text": [
      "torch.Size([3, 10]) torch.Size([3, 10])\n",
      "torch.Size([2, 3, 10])\n",
      "torch.Size([6, 10])\n"
     ]
    }
   ],
   "source": [
    "# Stack: unlike 'cat', 'stack' concatenates the tensors along a new dimension (the inputs tensors must have the same shape)\n",
    "x = torch.ones(3, 10)\n",
    "y = torch.ones(3, 10)\n",
    "print(x.shape, y.shape)\n",
    "\n",
    "z_stack = torch.stack((x, y), dim=0)\n",
    "print(z_stack.shape)\n",
    "\n",
    "# Check the difference with 'cat'\n",
    "z_cat = torch.cat((x, y), dim=0)\n",
    "print(z_cat.shape)"
   ]
  },
  {
   "cell_type": "code",
   "execution_count": 83,
   "metadata": {},
   "outputs": [
    {
     "name": "stdout",
     "output_type": "stream",
     "text": [
      "torch.Size([3, 2, 10])\n",
      "torch.Size([3, 10, 2])\n"
     ]
    }
   ],
   "source": [
    "# It's possible to stack over any dimension, so it will create a tensor accordingly\n",
    "z_stack = torch.stack((x, y), dim=1)\n",
    "print(z_stack.shape)\n",
    "\n",
    "z_stack = torch.stack((x, y), dim=2)\n",
    "print(z_stack.shape)"
   ]
  },
  {
   "cell_type": "code",
   "execution_count": 84,
   "metadata": {},
   "outputs": [
    {
     "name": "stdout",
     "output_type": "stream",
     "text": [
      "torch.Size([2, 16, 16])\n"
     ]
    }
   ],
   "source": [
    "# TO DO : same exercice as before but using stack (should be simpler)\n",
    "x1 = torch.randn(16, 16)\n",
    "x2 = torch.randn(16, 16)\n",
    "\n",
    "x = torch.stack((x1, x2), dim=0)\n",
    "print(x.shape)\n"
   ]
  },
  {
   "cell_type": "markdown",
   "metadata": {},
   "source": [
    "## Save and load files"
   ]
  },
  {
   "cell_type": "code",
   "execution_count": 85,
   "metadata": {},
   "outputs": [
    {
     "name": "stdout",
     "output_type": "stream",
     "text": [
      "[[1. 1. 1.]\n",
      " [1. 1. 1.]]\n",
      "tensor([[1., 1., 1.],\n",
      "        [1., 1., 1.]], dtype=torch.float64)\n"
     ]
    }
   ],
   "source": [
    "# Reminder in numpy\n",
    "x_np = np.ones((2,3))\n",
    "np_filepath = 'x_np.npy'\n",
    "np.save(np_filepath, x_np)\n",
    "x_np_load = np.load(np_filepath)\n",
    "print(x_np_load)\n",
    "\n",
    "# In pytorch, it's very similar\n",
    "x_tensor = torch.from_numpy(x_np)\n",
    "tensor_filepath = 'x_tensor.pt'\n",
    "torch.save(x_tensor, tensor_filepath)\n",
    "x_tensor_load = torch.load(tensor_filepath)\n",
    "print(x_tensor_load)"
   ]
  },
  {
   "cell_type": "markdown",
   "metadata": {},
   "source": [
    "## Devices\n",
    "\n",
    "Finally, let's note that there are two types of *devices* in Pytorch: `cpu` and `cuda`. By default, every tensor's device is `cpu`, which means that all computation is performed on the CPU. However, in deep learning we usually handle large models and datasets, thus it is more efficient to use a graphic card (GPU) for the computation. To do that, we just need to tell Pytorch that the data / tensors / models should be copied on a `cuda` device.\n",
    "This is mostly for your general knowledge: we won't use GPU computation in these labs.\n",
    "\n",
    "**Note**: If you didn't install pytorch with CUDA, you should get an error if you try to copy a tensor to `cuda`. That's fine."
   ]
  },
  {
   "cell_type": "code",
   "execution_count": 86,
   "metadata": {},
   "outputs": [
    {
     "name": "stdout",
     "output_type": "stream",
     "text": [
      "Cuda available: True\n",
      "Number of GPUs: 1\n",
      "cpu\n"
     ]
    }
   ],
   "source": [
    "# You can check if a GPU is available (and how many)\n",
    "print('Cuda available:', torch.cuda.is_available())\n",
    "print('Number of GPUs:', torch.cuda.device_count())\n",
    "\n",
    "# By default, any tensor will be on a 'cpu' device\n",
    "x = torch.rand(1, 10)\n",
    "print(x.device)"
   ]
  },
  {
   "cell_type": "code",
   "execution_count": 87,
   "metadata": {},
   "outputs": [
    {
     "name": "stdout",
     "output_type": "stream",
     "text": [
      "cuda:0\n"
     ]
    }
   ],
   "source": [
    "# You can change the device using the 'to' method \n",
    "# Doing this is only possible if you have installed CUDA with Pytorch, so you might get an error here.\n",
    "x = x.to('cuda')\n",
    "print(x.device)"
   ]
  },
  {
   "cell_type": "code",
   "execution_count": null,
   "metadata": {},
   "outputs": [],
   "source": []
  }
 ],
 "metadata": {
  "kernelspec": {
   "display_name": "Python 3 (ipykernel)",
   "language": "python",
   "name": "python3"
  },
  "language_info": {
   "codemirror_mode": {
    "name": "ipython",
    "version": 3
   },
   "file_extension": ".py",
   "mimetype": "text/x-python",
   "name": "python",
   "nbconvert_exporter": "python",
   "pygments_lexer": "ipython3",
   "version": "3.10.12"
  }
 },
 "nbformat": 4,
 "nbformat_minor": 4
}
