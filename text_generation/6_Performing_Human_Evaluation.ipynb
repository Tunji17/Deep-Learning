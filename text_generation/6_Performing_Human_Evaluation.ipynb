{
 "cells": [
  {
   "cell_type": "markdown",
   "metadata": {
    "id": "cwYCbxGopF-R"
   },
   "source": [
    "# 6. Performing Human Evaluation\n",
    "\n",
    "Welcome to the 6th session of the LLM tutorial!\n",
    "\n",
    "In this session, we introduce that how to involve human evaluation during the model evaluation."
   ]
  },
  {
   "cell_type": "markdown",
   "metadata": {
    "id": "n2h7dM6wqN5H"
   },
   "source": [
    "## 6.1 Introduction to Human Evaluation\n",
    "\n",
    "In the previous tutorial, we explored **automatic metrics** used to evaluate model performance for specific tasks.\n",
    "\n",
    "But have you considered these two important questions:\n",
    "\n",
    "- Are there non-automatic metrics? What are they?\n",
    "- How can we select the most suitable automatic metrics? (How do we evaluate the metrics themselves?)\n",
    "\n",
    "\n",
    "\n",
    "\n",
    "### 6.1.1 Non-Automatic Metric\n",
    "Let's start with a quick recap:\n",
    "\n",
    "**Automatic metrics** are designed for evaluating models without human intervention.\n",
    "\n",
    "As we discussed in the 5th tutorial, metrics like BLEU can compute evaluation scores automatically. However, automatic metrics are not always reliable, as they may:\n",
    "\n",
    "- **Differ from human judgment.**\n",
    "- **Fail to capture certain aspects of model performance.**\n",
    "\n",
    "For example, **BLEU** is a pattern-matching metric based on n-gram precision. While it is useful for comparing surface-level matches, it overlooks **semantic information**, such as meaning and contextual accuracy.\n",
    "\n",
    "To address these limitations, we often rely on **non-automatic metrics**, which involve human judgment. Human evaluation typically involves assigning scores (within a predefined range) or providing qualitative annotations based on various criteria.\n",
    "\n",
    "In text generation tasks, for instance, human judgment may assess text quality based on factors such as:\n",
    "\n",
    "- **Relevance**: Is the output relevant to the input?\n",
    "- **Omission**: Are important details missing?\n",
    "- **Fluency**: Is the text grammatically correct and natural?\n",
    "\n",
    "Here's an example of a dataset for the text summarization task, which includes **human annotations**: [SummEval Dataset](https://huggingface.co/datasets/mteb/summeval?row=0).\n",
    "\n",
    "\n",
    "### 6.1.2 Metric Selection\n",
    "A single metric can only capture a limited set of aspects and cannot comprehensively evaluate a model's performance. This is why **no metric is perfect**.\n",
    "\n",
    "The **ideal metric** is typically one that aligns closely with **human judgment**.\n",
    "\n",
    "Thus, metric selection involves identifying an **automatic metric** that best correlates with human annotations. This ensures that the metric reflects the aspects that humans consider important.\n",
    "\n",
    "\n",
    "### 6.1.3 Goal\n",
    "In this session, we will learn how to **evaluate metrics** and identify the most suitable ones using **human evaluation**.\n",
    "\n",
    "**Note**:\n",
    "- Due to the high cost of human annotation, it is not feasible to evaluate all model outputs manually. Therefore, the practical approach is to find an automatic metric that **closely matches human judgment**.\n",
    "- You might need GPU in the final pratical exercise (the tutorial code is runnable with CPU).\n",
    "\n"
   ]
  },
  {
   "cell_type": "markdown",
   "metadata": {
    "id": "FbU1UYt77xFg"
   },
   "source": [
    "## 6.2 Environment Setup"
   ]
  },
  {
   "cell_type": "code",
   "execution_count": 1,
   "metadata": {
    "id": "xv7M7Kbp70m0"
   },
   "outputs": [
    {
     "name": "stdout",
     "output_type": "stream",
     "text": [
      "\n",
      "\u001b[1m[\u001b[0m\u001b[34;49mnotice\u001b[0m\u001b[1;39;49m]\u001b[0m\u001b[39;49m A new release of pip is available: \u001b[0m\u001b[31;49m24.2\u001b[0m\u001b[39;49m -> \u001b[0m\u001b[32;49m24.3.1\u001b[0m\n",
      "\u001b[1m[\u001b[0m\u001b[34;49mnotice\u001b[0m\u001b[1;39;49m]\u001b[0m\u001b[39;49m To update, run: \u001b[0m\u001b[32;49mpip install --upgrade pip\u001b[0m\n",
      "\n",
      "\u001b[1m[\u001b[0m\u001b[34;49mnotice\u001b[0m\u001b[1;39;49m]\u001b[0m\u001b[39;49m A new release of pip is available: \u001b[0m\u001b[31;49m24.2\u001b[0m\u001b[39;49m -> \u001b[0m\u001b[32;49m24.3.1\u001b[0m\n",
      "\u001b[1m[\u001b[0m\u001b[34;49mnotice\u001b[0m\u001b[1;39;49m]\u001b[0m\u001b[39;49m To update, run: \u001b[0m\u001b[32;49mpip install --upgrade pip\u001b[0m\n",
      "\n",
      "\u001b[1m[\u001b[0m\u001b[34;49mnotice\u001b[0m\u001b[1;39;49m]\u001b[0m\u001b[39;49m A new release of pip is available: \u001b[0m\u001b[31;49m24.2\u001b[0m\u001b[39;49m -> \u001b[0m\u001b[32;49m24.3.1\u001b[0m\n",
      "\u001b[1m[\u001b[0m\u001b[34;49mnotice\u001b[0m\u001b[1;39;49m]\u001b[0m\u001b[39;49m To update, run: \u001b[0m\u001b[32;49mpip install --upgrade pip\u001b[0m\n"
     ]
    }
   ],
   "source": [
    "! pip install -q datasets evaluate transformers\n",
    "! pip install -q rouge_score sacrebleu\n",
    "! pip install -q tqdm"
   ]
  },
  {
   "cell_type": "markdown",
   "metadata": {
    "id": "iXhvi55260a9"
   },
   "source": [
    "## 6.3 Load a Dataset for Summary Task\n",
    "\n",
    "We will use the [SummEval](https://huggingface.co/datasets/mteb/summeval?row=0) dataset, which includes the original text, machine summary, human summary and the human annotation scores."
   ]
  },
  {
   "cell_type": "code",
   "execution_count": 2,
   "metadata": {
    "colab": {
     "base_uri": "https://localhost:8080/",
     "height": 274,
     "referenced_widgets": [
      "4ddcbb7a4e3440b2bd6f86aae4e3d699",
      "4129e791b43d47f7a878ec6fa559fb65",
      "abc956a07d0b4659b68e921c62b08b18",
      "4d83b309bd0f45268c2cc768e17ad279",
      "cf0c4d329491417aa5b2ce7b45106732",
      "51aea6a06ea4495b9fb3be46c066e9f5",
      "cc860e253134490ca765536923eaeb63",
      "dd21dfb5c63c48179931a03219235e6d",
      "4f16f4902d4749689215414e1975a53b",
      "8851fccebcad423199407f2abffc6488",
      "54026caf33054564a69b039c3e00e6b3",
      "9692df9269a44760b3126832c2ffd648",
      "d92da35ed3e2448d86ad4438603952fb",
      "f7323247b640421dab7b924c217c84b0",
      "38bf4a5156a34a5bbc5a7314dd830246",
      "c1e37ec95fbb400b996fc48cdde12610",
      "ca16554bf3394dbaacf48edd025aa540",
      "1bfb9e94fbb646bfa0069417bab4bde8",
      "26b1e19f0fb44bf99689ad59ada9bf45",
      "2609a95468854699b82779e2babbd0fc",
      "ec8fdc533c7840a18445dd2359badbb4",
      "0d67371a2dae4e9a9c07984b8f8c92fa",
      "62b9c0b2e9f6485cb0a9f3843ca72f47",
      "6ee0ced11b5e45c5a01aeb4882091693",
      "a70e4c1955f94c57831b68108b9d134b",
      "2784e7a1942c4ad18c2524bee5ecf058",
      "4a17bf4c4d3846bface474a06a81ab05",
      "5cb2152ad8c24c52b3459aabf35e2665",
      "251fd6389a6d46b7811e8d648ffa4ddb",
      "969a13d2399b4198aa5806563038f74b",
      "aa931e94ea6e4c928f4683ec11c30ae6",
      "77ae048ce26848e99a4e06bd66c5a034",
      "5eea1e4ad7594e9aa22d7e6bfaf5f88d",
      "b18add057a5045a884f28489da106b6a",
      "d3befce8f556413db9c64775d984141e",
      "4e1e757e7e544b4f8ae8096a2fc49098",
      "e9d47dee7dd645daa23538dc622913df",
      "b25758f208f5483eb365357e8ee3e312",
      "f96ebfbc20f84911abc12ceb1fefcdbb",
      "b5e0988c2fe4490fad8402c65a90bb4a",
      "fa8ad55ce57e43d18557c872b193aa25",
      "d3026cb8ccd847559a22e228cc03fff4",
      "8001fcc1a26e4907a590b4513ad68c12",
      "4ce5e693140c4d7ba71d4416d5722bd1"
     ]
    },
    "id": "NxNzOQabqNd9",
    "outputId": "38eeec81-77ff-4c39-aac7-1b67759bf0f6"
   },
   "outputs": [
    {
     "data": {
      "application/vnd.jupyter.widget-view+json": {
       "model_id": "d735cc07eff14f49b93ab436ab41ccfc",
       "version_major": 2,
       "version_minor": 0
      },
      "text/plain": [
       "Downloading readme:   0%|          | 0.00/635 [00:00<?, ?B/s]"
      ]
     },
     "metadata": {},
     "output_type": "display_data"
    },
    {
     "data": {
      "application/vnd.jupyter.widget-view+json": {
       "model_id": "c5889ca78889474d86fdba28a1e8906a",
       "version_major": 2,
       "version_minor": 0
      },
      "text/plain": [
       "Downloading metadata:   0%|          | 0.00/2.38k [00:00<?, ?B/s]"
      ]
     },
     "metadata": {},
     "output_type": "display_data"
    },
    {
     "data": {
      "application/vnd.jupyter.widget-view+json": {
       "model_id": "ac9a02dea68c484da42c8598235ea410",
       "version_major": 2,
       "version_minor": 0
      },
      "text/plain": [
       "Downloading data:   0%|          | 0.00/423k [00:00<?, ?B/s]"
      ]
     },
     "metadata": {},
     "output_type": "display_data"
    },
    {
     "data": {
      "application/vnd.jupyter.widget-view+json": {
       "model_id": "4e7231928c28429a942aeac668b424a9",
       "version_major": 2,
       "version_minor": 0
      },
      "text/plain": [
       "Generating test split:   0%|          | 0/100 [00:00<?, ? examples/s]"
      ]
     },
     "metadata": {},
     "output_type": "display_data"
    }
   ],
   "source": [
    "from datasets import load_dataset\n",
    "\n",
    "data_summary = load_dataset(\"mteb/summeval\")"
   ]
  },
  {
   "cell_type": "markdown",
   "metadata": {
    "id": "qhoSHNZV3dGk"
   },
   "source": [
    "### 6.3.1 Data Preview"
   ]
  },
  {
   "cell_type": "markdown",
   "metadata": {
    "id": "8gMMQdQf4CbD"
   },
   "source": [
    "Let's first take a look at the structure of the SummEval dataset. This will help you quickly understand the data and its relevance to the downstream task."
   ]
  },
  {
   "cell_type": "code",
   "execution_count": 6,
   "metadata": {
    "colab": {
     "base_uri": "https://localhost:8080/"
    },
    "id": "7y6Diro_7-9H",
    "outputId": "2b1fac46-ff58-4dc2-8100-cf09d947068d"
   },
   "outputs": [
    {
     "data": {
      "text/plain": [
       "DatasetDict({\n",
       "    test: Dataset({\n",
       "        features: ['machine_summaries', 'human_summaries', 'relevance', 'coherence', 'fluency', 'consistency', 'text', 'id'],\n",
       "        num_rows: 100\n",
       "    })\n",
       "})"
      ]
     },
     "execution_count": 6,
     "metadata": {},
     "output_type": "execute_result"
    }
   ],
   "source": [
    "# Dataset Overview\n",
    "data_summary"
   ]
  },
  {
   "cell_type": "code",
   "execution_count": 14,
   "metadata": {},
   "outputs": [
    {
     "data": {
      "text/plain": [
       "[\"V. Stiviano must pay back $2.6 million in gifts from Donald Sterling. Sterling's wife claimed the ex-Clippers used the couple's money for the gifts. The items included a Ferrari, two Bentleys and a Range Rover.\",\n",
       " 'A player for a team has been under scrunity for money being earned while injured. The NBA is not pleased with these outcomes and this player has caused lots of controversy.',\n",
       " \"Donald Sterling lost his NBA team amid racist comments. His former companion is set to pay back over $2.6 million to Sterling's wife through lawsuit. The case has been considered a victory for the Sterling family.\",\n",
       " \"Donald Sterling cheated with a mistress, Stiviano, who was sued by Sterling's wife. The mistress was blamed for Sterling spending over $2.6 million on her and ordered to pay it all back.\",\n",
       " \"Donald Sterling's mistress will have to pay Sterling's wife for many lavish gifts that Sterling bought for her.  V. Stiviano, the mistress, will have to pay pack $2,630,000 in restitution.  Sterling made some racist remarks in regards to Instagram posts by V. Stiviano which led to the NBA banning Sterling from owning an NBA franchise.\",\n",
       " \"Donald Sterling's former lover, V. Stiviano, has been told to pay Sterling's wife more than 2.6 million dollars. Shelly Sterling says that Donald used the pair's money to purchase expensive gifts for Stiviano, including three cars and a duplex. Last year Donald Sterling made racist remarks and lost his NBA team, the Clippers.\",\n",
       " \"Donald Sterling lost a NBA franchise for his racist comments. The judge ordered Sterling's mistress, V Stiviano to pay $2.6 million dollars. The family of Sterling got back $2,630,000 from Stiviano.\",\n",
       " 'Donald Sterling lost an NBA team after he made racist remarks. Sterling was ordered by the Los Angeles judge to spend $2.6 million to pay back gifts. $2,630,000 was recovered by the Sterling family.',\n",
       " \"Donald Sterling made racist remarks and ended up losing the NBA team that he owned. A Los Angeles judge also ordered Stiviano to return over $2.6 million dollars in gifts, due to a lawsuit by Sterling's wife. The Sterling family received $2,630,000 back from Sterling's former mistress, Stiviano.\",\n",
       " \"The racist remarks that were said by Doanld Sterling cost him his ownership of the Clippers. The NBA commissioner fined him $2.5 million and forced him to sell the team.  Sterling's mistress, V Stiviano was ordered by an LA judge to pay back $2.6 million after Sterling's wife Shelly won a lawsuit against her. This was considered a victory by the attorney for Shelly.\",\n",
       " \"Donald Sterling is the former owner of NBA team The Los Angeles Clippers who lost his ownership rights following racist comments.  Following a court decision, a Los Angeles judge ordered Sterling's former female companion, V. Stiviano, to pay back $2,630,000 that Sterling had spent on gifts for her to the Sterling family.  This comes after a lawsuit filed by Sterling's wife.\"]"
      ]
     },
     "execution_count": 14,
     "metadata": {},
     "output_type": "execute_result"
    }
   ],
   "source": [
    "# Log first 5 examples\n",
    "data_summary['test'][0]['human_summaries']"
   ]
  },
  {
   "cell_type": "code",
   "execution_count": 4,
   "metadata": {
    "colab": {
     "base_uri": "https://localhost:8080/"
    },
    "id": "XtuNpYek8Dx5",
    "outputId": "242bf693-e2c9-4d5e-f6ca-a02d5bc43e9f"
   },
   "outputs": [
    {
     "name": "stdout",
     "output_type": "stream",
     "text": [
      "Length of the machine summaries: 16\n",
      "Length of the human summaries: 11\n",
      "Length of the human annotaed (Relevance): 16\n"
     ]
    }
   ],
   "source": [
    "# Print the first instance of data\n",
    "print(f\"Length of the machine summaries: {len(data_summary['test'][0]['machine_summaries'])}\")\n",
    "print(f\"Length of the human summaries: {len(data_summary['test'][0]['human_summaries'])}\")\n",
    "print(f\"Length of the human annotaed (Relevance): {len(data_summary['test'][0]['relevance'])}\")"
   ]
  },
  {
   "cell_type": "markdown",
   "metadata": {
    "id": "MQhU211v4vAK"
   },
   "source": [
    "As we have observed below, the dataset consists of:\n",
    "\n",
    "- `machine_summaries`: 16 summaries generated by various language models, waiting to be evaluated.\n",
    "- `human_summaries`: 11 summaries written by human annotators, which serve as references.\n",
    "- `relevance`, `coherence`, `fluency`, `consistency`: Scores annotated by human evaluators based on these four aspects.\n",
    "- `text`: The source text to be summarized.\n",
    "- `id`: The unique identifier for each text.\n",
    "\n",
    "Overall, the downstream task is **summarization**. The goal is to condense the source text into a short, coherent paragraph.\n",
    "\n",
    "For each source text, there are 16 machine-generated summaries and 11 human-written summaries, with human evaluators providing quality scores for the machine summaries.\n",
    "\n"
   ]
  },
  {
   "cell_type": "markdown",
   "metadata": {
    "id": "ocfCb0UA9i9h"
   },
   "source": [
    "## 6.4 Evaluate Machine Summaries\n",
    "\n",
    "In this section, we will evaluate the machine-generated summaries using two widely adopted metrics: **BLEU** and **ROUGE**.\n",
    "\n",
    "- **BLEU**: Originally designed for translation tasks, it measures n-gram overlap between the generated text and the reference text.\n",
    "- **ROUGE**: Specifically designed for summarization tasks, it evaluates the overlap of n-grams, as well as sequences of words, between the generated and reference summaries.\n",
    "\n",
    "Given the nature of the task, it is intuitive to expect that **ROUGE** will perform better than **BLEU** in evaluating summarization quality.\n"
   ]
  },
  {
   "cell_type": "markdown",
   "metadata": {
    "id": "Am0Gzhor9qco"
   },
   "source": [
    "### ROUGE\n"
   ]
  },
  {
   "cell_type": "code",
   "execution_count": 15,
   "metadata": {
    "id": "RQjetLtmCON2"
   },
   "outputs": [],
   "source": [
    "from rouge_score import rouge_scorer\n",
    "from tqdm import tqdm\n",
    "\n",
    "def postprocess_text(data):\n",
    "    # Sometimes we need a postprocess\n",
    "    machine_summaries = []\n",
    "    human_summaries = []\n",
    "    for item in data['test']:\n",
    "        machine_summaries.extend(item['machine_summaries'])  # Extend to handle multiple machine summaries\n",
    "        human_summaries.extend([item['human_summaries']] * len(item['machine_summaries']))  # Repeat human references\n",
    "\n",
    "    return machine_summaries, human_summaries\n",
    "\n",
    "def compute_rouge_metrics(data):\n",
    "    machine_summaries, human_summaries = postprocess_text(data)\n",
    "    print(f\"Length of the machine summaries: {len(machine_summaries)}\")\n",
    "    print(f\"Length of the human summaries: {len(human_summaries)}\")\n",
    "    print(f\"Length of the human summaries 0: {len(human_summaries[0])}\")\n",
    "    print(f\"Machine summaries: {machine_summaries[0]}\")\n",
    "    print(f\"Human summaries: {human_summaries[0]}\")\n",
    "\n",
    "    # Initialize ROUGE scorer\n",
    "    scorer = rouge_scorer.RougeScorer(['rouge1', 'rouge2', 'rougeL'], use_stemmer=True)\n",
    "\n",
    "    # Compute instance-level ROUGE scores\n",
    "    instance_scores = []\n",
    "    for i in tqdm(range(len(machine_summaries))):\n",
    "        # Compute ROUGE for each machine summary against multiple human references\n",
    "        scores = [scorer.score(machine_summaries[i], ref) for ref in human_summaries[i]]\n",
    "\n",
    "        # Aggregate scores across all references (e.g., take the max, mean, or any other method)\n",
    "        aggregated_scores = {\n",
    "            'rouge1': max(s['rouge1'].fmeasure for s in scores),\n",
    "            'rouge2': max(s['rouge2'].fmeasure for s in scores),\n",
    "            'rougeL': max(s['rougeL'].fmeasure for s in scores)\n",
    "        }\n",
    "        instance_scores.append(aggregated_scores)\n",
    "\n",
    "    return instance_scores"
   ]
  },
  {
   "cell_type": "code",
   "execution_count": 16,
   "metadata": {
    "colab": {
     "base_uri": "https://localhost:8080/"
    },
    "id": "1JtfJIcW_gVO",
    "outputId": "39d99f26-6d2b-4c9a-af28-bbd014e1a541"
   },
   "outputs": [
    {
     "name": "stdout",
     "output_type": "stream",
     "text": [
      "Length of the machine summaries: 1600\n",
      "Length of the human summaries: 1600\n",
      "Length of the human summaries 0: 11\n",
      "Machine summaries: donald sterling , nba team last year . sterling 's wife sued for $ 2.6 million in gifts . sterling says he is the former female companion who has lost the . sterling has ordered v. stiviano to pay back $ 2.6 m in gifts after his wife sued . sterling also includes a $ 391 easter bunny costume , $ 299 and a $ 299 .\n",
      "Human summaries: [\"V. Stiviano must pay back $2.6 million in gifts from Donald Sterling. Sterling's wife claimed the ex-Clippers used the couple's money for the gifts. The items included a Ferrari, two Bentleys and a Range Rover.\", 'A player for a team has been under scrunity for money being earned while injured. The NBA is not pleased with these outcomes and this player has caused lots of controversy.', \"Donald Sterling lost his NBA team amid racist comments. His former companion is set to pay back over $2.6 million to Sterling's wife through lawsuit. The case has been considered a victory for the Sterling family.\", \"Donald Sterling cheated with a mistress, Stiviano, who was sued by Sterling's wife. The mistress was blamed for Sterling spending over $2.6 million on her and ordered to pay it all back.\", \"Donald Sterling's mistress will have to pay Sterling's wife for many lavish gifts that Sterling bought for her.  V. Stiviano, the mistress, will have to pay pack $2,630,000 in restitution.  Sterling made some racist remarks in regards to Instagram posts by V. Stiviano which led to the NBA banning Sterling from owning an NBA franchise.\", \"Donald Sterling's former lover, V. Stiviano, has been told to pay Sterling's wife more than 2.6 million dollars. Shelly Sterling says that Donald used the pair's money to purchase expensive gifts for Stiviano, including three cars and a duplex. Last year Donald Sterling made racist remarks and lost his NBA team, the Clippers.\", \"Donald Sterling lost a NBA franchise for his racist comments. The judge ordered Sterling's mistress, V Stiviano to pay $2.6 million dollars. The family of Sterling got back $2,630,000 from Stiviano.\", 'Donald Sterling lost an NBA team after he made racist remarks. Sterling was ordered by the Los Angeles judge to spend $2.6 million to pay back gifts. $2,630,000 was recovered by the Sterling family.', \"Donald Sterling made racist remarks and ended up losing the NBA team that he owned. A Los Angeles judge also ordered Stiviano to return over $2.6 million dollars in gifts, due to a lawsuit by Sterling's wife. The Sterling family received $2,630,000 back from Sterling's former mistress, Stiviano.\", \"The racist remarks that were said by Doanld Sterling cost him his ownership of the Clippers. The NBA commissioner fined him $2.5 million and forced him to sell the team.  Sterling's mistress, V Stiviano was ordered by an LA judge to pay back $2.6 million after Sterling's wife Shelly won a lawsuit against her. This was considered a victory by the attorney for Shelly.\", \"Donald Sterling is the former owner of NBA team The Los Angeles Clippers who lost his ownership rights following racist comments.  Following a court decision, a Los Angeles judge ordered Sterling's former female companion, V. Stiviano, to pay back $2,630,000 that Sterling had spent on gifts for her to the Sterling family.  This comes after a lawsuit filed by Sterling's wife.\"]\n"
     ]
    },
    {
     "name": "stderr",
     "output_type": "stream",
     "text": [
      "100%|██████████| 1600/1600 [00:31<00:00, 50.44it/s]\n"
     ]
    }
   ],
   "source": [
    "rouge_scores = compute_rouge_metrics(data_summary)"
   ]
  },
  {
   "cell_type": "code",
   "execution_count": 17,
   "metadata": {
    "colab": {
     "base_uri": "https://localhost:8080/"
    },
    "id": "_QvGKV7JId-r",
    "outputId": "06bf8c22-e1d7-457c-8301-1ed5e75087d7"
   },
   "outputs": [
    {
     "data": {
      "text/plain": [
       "{'rouge1': 0.5263157894736842,\n",
       " 'rouge2': 0.2553191489361702,\n",
       " 'rougeL': 0.29508196721311475}"
      ]
     },
     "execution_count": 17,
     "metadata": {},
     "output_type": "execute_result"
    }
   ],
   "source": [
    "# show one rouge score result for the first instance\n",
    "rouge_scores[0]"
   ]
  },
  {
   "cell_type": "markdown",
   "metadata": {
    "id": "cbJ0g_mISJH5"
   },
   "source": [
    "### BLEU"
   ]
  },
  {
   "cell_type": "code",
   "execution_count": 18,
   "metadata": {
    "id": "pPmzqvBPSDKP"
   },
   "outputs": [],
   "source": [
    "import sacrebleu\n",
    "\n",
    "def compute_bleu_instance_scores(data):\n",
    "    machine_summaries, human_summaries = postprocess_text(data)\n",
    "    print(f\"Number of machine summaries: {len(machine_summaries)}\")\n",
    "    print(f\"Number of human summaries: {len(human_summaries)}\")\n",
    "    print(f\"Example machine summary: {machine_summaries[0]}\")\n",
    "    print(f\"Example human references: {human_summaries[0]}\")\n",
    "\n",
    "    # Compute BLEU scores for each instance\n",
    "    instance_scores = []\n",
    "    for i in tqdm(range(len(machine_summaries))):\n",
    "        # Compute BLEU for each machine summary and its corresponding human references\n",
    "        bleu = sacrebleu.sentence_bleu(machine_summaries[i], human_summaries[i])\n",
    "        instance_scores.append({'bleu': bleu.score})\n",
    "\n",
    "    return instance_scores"
   ]
  },
  {
   "cell_type": "code",
   "execution_count": 19,
   "metadata": {
    "colab": {
     "base_uri": "https://localhost:8080/"
    },
    "id": "eMMmo3b1SOyZ",
    "outputId": "c538b149-8429-48fb-ca47-87c66b5153db"
   },
   "outputs": [
    {
     "name": "stdout",
     "output_type": "stream",
     "text": [
      "Number of machine summaries: 1600\n",
      "Number of human summaries: 1600\n",
      "Example machine summary: donald sterling , nba team last year . sterling 's wife sued for $ 2.6 million in gifts . sterling says he is the former female companion who has lost the . sterling has ordered v. stiviano to pay back $ 2.6 m in gifts after his wife sued . sterling also includes a $ 391 easter bunny costume , $ 299 and a $ 299 .\n",
      "Example human references: [\"V. Stiviano must pay back $2.6 million in gifts from Donald Sterling. Sterling's wife claimed the ex-Clippers used the couple's money for the gifts. The items included a Ferrari, two Bentleys and a Range Rover.\", 'A player for a team has been under scrunity for money being earned while injured. The NBA is not pleased with these outcomes and this player has caused lots of controversy.', \"Donald Sterling lost his NBA team amid racist comments. His former companion is set to pay back over $2.6 million to Sterling's wife through lawsuit. The case has been considered a victory for the Sterling family.\", \"Donald Sterling cheated with a mistress, Stiviano, who was sued by Sterling's wife. The mistress was blamed for Sterling spending over $2.6 million on her and ordered to pay it all back.\", \"Donald Sterling's mistress will have to pay Sterling's wife for many lavish gifts that Sterling bought for her.  V. Stiviano, the mistress, will have to pay pack $2,630,000 in restitution.  Sterling made some racist remarks in regards to Instagram posts by V. Stiviano which led to the NBA banning Sterling from owning an NBA franchise.\", \"Donald Sterling's former lover, V. Stiviano, has been told to pay Sterling's wife more than 2.6 million dollars. Shelly Sterling says that Donald used the pair's money to purchase expensive gifts for Stiviano, including three cars and a duplex. Last year Donald Sterling made racist remarks and lost his NBA team, the Clippers.\", \"Donald Sterling lost a NBA franchise for his racist comments. The judge ordered Sterling's mistress, V Stiviano to pay $2.6 million dollars. The family of Sterling got back $2,630,000 from Stiviano.\", 'Donald Sterling lost an NBA team after he made racist remarks. Sterling was ordered by the Los Angeles judge to spend $2.6 million to pay back gifts. $2,630,000 was recovered by the Sterling family.', \"Donald Sterling made racist remarks and ended up losing the NBA team that he owned. A Los Angeles judge also ordered Stiviano to return over $2.6 million dollars in gifts, due to a lawsuit by Sterling's wife. The Sterling family received $2,630,000 back from Sterling's former mistress, Stiviano.\", \"The racist remarks that were said by Doanld Sterling cost him his ownership of the Clippers. The NBA commissioner fined him $2.5 million and forced him to sell the team.  Sterling's mistress, V Stiviano was ordered by an LA judge to pay back $2.6 million after Sterling's wife Shelly won a lawsuit against her. This was considered a victory by the attorney for Shelly.\", \"Donald Sterling is the former owner of NBA team The Los Angeles Clippers who lost his ownership rights following racist comments.  Following a court decision, a Los Angeles judge ordered Sterling's former female companion, V. Stiviano, to pay back $2,630,000 that Sterling had spent on gifts for her to the Sterling family.  This comes after a lawsuit filed by Sterling's wife.\"]\n"
     ]
    },
    {
     "name": "stderr",
     "output_type": "stream",
     "text": [
      "100%|██████████| 1600/1600 [00:03<00:00, 467.26it/s]\n"
     ]
    }
   ],
   "source": [
    "bleu_scores = compute_bleu_instance_scores(data_summary)"
   ]
  },
  {
   "cell_type": "code",
   "execution_count": 20,
   "metadata": {
    "colab": {
     "base_uri": "https://localhost:8080/"
    },
    "id": "_QAvdUPVSYAo",
    "outputId": "be5922b2-7743-4709-9c5c-52684d7395e3"
   },
   "outputs": [
    {
     "data": {
      "text/plain": [
       "{'bleu': 17.03878880147131}"
      ]
     },
     "execution_count": 20,
     "metadata": {},
     "output_type": "execute_result"
    }
   ],
   "source": [
    "# show one bleu score result for the first instance\n",
    "bleu_scores[0]"
   ]
  },
  {
   "cell_type": "markdown",
   "metadata": {
    "id": "8YB6TSg_UqmB"
   },
   "source": [
    "## 6.5 Compare with Human Evaluaion\n",
    "\n",
    "In this section, we will compare metrics scores(e.g. BLEU, ROUGE) with the human annotated scores by computing correlation.\n",
    "\n",
    "\n",
    "\n",
    "\n"
   ]
  },
  {
   "cell_type": "markdown",
   "metadata": {
    "id": "Wd5ZwAieyHy-"
   },
   "source": [
    "### 6.5.1 Correlation Levels\n",
    "There are generally two levels of correlation scores, each focusing on different evaluation perspectives:\n",
    "\n",
    "- **System-level correlation**:  At this level, predictions generated by the same system (e.g., a language model) are grouped together. The mean score is computed for each group, and correlation is calculated based on these group averages.\n",
    "- **Instance-level correlation**:\n",
    "At this level, all predictions are treated independently, regardless of their source. Correlation is computed based on individual instance scores.\n",
    "\n",
    "**Question**: Why System-level?\n",
    "- Closer to the main purpose. (Usually we use metric to compare the systems)\n",
    "- Reduce noise from individual instances."
   ]
  },
  {
   "cell_type": "code",
   "execution_count": 21,
   "metadata": {
    "id": "Ni-Q1NWoSbkm"
   },
   "outputs": [],
   "source": [
    "# Extract the human annotated score from the original dataset\n",
    "def extract_human_scores(data_summary):\n",
    "    human_scores = []\n",
    "    for item in data_summary['test']:\n",
    "        # Attention, each item is a group of 16 instances\n",
    "        for j in range(len(item['relevance'])):\n",
    "            score_dict = {\n",
    "                'relevance': item['relevance'][j],\n",
    "                'coherence': item['coherence'][j],\n",
    "                'fluency': item['fluency'][j],\n",
    "                'consistency': item['consistency'][j],\n",
    "            }\n",
    "\n",
    "            # Append score_dict into human_scores\n",
    "            human_scores.append(score_dict)\n",
    "\n",
    "    return human_scores"
   ]
  },
  {
   "cell_type": "code",
   "execution_count": 22,
   "metadata": {
    "id": "OA_mKQYAjscQ"
   },
   "outputs": [],
   "source": [
    "human_scores = extract_human_scores(data_summary)"
   ]
  },
  {
   "cell_type": "code",
   "execution_count": 23,
   "metadata": {
    "id": "KLEoDZpysIlr"
   },
   "outputs": [],
   "source": [
    "def merge_metric_human_score(metric_name, metric_scores, human_scores):\n",
    "    '''\n",
    "    This function is used to merge scores which are computed by a specific metric into the human scores for faciliate next computations.\n",
    "\n",
    "    Inputs:\n",
    "        - metric_name: string\n",
    "        - metric_scores: a list of scores\n",
    "        - human_scores: a list of score dictionary which contains human annotations\n",
    "        Note. We suppose that the data in the inputs are in the same order on the instance level.\n",
    "\n",
    "    Output:\n",
    "        - all_scores: a list of score dictionary including metric scores\n",
    "    '''\n",
    "    # Assert that metric_scores and human_scores have the same length\n",
    "    assert len(metric_scores) == len(human_scores), (\n",
    "        f\"Length mismatch: metric_scores has {len(metric_scores)} elements, \"\n",
    "        f\"while human_scores has {len(human_scores)} elements.\"\n",
    "    )\n",
    "\n",
    "    # Merge the metric scores into the human scores\n",
    "    for i, item in enumerate(human_scores):\n",
    "        assert isinstance(item, dict), f\"Expected human_scores[{i}] to be a dictionary, got {type(item)}.\"\n",
    "        # Flat human scores into instance-level\n",
    "        human_scores[i][metric_name] = metric_scores[i]\n",
    "\n",
    "\n",
    "\n",
    "    return human_scores"
   ]
  },
  {
   "cell_type": "code",
   "execution_count": 24,
   "metadata": {
    "id": "kUt-DkQzuTHx"
   },
   "outputs": [],
   "source": [
    "def make_bleu_rouge_score_list(bleu_scores, rouge_scores):\n",
    "    assert len(bleu_scores) == len(rouge_scores), (\n",
    "        f\"Length mismatch: bleu scores has {len(bleu_scores)} elements, \"\n",
    "        f\"while rouge_scores has {len(rouge_scores)} elements.\"\n",
    "    )\n",
    "\n",
    "    bleu_list, rouge1_list, rouge2_list, rougeL_list = [], [], [], []\n",
    "    for i, _ in enumerate(bleu_scores):\n",
    "        bleu_list.append(bleu_scores[i]['bleu'])\n",
    "        rouge1_list.append(rouge_scores[i]['rouge1'])\n",
    "        rouge2_list.append(rouge_scores[i]['rouge2'])\n",
    "        rougeL_list.append(rouge_scores[i]['rougeL'])\n",
    "\n",
    "    return bleu_list, rouge1_list, rouge2_list, rougeL_list"
   ]
  },
  {
   "cell_type": "code",
   "execution_count": 25,
   "metadata": {
    "id": "gjALQW_ctxvV"
   },
   "outputs": [],
   "source": [
    "bleu_list, rouge1_scores, rouge2_scores, rougeL_scores = make_bleu_rouge_score_list(bleu_scores, rouge_scores)\n",
    "# merge bleu, rouge scores to human scores\n",
    "human_bleu_scores = merge_metric_human_score('bleu', bleu_list, human_scores)\n",
    "human_bleu_rouge_scores = merge_metric_human_score('rouge1', rouge1_scores, human_bleu_scores)\n",
    "human_bleu_rouge_scores = merge_metric_human_score('rouge2', rouge2_scores, human_bleu_rouge_scores)\n",
    "human_bleu_rouge_scores = merge_metric_human_score('rougeL', rougeL_scores, human_bleu_rouge_scores)"
   ]
  },
  {
   "cell_type": "code",
   "execution_count": 26,
   "metadata": {
    "colab": {
     "base_uri": "https://localhost:8080/"
    },
    "id": "_DIip3GJxI39",
    "outputId": "743d4b58-271d-476f-c6bb-f142313b7b8c"
   },
   "outputs": [
    {
     "data": {
      "text/plain": [
       "{'relevance': 1.6666666666666667,\n",
       " 'coherence': 1.3333333333333333,\n",
       " 'fluency': 1.0,\n",
       " 'consistency': 1.0,\n",
       " 'bleu': 17.03878880147131,\n",
       " 'rouge1': 0.5263157894736842,\n",
       " 'rouge2': 0.2553191489361702,\n",
       " 'rougeL': 0.29508196721311475}"
      ]
     },
     "execution_count": 26,
     "metadata": {},
     "output_type": "execute_result"
    }
   ],
   "source": [
    "# Check whether we have put all scores into one instance\n",
    "human_bleu_rouge_scores[0]"
   ]
  },
  {
   "cell_type": "markdown",
   "metadata": {
    "id": "AE07NIK6kHB8"
   },
   "source": [
    "### 6.5.2 System-level"
   ]
  },
  {
   "cell_type": "code",
   "execution_count": 27,
   "metadata": {
    "id": "KCrAuFY0jxuG"
   },
   "outputs": [],
   "source": [
    "from scipy.stats import pearsonr\n",
    "from collections import defaultdict\n",
    "\n",
    "def compute_system_level_score(human_bleu_rouge_scores):\n",
    "    '''\n",
    "    This function is used to compute the correlation between automatic metrics and human annotations on a system level.\n",
    "\n",
    "    ====IMPORTANT====\n",
    "    As the summaries are generated by 16 LLMs, we consider each LLM as a system.\n",
    "    It means the i-th and the (i+16)-th elements are generated by the same system.\n",
    "    '''\n",
    "\n",
    "    num_system = 16\n",
    "    assert len(human_bleu_rouge_scores) % num_system == 0, (\n",
    "        \"The number of scores is not divisible by the number of systems. \"\n",
    "        \"Please check the input data.\"\n",
    "    )\n",
    "\n",
    "    # Prepare average scores for each system\n",
    "    system_scores = defaultdict(lambda: defaultdict(list))\n",
    "    num_instances_per_system = len(human_bleu_rouge_scores) // num_system\n",
    "\n",
    "    for i in range(num_system):\n",
    "        for j in range(num_instances_per_system):\n",
    "            instance_idx = i + num_system * j\n",
    "            instance_scores = human_bleu_rouge_scores[instance_idx]\n",
    "\n",
    "            # Group scores by system\n",
    "            for key, value in instance_scores.items():\n",
    "                system_scores[i][key].append(value)\n",
    "\n",
    "    # Compute mean scores for each system\n",
    "    averaged_system_scores = {\n",
    "        system_id: {metric: sum(values) / len(values) for metric, values in metrics.items()}\n",
    "        for system_id, metrics in system_scores.items()\n",
    "    }\n",
    "\n",
    "    # Extract system-level scores for metrics and human annotations\n",
    "    metric_names = [\"bleu\", \"rouge1\", \"rouge2\", \"rougeL\"]\n",
    "    human_metrics = [\"relevance\", \"coherence\", \"fluency\", \"consistency\"]\n",
    "\n",
    "    system_level_metrics = {metric: [] for metric in metric_names}\n",
    "    system_level_human = {metric: [] for metric in human_metrics}\n",
    "\n",
    "    for system_id, scores in averaged_system_scores.items():\n",
    "        for metric in metric_names:\n",
    "            system_level_metrics[metric].append(scores[metric])\n",
    "        for human_metric in human_metrics:\n",
    "            system_level_human[human_metric].append(scores[human_metric])\n",
    "\n",
    "    # Compute Pearson correlations\n",
    "    correlations = {}\n",
    "    for metric in metric_names:\n",
    "        correlations[metric] = {}\n",
    "        for human_metric in human_metrics:\n",
    "            corr, _ = pearsonr(system_level_metrics[metric], system_level_human[human_metric])\n",
    "            correlations[metric][human_metric] = corr\n",
    "\n",
    "    return correlations"
   ]
  },
  {
   "cell_type": "code",
   "execution_count": 29,
   "metadata": {},
   "outputs": [
    {
     "name": "stdout",
     "output_type": "stream",
     "text": [
      "\n",
      "\u001b[1m[\u001b[0m\u001b[34;49mnotice\u001b[0m\u001b[1;39;49m]\u001b[0m\u001b[39;49m A new release of pip is available: \u001b[0m\u001b[31;49m24.2\u001b[0m\u001b[39;49m -> \u001b[0m\u001b[32;49m24.3.1\u001b[0m\n",
      "\u001b[1m[\u001b[0m\u001b[34;49mnotice\u001b[0m\u001b[1;39;49m]\u001b[0m\u001b[39;49m To update, run: \u001b[0m\u001b[32;49mpip install --upgrade pip\u001b[0m\n"
     ]
    }
   ],
   "source": [
    "! pip install seaborn -q"
   ]
  },
  {
   "cell_type": "code",
   "execution_count": 30,
   "metadata": {
    "id": "3Us5LFeI3eS_"
   },
   "outputs": [],
   "source": [
    "import pandas as pd\n",
    "import seaborn as sns\n",
    "import matplotlib.pyplot as plt\n",
    "\n",
    "def show_correlation(correlations, display_table=True):\n",
    "    \"\"\"\n",
    "    This function formats and displays the correlation results in a readable table.\n",
    "\n",
    "    Args:\n",
    "        - correlations (dict): The dictionary containing correlation results.\n",
    "        - display_table (bool): Whether to display the table in the console (default: True).\n",
    "    \"\"\"\n",
    "    # Convert the nested dictionary into a DataFrame for better visualization\n",
    "    df = pd.DataFrame(correlations).T\n",
    "\n",
    "    if display_table:\n",
    "        print(\"\\nCorrelation Results (Metric vs Human Evaluation):\")\n",
    "        print(df)\n",
    "\n",
    "    # Return the DataFrame for further usage if needed\n",
    "    return df\n",
    "\n",
    "def plot_heatmap(df):\n",
    "    # Create a heatmap\n",
    "    plt.figure(figsize=(10, 6))\n",
    "    sns.heatmap(df, annot=True, fmt=\".3f\", cmap=\"coolwarm\", cbar_kws={'label': 'Correlation Coefficient'})\n",
    "    plt.title(\"Correlation Heatmap: Metrics vs Human Evaluation\", fontsize=14)\n",
    "    plt.xlabel(\"Human Evaluation Metrics\", fontsize=12)\n",
    "    plt.ylabel(\"Automatic Metrics\", fontsize=12)\n",
    "    plt.tight_layout()\n",
    "    plt.show()"
   ]
  },
  {
   "cell_type": "code",
   "execution_count": 31,
   "metadata": {
    "colab": {
     "base_uri": "https://localhost:8080/"
    },
    "id": "SYi9DGA03htf",
    "outputId": "152b44e7-7b1b-41ae-a6e3-2b3758729a3f"
   },
   "outputs": [
    {
     "name": "stdout",
     "output_type": "stream",
     "text": [
      "\n",
      "Correlation Results (Metric vs Human Evaluation):\n",
      "        relevance  coherence   fluency  consistency\n",
      "bleu     0.462037   0.492900  0.232538     0.175253\n",
      "rouge1   0.680887   0.276226  0.654119     0.688877\n",
      "rouge2   0.662387   0.283968  0.636789     0.663887\n",
      "rougeL   0.696694   0.475718  0.644506     0.615390\n"
     ]
    }
   ],
   "source": [
    "# Compute correlations\n",
    "correlations = compute_system_level_score(human_bleu_rouge_scores)\n",
    "\n",
    "# Show correlation\n",
    "df = show_correlation(correlations, display_table=True)"
   ]
  },
  {
   "cell_type": "code",
   "execution_count": 32,
   "metadata": {
    "colab": {
     "base_uri": "https://localhost:8080/",
     "height": 607
    },
    "id": "JY4y3xzQ3IOZ",
    "outputId": "a81cc55c-a08b-4ca2-b340-de303a4647c5"
   },
   "outputs": [
    {
     "data": {
      "image/png": "[encoded data removed]",
      "text/plain": [
       "<Figure size 1000x600 with 2 Axes>"
      ]
     },
     "metadata": {},
     "output_type": "display_data"
    }
   ],
   "source": [
    "# Visualize the results in heatmap\n",
    "plot_heatmap(df)"
   ]
  },
  {
   "cell_type": "markdown",
   "metadata": {
    "id": "GpKBRd82yVfP"
   },
   "source": [
    "### 6.5.3 Instance-level\n",
    "\n",
    "The operations are similar to on system-level."
   ]
  },
  {
   "cell_type": "code",
   "execution_count": 33,
   "metadata": {
    "id": "MzNqc4YByYLH"
   },
   "outputs": [],
   "source": [
    "def compute_instance_level_score(human_bleu_rouge_scores):\n",
    "    '''\n",
    "    This function computes instance-level correlation between automatic metrics\n",
    "    (e.g., BLEU, ROUGE) and human evaluation metrics (e.g., relevance, fluency).\n",
    "\n",
    "    Inputs:\n",
    "        - human_bleu_rouge_scores: List of dictionaries. Each dictionary contains\n",
    "          automatic metric scores (e.g., 'bleu', 'rouge1') and human evaluation scores\n",
    "          (e.g., 'relevance', 'fluency') for a single instance.\n",
    "\n",
    "    Output:\n",
    "        - correlations: Dictionary of correlation results between each automatic metric\n",
    "          and each human evaluation metric.\n",
    "    '''\n",
    "    # Define metric names\n",
    "    metric_names = [\"bleu\", \"rouge1\", \"rouge2\", \"rougeL\"]\n",
    "    human_metrics = [\"relevance\", \"coherence\", \"fluency\", \"consistency\"]\n",
    "\n",
    "    # Prepare lists to hold metric and human evaluation scores\n",
    "    metric_scores = {metric: [] for metric in metric_names}\n",
    "    human_scores = {human_metric: [] for human_metric in human_metrics}\n",
    "\n",
    "    # Populate the lists from the input data\n",
    "    for instance in human_bleu_rouge_scores:\n",
    "        for metric in metric_names:\n",
    "            metric_scores[metric].append(instance[metric])\n",
    "        for human_metric in human_metrics:\n",
    "            human_scores[human_metric].append(instance[human_metric])\n",
    "\n",
    "    # Compute Pearson correlations\n",
    "    correlations = {}\n",
    "    for metric in metric_names:\n",
    "        correlations[metric] = {}\n",
    "        for human_metric in human_metrics:\n",
    "            # Compute Pearson correlation between the two lists\n",
    "            corr, _ = pearsonr(metric_scores[metric], human_scores[human_metric])\n",
    "            correlations[metric][human_metric] = corr\n",
    "\n",
    "    return correlations\n"
   ]
  },
  {
   "cell_type": "code",
   "execution_count": 34,
   "metadata": {
    "colab": {
     "base_uri": "https://localhost:8080/"
    },
    "id": "yqNc7Pou5OR2",
    "outputId": "fccefa1d-9d68-4b25-ebf1-4c2fb556c2aa"
   },
   "outputs": [
    {
     "name": "stdout",
     "output_type": "stream",
     "text": [
      "\n",
      "Correlation Results (Metric vs Human Evaluation):\n",
      "        relevance  coherence   fluency  consistency\n",
      "bleu     0.289784   0.249679  0.139040     0.117483\n",
      "rouge1   0.349740   0.224760  0.171171     0.212273\n",
      "rouge2   0.239955   0.155816  0.123316     0.167018\n",
      "rougeL   0.255646   0.206109  0.134816     0.173601\n"
     ]
    }
   ],
   "source": [
    "# Compute correlations\n",
    "correlations_instance = compute_instance_level_score(human_bleu_rouge_scores)\n",
    "\n",
    "# Show instance-level instance\n",
    "df_instance = show_correlation(correlations_instance, display_table=True)"
   ]
  },
  {
   "cell_type": "code",
   "execution_count": 35,
   "metadata": {
    "colab": {
     "base_uri": "https://localhost:8080/",
     "height": 607
    },
    "id": "77SvGjWL5U6h",
    "outputId": "3f5b22f0-7748-440d-9a37-019f08dd4d42"
   },
   "outputs": [
    {
     "data": {
      "image/png": "[encoded data removed]",
      "text/plain": [
       "<Figure size 1000x600 with 2 Axes>"
      ]
     },
     "metadata": {},
     "output_type": "display_data"
    }
   ],
   "source": [
    "# Plot heatmap\n",
    "plot_heatmap(df_instance)"
   ]
  },
  {
   "cell_type": "markdown",
   "metadata": {
    "id": "YjhdHgLE6XnV"
   },
   "source": [
    "## 6.6 Conlusion\n",
    "\n",
    "\n",
    "\n",
    "\n",
    "\n"
   ]
  },
  {
   "cell_type": "markdown",
   "metadata": {
    "id": "-OTKFRmz-iDA"
   },
   "source": [
    "### 6.6.1 Experiment Result\n",
    "From the results above, we can observe that ROUGE aligns more closely with human judgments at the system level. This finding supports our hypothesis that **ROUGE is a more reliable metric than BLEU for summarization tasks**.\n",
    "\n",
    "However, at the instance level, the correlation scores are notably low for all automatic metrics. This highlights the difficulty of achieving consistent scores at the instance level, where even human annotators sometimes disagree with each other. This disagreement further demonstrates the inherent challenges of evaluating text quality on such a fine-grained scale."
   ]
  },
  {
   "cell_type": "markdown",
   "metadata": {
    "id": "FBwFu5pf-mRD"
   },
   "source": [
    "### 6.6.2 Annotating\n",
    "\n",
    "English: http://annotatehost.loria.fr:9006/?PROLIFIC_PID=login\n",
    "\n",
    "https://annotatehost.loria.fr:9006/?PROLIFIC_PID=oyetunji.abioye\n",
    "Arabic: http://annotatehost.loria.fr:9001/?PROLIFIC_PID=login\n",
    "French: http://annotatehost.loria.fr:9002/?PROLIFIC_PID=login\n",
    "Russian: http://annotatehost.loria.fr:9003/?PROLIFIC_PID=login\n",
    "Spanish: http://annotatehost.loria.fr:9004/?PROLIFIC_PID=login\n",
    "Chinese: http://annotatehost.loria.fr:9005/?PROLIFIC_PID=login\n",
    "\n",
    " To access the link, replace login by firstname.lastname\n",
    "\n",
    "\n",
    "####  6.6.3  Annotation platforms\n",
    "\n",
    "As the saying goes, “time is money”—and human annotations are certainly costly in both time and resources. Because of this, we often limit human annotations to small, carefully chosen test sets.\n",
    "\n",
    "But here's the silver lining: the demand for annotations has given rise to a new profession—Human Annotator! If labeling tasks sound like your cup of tea (and you'd like to earn a few bucks along the way), here are two great places to start:\n",
    "- [Prolific.](https://www.prolific.com/)\n",
    "- [Amazon Mechanical Turk.](https://www.mturk.com/)"
   ]
  },
  {
   "cell_type": "markdown",
   "metadata": {
    "id": "CdWqGfSC-_jy"
   },
   "source": [
    "## 6.7 Exercise\n",
    "\n",
    "**Hang in there—this is the final exercise!**\n",
    "\n",
    "Through the previous code, you've seen how to use human evaluation to select reliable automatic metrics. Now, it's your turn to **explore metrics** beyond BLEU and ROUGE and compute their correlation with human evaluations to demonstrate their feasibility and reliability.\n",
    "\n",
    "**Suggestions:**\n",
    "- You can continue working with the same task and dataset for this exercise.\n",
    "- There's no need to start from scratch. Carefully review the provided functions and feel free to reuse or modify them as needed.\n",
    "- Before diving into a new metric, I recommend taking a moment to understand its design principles and objectives (e.g., does it support summarization tasks?).\n",
    "\n",
    "**Here's a checklist to guide your exploration:**\n",
    "- Load the dataset.\n",
    "- Compute scores using your chosen metric.\n",
    "- Extract human evaluation scores.\n",
    "- (Optional but recommended) Combine the automatic metric scores with human evaluation scores into an instance-level dataset.\n",
    "- Compute both system-level and instance-level Pearson correlation scores.\n",
    "- Visualize your results and plot a heatmap.\n",
    "\n",
    "Good luck, and have fun exploring new metrics! 🚀"
   ]
  },
  {
   "cell_type": "code",
   "execution_count": null,
   "metadata": {
    "id": "l8ymzwkN5k27"
   },
   "outputs": [],
   "source": []
  }
 ],
 "metadata": {
  "colab": {
   "provenance": [],
   "toc_visible": true
  },
  "kernelspec": {
   "display_name": "nn_speech_recognition-qgr9tgLb",
   "language": "python",
   "name": "python3"
  },
  "language_info": {
   "codemirror_mode": {
    "name": "ipython",
    "version": 3
   },
   "file_extension": ".py",
   "mimetype": "text/x-python",
   "name": "python",
   "nbconvert_exporter": "python",
   "pygments_lexer": "ipython3",
   "version": "3.12.4"
  },
  "widgets": {
   "application/vnd.jupyter.widget-state+json": {
    "0d67371a2dae4e9a9c07984b8f8c92fa": {
     "model_module": "@jupyter-widgets/controls",
     "model_module_version": "1.5.0",
     "model_name": "DescriptionStyleModel",
     "state": {
      "_model_module": "@jupyter-widgets/controls",
      "_model_module_version": "1.5.0",
      "_model_name": "DescriptionStyleModel",
      "_view_count": null,
      "_view_module": "@jupyter-widgets/base",
      "_view_module_version": "1.2.0",
      "_view_name": "StyleView",
      "description_width": ""
     }
    },
    "1bfb9e94fbb646bfa0069417bab4bde8": {
     "model_module": "@jupyter-widgets/controls",
     "model_module_version": "1.5.0",
     "model_name": "DescriptionStyleModel",
     "state": {
      "_model_module": "@jupyter-widgets/controls",
      "_model_module_version": "1.5.0",
      "_model_name": "DescriptionStyleModel",
      "_view_count": null,
      "_view_module": "@jupyter-widgets/base",
      "_view_module_version": "1.2.0",
      "_view_name": "StyleView",
      "description_width": ""
     }
    },
    "251fd6389a6d46b7811e8d648ffa4ddb": {
     "model_module": "@jupyter-widgets/controls",
     "model_module_version": "1.5.0",
     "model_name": "DescriptionStyleModel",
     "state": {
      "_model_module": "@jupyter-widgets/controls",
      "_model_module_version": "1.5.0",
      "_model_name": "DescriptionStyleModel",
      "_view_count": null,
      "_view_module": "@jupyter-widgets/base",
      "_view_module_version": "1.2.0",
      "_view_name": "StyleView",
      "description_width": ""
     }
    },
    "2609a95468854699b82779e2babbd0fc": {
     "model_module": "@jupyter-widgets/controls",
     "model_module_version": "1.5.0",
     "model_name": "ProgressStyleModel",
     "state": {
      "_model_module": "@jupyter-widgets/controls",
      "_model_module_version": "1.5.0",
      "_model_name": "ProgressStyleModel",
      "_view_count": null,
      "_view_module": "@jupyter-widgets/base",
      "_view_module_version": "1.2.0",
      "_view_name": "StyleView",
      "bar_color": null,
      "description_width": ""
     }
    },
    "26b1e19f0fb44bf99689ad59ada9bf45": {
     "model_module": "@jupyter-widgets/base",
     "model_module_version": "1.2.0",
     "model_name": "LayoutModel",
     "state": {
      "_model_module": "@jupyter-widgets/base",
      "_model_module_version": "1.2.0",
      "_model_name": "LayoutModel",
      "_view_count": null,
      "_view_module": "@jupyter-widgets/base",
      "_view_module_version": "1.2.0",
      "_view_name": "LayoutView",
      "align_content": null,
      "align_items": null,
      "align_self": null,
      "border": null,
      "bottom": null,
      "display": null,
      "flex": null,
      "flex_flow": null,
      "grid_area": null,
      "grid_auto_columns": null,
      "grid_auto_flow": null,
      "grid_auto_rows": null,
      "grid_column": null,
      "grid_gap": null,
      "grid_row": null,
      "grid_template_areas": null,
      "grid_template_columns": null,
      "grid_template_rows": null,
      "height": null,
      "justify_content": null,
      "justify_items": null,
      "left": null,
      "margin": null,
      "max_height": null,
      "max_width": null,
      "min_height": null,
      "min_width": null,
      "object_fit": null,
      "object_position": null,
      "order": null,
      "overflow": null,
      "overflow_x": null,
      "overflow_y": null,
      "padding": null,
      "right": null,
      "top": null,
      "visibility": null,
      "width": null
     }
    },
    "2784e7a1942c4ad18c2524bee5ecf058": {
     "model_module": "@jupyter-widgets/controls",
     "model_module_version": "1.5.0",
     "model_name": "HTMLModel",
     "state": {
      "_dom_classes": [],
      "_model_module": "@jupyter-widgets/controls",
      "_model_module_version": "1.5.0",
      "_model_name": "HTMLModel",
      "_view_count": null,
      "_view_module": "@jupyter-widgets/controls",
      "_view_module_version": "1.5.0",
      "_view_name": "HTMLView",
      "description": "",
      "description_tooltip": null,
      "layout": "IPY_MODEL_77ae048ce26848e99a4e06bd66c5a034",
      "placeholder": "​",
      "style": "IPY_MODEL_5eea1e4ad7594e9aa22d7e6bfaf5f88d",
      "value": " 423k/423k [00:00&lt;00:00, 5.20MB/s]"
     }
    },
    "38bf4a5156a34a5bbc5a7314dd830246": {
     "model_module": "@jupyter-widgets/controls",
     "model_module_version": "1.5.0",
     "model_name": "HTMLModel",
     "state": {
      "_dom_classes": [],
      "_model_module": "@jupyter-widgets/controls",
      "_model_module_version": "1.5.0",
      "_model_name": "HTMLModel",
      "_view_count": null,
      "_view_module": "@jupyter-widgets/controls",
      "_view_module_version": "1.5.0",
      "_view_name": "HTMLView",
      "description": "",
      "description_tooltip": null,
      "layout": "IPY_MODEL_ec8fdc533c7840a18445dd2359badbb4",
      "placeholder": "​",
      "style": "IPY_MODEL_0d67371a2dae4e9a9c07984b8f8c92fa",
      "value": " 2.38k/2.38k [00:00&lt;00:00, 132kB/s]"
     }
    },
    "4129e791b43d47f7a878ec6fa559fb65": {
     "model_module": "@jupyter-widgets/controls",
     "model_module_version": "1.5.0",
     "model_name": "HTMLModel",
     "state": {
      "_dom_classes": [],
      "_model_module": "@jupyter-widgets/controls",
      "_model_module_version": "1.5.0",
      "_model_name": "HTMLModel",
      "_view_count": null,
      "_view_module": "@jupyter-widgets/controls",
      "_view_module_version": "1.5.0",
      "_view_name": "HTMLView",
      "description": "",
      "description_tooltip": null,
      "layout": "IPY_MODEL_51aea6a06ea4495b9fb3be46c066e9f5",
      "placeholder": "​",
      "style": "IPY_MODEL_cc860e253134490ca765536923eaeb63",
      "value": "README.md: 100%"
     }
    },
    "4a17bf4c4d3846bface474a06a81ab05": {
     "model_module": "@jupyter-widgets/base",
     "model_module_version": "1.2.0",
     "model_name": "LayoutModel",
     "state": {
      "_model_module": "@jupyter-widgets/base",
      "_model_module_version": "1.2.0",
      "_model_name": "LayoutModel",
      "_view_count": null,
      "_view_module": "@jupyter-widgets/base",
      "_view_module_version": "1.2.0",
      "_view_name": "LayoutView",
      "align_content": null,
      "align_items": null,
      "align_self": null,
      "border": null,
      "bottom": null,
      "display": null,
      "flex": null,
      "flex_flow": null,
      "grid_area": null,
      "grid_auto_columns": null,
      "grid_auto_flow": null,
      "grid_auto_rows": null,
      "grid_column": null,
      "grid_gap": null,
      "grid_row": null,
      "grid_template_areas": null,
      "grid_template_columns": null,
      "grid_template_rows": null,
      "height": null,
      "justify_content": null,
      "justify_items": null,
      "left": null,
      "margin": null,
      "max_height": null,
      "max_width": null,
      "min_height": null,
      "min_width": null,
      "object_fit": null,
      "object_position": null,
      "order": null,
      "overflow": null,
      "overflow_x": null,
      "overflow_y": null,
      "padding": null,
      "right": null,
      "top": null,
      "visibility": null,
      "width": null
     }
    },
    "4ce5e693140c4d7ba71d4416d5722bd1": {
     "model_module": "@jupyter-widgets/controls",
     "model_module_version": "1.5.0",
     "model_name": "DescriptionStyleModel",
     "state": {
      "_model_module": "@jupyter-widgets/controls",
      "_model_module_version": "1.5.0",
      "_model_name": "DescriptionStyleModel",
      "_view_count": null,
      "_view_module": "@jupyter-widgets/base",
      "_view_module_version": "1.2.0",
      "_view_name": "StyleView",
      "description_width": ""
     }
    },
    "4d83b309bd0f45268c2cc768e17ad279": {
     "model_module": "@jupyter-widgets/controls",
     "model_module_version": "1.5.0",
     "model_name": "HTMLModel",
     "state": {
      "_dom_classes": [],
      "_model_module": "@jupyter-widgets/controls",
      "_model_module_version": "1.5.0",
      "_model_name": "HTMLModel",
      "_view_count": null,
      "_view_module": "@jupyter-widgets/controls",
      "_view_module_version": "1.5.0",
      "_view_name": "HTMLView",
      "description": "",
      "description_tooltip": null,
      "layout": "IPY_MODEL_8851fccebcad423199407f2abffc6488",
      "placeholder": "​",
      "style": "IPY_MODEL_54026caf33054564a69b039c3e00e6b3",
      "value": " 635/635 [00:00&lt;00:00, 32.0kB/s]"
     }
    },
    "4ddcbb7a4e3440b2bd6f86aae4e3d699": {
     "model_module": "@jupyter-widgets/controls",
     "model_module_version": "1.5.0",
     "model_name": "HBoxModel",
     "state": {
      "_dom_classes": [],
      "_model_module": "@jupyter-widgets/controls",
      "_model_module_version": "1.5.0",
      "_model_name": "HBoxModel",
      "_view_count": null,
      "_view_module": "@jupyter-widgets/controls",
      "_view_module_version": "1.5.0",
      "_view_name": "HBoxView",
      "box_style": "",
      "children": [
       "IPY_MODEL_4129e791b43d47f7a878ec6fa559fb65",
       "IPY_MODEL_abc956a07d0b4659b68e921c62b08b18",
       "IPY_MODEL_4d83b309bd0f45268c2cc768e17ad279"
      ],
      "layout": "IPY_MODEL_cf0c4d329491417aa5b2ce7b45106732"
     }
    },
    "4e1e757e7e544b4f8ae8096a2fc49098": {
     "model_module": "@jupyter-widgets/controls",
     "model_module_version": "1.5.0",
     "model_name": "FloatProgressModel",
     "state": {
      "_dom_classes": [],
      "_model_module": "@jupyter-widgets/controls",
      "_model_module_version": "1.5.0",
      "_model_name": "FloatProgressModel",
      "_view_count": null,
      "_view_module": "@jupyter-widgets/controls",
      "_view_module_version": "1.5.0",
      "_view_name": "ProgressView",
      "bar_style": "success",
      "description": "",
      "description_tooltip": null,
      "layout": "IPY_MODEL_fa8ad55ce57e43d18557c872b193aa25",
      "max": 100,
      "min": 0,
      "orientation": "horizontal",
      "style": "IPY_MODEL_d3026cb8ccd847559a22e228cc03fff4",
      "value": 100
     }
    },
    "4f16f4902d4749689215414e1975a53b": {
     "model_module": "@jupyter-widgets/controls",
     "model_module_version": "1.5.0",
     "model_name": "ProgressStyleModel",
     "state": {
      "_model_module": "@jupyter-widgets/controls",
      "_model_module_version": "1.5.0",
      "_model_name": "ProgressStyleModel",
      "_view_count": null,
      "_view_module": "@jupyter-widgets/base",
      "_view_module_version": "1.2.0",
      "_view_name": "StyleView",
      "bar_color": null,
      "description_width": ""
     }
    },
    "51aea6a06ea4495b9fb3be46c066e9f5": {
     "model_module": "@jupyter-widgets/base",
     "model_module_version": "1.2.0",
     "model_name": "LayoutModel",
     "state": {
      "_model_module": "@jupyter-widgets/base",
      "_model_module_version": "1.2.0",
      "_model_name": "LayoutModel",
      "_view_count": null,
      "_view_module": "@jupyter-widgets/base",
      "_view_module_version": "1.2.0",
      "_view_name": "LayoutView",
      "align_content": null,
      "align_items": null,
      "align_self": null,
      "border": null,
      "bottom": null,
      "display": null,
      "flex": null,
      "flex_flow": null,
      "grid_area": null,
      "grid_auto_columns": null,
      "grid_auto_flow": null,
      "grid_auto_rows": null,
      "grid_column": null,
      "grid_gap": null,
      "grid_row": null,
      "grid_template_areas": null,
      "grid_template_columns": null,
      "grid_template_rows": null,
      "height": null,
      "justify_content": null,
      "justify_items": null,
      "left": null,
      "margin": null,
      "max_height": null,
      "max_width": null,
      "min_height": null,
      "min_width": null,
      "object_fit": null,
      "object_position": null,
      "order": null,
      "overflow": null,
      "overflow_x": null,
      "overflow_y": null,
      "padding": null,
      "right": null,
      "top": null,
      "visibility": null,
      "width": null
     }
    },
    "54026caf33054564a69b039c3e00e6b3": {
     "model_module": "@jupyter-widgets/controls",
     "model_module_version": "1.5.0",
     "model_name": "DescriptionStyleModel",
     "state": {
      "_model_module": "@jupyter-widgets/controls",
      "_model_module_version": "1.5.0",
      "_model_name": "DescriptionStyleModel",
      "_view_count": null,
      "_view_module": "@jupyter-widgets/base",
      "_view_module_version": "1.2.0",
      "_view_name": "StyleView",
      "description_width": ""
     }
    },
    "5cb2152ad8c24c52b3459aabf35e2665": {
     "model_module": "@jupyter-widgets/base",
     "model_module_version": "1.2.0",
     "model_name": "LayoutModel",
     "state": {
      "_model_module": "@jupyter-widgets/base",
      "_model_module_version": "1.2.0",
      "_model_name": "LayoutModel",
      "_view_count": null,
      "_view_module": "@jupyter-widgets/base",
      "_view_module_version": "1.2.0",
      "_view_name": "LayoutView",
      "align_content": null,
      "align_items": null,
      "align_self": null,
      "border": null,
      "bottom": null,
      "display": null,
      "flex": null,
      "flex_flow": null,
      "grid_area": null,
      "grid_auto_columns": null,
      "grid_auto_flow": null,
      "grid_auto_rows": null,
      "grid_column": null,
      "grid_gap": null,
      "grid_row": null,
      "grid_template_areas": null,
      "grid_template_columns": null,
      "grid_template_rows": null,
      "height": null,
      "justify_content": null,
      "justify_items": null,
      "left": null,
      "margin": null,
      "max_height": null,
      "max_width": null,
      "min_height": null,
      "min_width": null,
      "object_fit": null,
      "object_position": null,
      "order": null,
      "overflow": null,
      "overflow_x": null,
      "overflow_y": null,
      "padding": null,
      "right": null,
      "top": null,
      "visibility": null,
      "width": null
     }
    },
    "5eea1e4ad7594e9aa22d7e6bfaf5f88d": {
     "model_module": "@jupyter-widgets/controls",
     "model_module_version": "1.5.0",
     "model_name": "DescriptionStyleModel",
     "state": {
      "_model_module": "@jupyter-widgets/controls",
      "_model_module_version": "1.5.0",
      "_model_name": "DescriptionStyleModel",
      "_view_count": null,
      "_view_module": "@jupyter-widgets/base",
      "_view_module_version": "1.2.0",
      "_view_name": "StyleView",
      "description_width": ""
     }
    },
    "62b9c0b2e9f6485cb0a9f3843ca72f47": {
     "model_module": "@jupyter-widgets/controls",
     "model_module_version": "1.5.0",
     "model_name": "HBoxModel",
     "state": {
      "_dom_classes": [],
      "_model_module": "@jupyter-widgets/controls",
      "_model_module_version": "1.5.0",
      "_model_name": "HBoxModel",
      "_view_count": null,
      "_view_module": "@jupyter-widgets/controls",
      "_view_module_version": "1.5.0",
      "_view_name": "HBoxView",
      "box_style": "",
      "children": [
       "IPY_MODEL_6ee0ced11b5e45c5a01aeb4882091693",
       "IPY_MODEL_a70e4c1955f94c57831b68108b9d134b",
       "IPY_MODEL_2784e7a1942c4ad18c2524bee5ecf058"
      ],
      "layout": "IPY_MODEL_4a17bf4c4d3846bface474a06a81ab05"
     }
    },
    "6ee0ced11b5e45c5a01aeb4882091693": {
     "model_module": "@jupyter-widgets/controls",
     "model_module_version": "1.5.0",
     "model_name": "HTMLModel",
     "state": {
      "_dom_classes": [],
      "_model_module": "@jupyter-widgets/controls",
      "_model_module_version": "1.5.0",
      "_model_name": "HTMLModel",
      "_view_count": null,
      "_view_module": "@jupyter-widgets/controls",
      "_view_module_version": "1.5.0",
      "_view_name": "HTMLView",
      "description": "",
      "description_tooltip": null,
      "layout": "IPY_MODEL_5cb2152ad8c24c52b3459aabf35e2665",
      "placeholder": "​",
      "style": "IPY_MODEL_251fd6389a6d46b7811e8d648ffa4ddb",
      "value": "(…)-00000-of-00001-35901af5f6649399.parquet: 100%"
     }
    },
    "77ae048ce26848e99a4e06bd66c5a034": {
     "model_module": "@jupyter-widgets/base",
     "model_module_version": "1.2.0",
     "model_name": "LayoutModel",
     "state": {
      "_model_module": "@jupyter-widgets/base",
      "_model_module_version": "1.2.0",
      "_model_name": "LayoutModel",
      "_view_count": null,
      "_view_module": "@jupyter-widgets/base",
      "_view_module_version": "1.2.0",
      "_view_name": "LayoutView",
      "align_content": null,
      "align_items": null,
      "align_self": null,
      "border": null,
      "bottom": null,
      "display": null,
      "flex": null,
      "flex_flow": null,
      "grid_area": null,
      "grid_auto_columns": null,
      "grid_auto_flow": null,
      "grid_auto_rows": null,
      "grid_column": null,
      "grid_gap": null,
      "grid_row": null,
      "grid_template_areas": null,
      "grid_template_columns": null,
      "grid_template_rows": null,
      "height": null,
      "justify_content": null,
      "justify_items": null,
      "left": null,
      "margin": null,
      "max_height": null,
      "max_width": null,
      "min_height": null,
      "min_width": null,
      "object_fit": null,
      "object_position": null,
      "order": null,
      "overflow": null,
      "overflow_x": null,
      "overflow_y": null,
      "padding": null,
      "right": null,
      "top": null,
      "visibility": null,
      "width": null
     }
    },
    "8001fcc1a26e4907a590b4513ad68c12": {
     "model_module": "@jupyter-widgets/base",
     "model_module_version": "1.2.0",
     "model_name": "LayoutModel",
     "state": {
      "_model_module": "@jupyter-widgets/base",
      "_model_module_version": "1.2.0",
      "_model_name": "LayoutModel",
      "_view_count": null,
      "_view_module": "@jupyter-widgets/base",
      "_view_module_version": "1.2.0",
      "_view_name": "LayoutView",
      "align_content": null,
      "align_items": null,
      "align_self": null,
      "border": null,
      "bottom": null,
      "display": null,
      "flex": null,
      "flex_flow": null,
      "grid_area": null,
      "grid_auto_columns": null,
      "grid_auto_flow": null,
      "grid_auto_rows": null,
      "grid_column": null,
      "grid_gap": null,
      "grid_row": null,
      "grid_template_areas": null,
      "grid_template_columns": null,
      "grid_template_rows": null,
      "height": null,
      "justify_content": null,
      "justify_items": null,
      "left": null,
      "margin": null,
      "max_height": null,
      "max_width": null,
      "min_height": null,
      "min_width": null,
      "object_fit": null,
      "object_position": null,
      "order": null,
      "overflow": null,
      "overflow_x": null,
      "overflow_y": null,
      "padding": null,
      "right": null,
      "top": null,
      "visibility": null,
      "width": null
     }
    },
    "8851fccebcad423199407f2abffc6488": {
     "model_module": "@jupyter-widgets/base",
     "model_module_version": "1.2.0",
     "model_name": "LayoutModel",
     "state": {
      "_model_module": "@jupyter-widgets/base",
      "_model_module_version": "1.2.0",
      "_model_name": "LayoutModel",
      "_view_count": null,
      "_view_module": "@jupyter-widgets/base",
      "_view_module_version": "1.2.0",
      "_view_name": "LayoutView",
      "align_content": null,
      "align_items": null,
      "align_self": null,
      "border": null,
      "bottom": null,
      "display": null,
      "flex": null,
      "flex_flow": null,
      "grid_area": null,
      "grid_auto_columns": null,
      "grid_auto_flow": null,
      "grid_auto_rows": null,
      "grid_column": null,
      "grid_gap": null,
      "grid_row": null,
      "grid_template_areas": null,
      "grid_template_columns": null,
      "grid_template_rows": null,
      "height": null,
      "justify_content": null,
      "justify_items": null,
      "left": null,
      "margin": null,
      "max_height": null,
      "max_width": null,
      "min_height": null,
      "min_width": null,
      "object_fit": null,
      "object_position": null,
      "order": null,
      "overflow": null,
      "overflow_x": null,
      "overflow_y": null,
      "padding": null,
      "right": null,
      "top": null,
      "visibility": null,
      "width": null
     }
    },
    "9692df9269a44760b3126832c2ffd648": {
     "model_module": "@jupyter-widgets/controls",
     "model_module_version": "1.5.0",
     "model_name": "HBoxModel",
     "state": {
      "_dom_classes": [],
      "_model_module": "@jupyter-widgets/controls",
      "_model_module_version": "1.5.0",
      "_model_name": "HBoxModel",
      "_view_count": null,
      "_view_module": "@jupyter-widgets/controls",
      "_view_module_version": "1.5.0",
      "_view_name": "HBoxView",
      "box_style": "",
      "children": [
       "IPY_MODEL_d92da35ed3e2448d86ad4438603952fb",
       "IPY_MODEL_f7323247b640421dab7b924c217c84b0",
       "IPY_MODEL_38bf4a5156a34a5bbc5a7314dd830246"
      ],
      "layout": "IPY_MODEL_c1e37ec95fbb400b996fc48cdde12610"
     }
    },
    "969a13d2399b4198aa5806563038f74b": {
     "model_module": "@jupyter-widgets/base",
     "model_module_version": "1.2.0",
     "model_name": "LayoutModel",
     "state": {
      "_model_module": "@jupyter-widgets/base",
      "_model_module_version": "1.2.0",
      "_model_name": "LayoutModel",
      "_view_count": null,
      "_view_module": "@jupyter-widgets/base",
      "_view_module_version": "1.2.0",
      "_view_name": "LayoutView",
      "align_content": null,
      "align_items": null,
      "align_self": null,
      "border": null,
      "bottom": null,
      "display": null,
      "flex": null,
      "flex_flow": null,
      "grid_area": null,
      "grid_auto_columns": null,
      "grid_auto_flow": null,
      "grid_auto_rows": null,
      "grid_column": null,
      "grid_gap": null,
      "grid_row": null,
      "grid_template_areas": null,
      "grid_template_columns": null,
      "grid_template_rows": null,
      "height": null,
      "justify_content": null,
      "justify_items": null,
      "left": null,
      "margin": null,
      "max_height": null,
      "max_width": null,
      "min_height": null,
      "min_width": null,
      "object_fit": null,
      "object_position": null,
      "order": null,
      "overflow": null,
      "overflow_x": null,
      "overflow_y": null,
      "padding": null,
      "right": null,
      "top": null,
      "visibility": null,
      "width": null
     }
    },
    "a70e4c1955f94c57831b68108b9d134b": {
     "model_module": "@jupyter-widgets/controls",
     "model_module_version": "1.5.0",
     "model_name": "FloatProgressModel",
     "state": {
      "_dom_classes": [],
      "_model_module": "@jupyter-widgets/controls",
      "_model_module_version": "1.5.0",
      "_model_name": "FloatProgressModel",
      "_view_count": null,
      "_view_module": "@jupyter-widgets/controls",
      "_view_module_version": "1.5.0",
      "_view_name": "ProgressView",
      "bar_style": "success",
      "description": "",
      "description_tooltip": null,
      "layout": "IPY_MODEL_969a13d2399b4198aa5806563038f74b",
      "max": 422779,
      "min": 0,
      "orientation": "horizontal",
      "style": "IPY_MODEL_aa931e94ea6e4c928f4683ec11c30ae6",
      "value": 422779
     }
    },
    "aa931e94ea6e4c928f4683ec11c30ae6": {
     "model_module": "@jupyter-widgets/controls",
     "model_module_version": "1.5.0",
     "model_name": "ProgressStyleModel",
     "state": {
      "_model_module": "@jupyter-widgets/controls",
      "_model_module_version": "1.5.0",
      "_model_name": "ProgressStyleModel",
      "_view_count": null,
      "_view_module": "@jupyter-widgets/base",
      "_view_module_version": "1.2.0",
      "_view_name": "StyleView",
      "bar_color": null,
      "description_width": ""
     }
    },
    "abc956a07d0b4659b68e921c62b08b18": {
     "model_module": "@jupyter-widgets/controls",
     "model_module_version": "1.5.0",
     "model_name": "FloatProgressModel",
     "state": {
      "_dom_classes": [],
      "_model_module": "@jupyter-widgets/controls",
      "_model_module_version": "1.5.0",
      "_model_name": "FloatProgressModel",
      "_view_count": null,
      "_view_module": "@jupyter-widgets/controls",
      "_view_module_version": "1.5.0",
      "_view_name": "ProgressView",
      "bar_style": "success",
      "description": "",
      "description_tooltip": null,
      "layout": "IPY_MODEL_dd21dfb5c63c48179931a03219235e6d",
      "max": 635,
      "min": 0,
      "orientation": "horizontal",
      "style": "IPY_MODEL_4f16f4902d4749689215414e1975a53b",
      "value": 635
     }
    },
    "b18add057a5045a884f28489da106b6a": {
     "model_module": "@jupyter-widgets/controls",
     "model_module_version": "1.5.0",
     "model_name": "HBoxModel",
     "state": {
      "_dom_classes": [],
      "_model_module": "@jupyter-widgets/controls",
      "_model_module_version": "1.5.0",
      "_model_name": "HBoxModel",
      "_view_count": null,
      "_view_module": "@jupyter-widgets/controls",
      "_view_module_version": "1.5.0",
      "_view_name": "HBoxView",
      "box_style": "",
      "children": [
       "IPY_MODEL_d3befce8f556413db9c64775d984141e",
       "IPY_MODEL_4e1e757e7e544b4f8ae8096a2fc49098",
       "IPY_MODEL_e9d47dee7dd645daa23538dc622913df"
      ],
      "layout": "IPY_MODEL_b25758f208f5483eb365357e8ee3e312"
     }
    },
    "b25758f208f5483eb365357e8ee3e312": {
     "model_module": "@jupyter-widgets/base",
     "model_module_version": "1.2.0",
     "model_name": "LayoutModel",
     "state": {
      "_model_module": "@jupyter-widgets/base",
      "_model_module_version": "1.2.0",
      "_model_name": "LayoutModel",
      "_view_count": null,
      "_view_module": "@jupyter-widgets/base",
      "_view_module_version": "1.2.0",
      "_view_name": "LayoutView",
      "align_content": null,
      "align_items": null,
      "align_self": null,
      "border": null,
      "bottom": null,
      "display": null,
      "flex": null,
      "flex_flow": null,
      "grid_area": null,
      "grid_auto_columns": null,
      "grid_auto_flow": null,
      "grid_auto_rows": null,
      "grid_column": null,
      "grid_gap": null,
      "grid_row": null,
      "grid_template_areas": null,
      "grid_template_columns": null,
      "grid_template_rows": null,
      "height": null,
      "justify_content": null,
      "justify_items": null,
      "left": null,
      "margin": null,
      "max_height": null,
      "max_width": null,
      "min_height": null,
      "min_width": null,
      "object_fit": null,
      "object_position": null,
      "order": null,
      "overflow": null,
      "overflow_x": null,
      "overflow_y": null,
      "padding": null,
      "right": null,
      "top": null,
      "visibility": null,
      "width": null
     }
    },
    "b5e0988c2fe4490fad8402c65a90bb4a": {
     "model_module": "@jupyter-widgets/controls",
     "model_module_version": "1.5.0",
     "model_name": "DescriptionStyleModel",
     "state": {
      "_model_module": "@jupyter-widgets/controls",
      "_model_module_version": "1.5.0",
      "_model_name": "DescriptionStyleModel",
      "_view_count": null,
      "_view_module": "@jupyter-widgets/base",
      "_view_module_version": "1.2.0",
      "_view_name": "StyleView",
      "description_width": ""
     }
    },
    "c1e37ec95fbb400b996fc48cdde12610": {
     "model_module": "@jupyter-widgets/base",
     "model_module_version": "1.2.0",
     "model_name": "LayoutModel",
     "state": {
      "_model_module": "@jupyter-widgets/base",
      "_model_module_version": "1.2.0",
      "_model_name": "LayoutModel",
      "_view_count": null,
      "_view_module": "@jupyter-widgets/base",
      "_view_module_version": "1.2.0",
      "_view_name": "LayoutView",
      "align_content": null,
      "align_items": null,
      "align_self": null,
      "border": null,
      "bottom": null,
      "display": null,
      "flex": null,
      "flex_flow": null,
      "grid_area": null,
      "grid_auto_columns": null,
      "grid_auto_flow": null,
      "grid_auto_rows": null,
      "grid_column": null,
      "grid_gap": null,
      "grid_row": null,
      "grid_template_areas": null,
      "grid_template_columns": null,
      "grid_template_rows": null,
      "height": null,
      "justify_content": null,
      "justify_items": null,
      "left": null,
      "margin": null,
      "max_height": null,
      "max_width": null,
      "min_height": null,
      "min_width": null,
      "object_fit": null,
      "object_position": null,
      "order": null,
      "overflow": null,
      "overflow_x": null,
      "overflow_y": null,
      "padding": null,
      "right": null,
      "top": null,
      "visibility": null,
      "width": null
     }
    },
    "ca16554bf3394dbaacf48edd025aa540": {
     "model_module": "@jupyter-widgets/base",
     "model_module_version": "1.2.0",
     "model_name": "LayoutModel",
     "state": {
      "_model_module": "@jupyter-widgets/base",
      "_model_module_version": "1.2.0",
      "_model_name": "LayoutModel",
      "_view_count": null,
      "_view_module": "@jupyter-widgets/base",
      "_view_module_version": "1.2.0",
      "_view_name": "LayoutView",
      "align_content": null,
      "align_items": null,
      "align_self": null,
      "border": null,
      "bottom": null,
      "display": null,
      "flex": null,
      "flex_flow": null,
      "grid_area": null,
      "grid_auto_columns": null,
      "grid_auto_flow": null,
      "grid_auto_rows": null,
      "grid_column": null,
      "grid_gap": null,
      "grid_row": null,
      "grid_template_areas": null,
      "grid_template_columns": null,
      "grid_template_rows": null,
      "height": null,
      "justify_content": null,
      "justify_items": null,
      "left": null,
      "margin": null,
      "max_height": null,
      "max_width": null,
      "min_height": null,
      "min_width": null,
      "object_fit": null,
      "object_position": null,
      "order": null,
      "overflow": null,
      "overflow_x": null,
      "overflow_y": null,
      "padding": null,
      "right": null,
      "top": null,
      "visibility": null,
      "width": null
     }
    },
    "cc860e253134490ca765536923eaeb63": {
     "model_module": "@jupyter-widgets/controls",
     "model_module_version": "1.5.0",
     "model_name": "DescriptionStyleModel",
     "state": {
      "_model_module": "@jupyter-widgets/controls",
      "_model_module_version": "1.5.0",
      "_model_name": "DescriptionStyleModel",
      "_view_count": null,
      "_view_module": "@jupyter-widgets/base",
      "_view_module_version": "1.2.0",
      "_view_name": "StyleView",
      "description_width": ""
     }
    },
    "cf0c4d329491417aa5b2ce7b45106732": {
     "model_module": "@jupyter-widgets/base",
     "model_module_version": "1.2.0",
     "model_name": "LayoutModel",
     "state": {
      "_model_module": "@jupyter-widgets/base",
      "_model_module_version": "1.2.0",
      "_model_name": "LayoutModel",
      "_view_count": null,
      "_view_module": "@jupyter-widgets/base",
      "_view_module_version": "1.2.0",
      "_view_name": "LayoutView",
      "align_content": null,
      "align_items": null,
      "align_self": null,
      "border": null,
      "bottom": null,
      "display": null,
      "flex": null,
      "flex_flow": null,
      "grid_area": null,
      "grid_auto_columns": null,
      "grid_auto_flow": null,
      "grid_auto_rows": null,
      "grid_column": null,
      "grid_gap": null,
      "grid_row": null,
      "grid_template_areas": null,
      "grid_template_columns": null,
      "grid_template_rows": null,
      "height": null,
      "justify_content": null,
      "justify_items": null,
      "left": null,
      "margin": null,
      "max_height": null,
      "max_width": null,
      "min_height": null,
      "min_width": null,
      "object_fit": null,
      "object_position": null,
      "order": null,
      "overflow": null,
      "overflow_x": null,
      "overflow_y": null,
      "padding": null,
      "right": null,
      "top": null,
      "visibility": null,
      "width": null
     }
    },
    "d3026cb8ccd847559a22e228cc03fff4": {
     "model_module": "@jupyter-widgets/controls",
     "model_module_version": "1.5.0",
     "model_name": "ProgressStyleModel",
     "state": {
      "_model_module": "@jupyter-widgets/controls",
      "_model_module_version": "1.5.0",
      "_model_name": "ProgressStyleModel",
      "_view_count": null,
      "_view_module": "@jupyter-widgets/base",
      "_view_module_version": "1.2.0",
      "_view_name": "StyleView",
      "bar_color": null,
      "description_width": ""
     }
    },
    "d3befce8f556413db9c64775d984141e": {
     "model_module": "@jupyter-widgets/controls",
     "model_module_version": "1.5.0",
     "model_name": "HTMLModel",
     "state": {
      "_dom_classes": [],
      "_model_module": "@jupyter-widgets/controls",
      "_model_module_version": "1.5.0",
      "_model_name": "HTMLModel",
      "_view_count": null,
      "_view_module": "@jupyter-widgets/controls",
      "_view_module_version": "1.5.0",
      "_view_name": "HTMLView",
      "description": "",
      "description_tooltip": null,
      "layout": "IPY_MODEL_f96ebfbc20f84911abc12ceb1fefcdbb",
      "placeholder": "​",
      "style": "IPY_MODEL_b5e0988c2fe4490fad8402c65a90bb4a",
      "value": "Generating test split: 100%"
     }
    },
    "d92da35ed3e2448d86ad4438603952fb": {
     "model_module": "@jupyter-widgets/controls",
     "model_module_version": "1.5.0",
     "model_name": "HTMLModel",
     "state": {
      "_dom_classes": [],
      "_model_module": "@jupyter-widgets/controls",
      "_model_module_version": "1.5.0",
      "_model_name": "HTMLModel",
      "_view_count": null,
      "_view_module": "@jupyter-widgets/controls",
      "_view_module_version": "1.5.0",
      "_view_name": "HTMLView",
      "description": "",
      "description_tooltip": null,
      "layout": "IPY_MODEL_ca16554bf3394dbaacf48edd025aa540",
      "placeholder": "​",
      "style": "IPY_MODEL_1bfb9e94fbb646bfa0069417bab4bde8",
      "value": "dataset_infos.json: 100%"
     }
    },
    "dd21dfb5c63c48179931a03219235e6d": {
     "model_module": "@jupyter-widgets/base",
     "model_module_version": "1.2.0",
     "model_name": "LayoutModel",
     "state": {
      "_model_module": "@jupyter-widgets/base",
      "_model_module_version": "1.2.0",
      "_model_name": "LayoutModel",
      "_view_count": null,
      "_view_module": "@jupyter-widgets/base",
      "_view_module_version": "1.2.0",
      "_view_name": "LayoutView",
      "align_content": null,
      "align_items": null,
      "align_self": null,
      "border": null,
      "bottom": null,
      "display": null,
      "flex": null,
      "flex_flow": null,
      "grid_area": null,
      "grid_auto_columns": null,
      "grid_auto_flow": null,
      "grid_auto_rows": null,
      "grid_column": null,
      "grid_gap": null,
      "grid_row": null,
      "grid_template_areas": null,
      "grid_template_columns": null,
      "grid_template_rows": null,
      "height": null,
      "justify_content": null,
      "justify_items": null,
      "left": null,
      "margin": null,
      "max_height": null,
      "max_width": null,
      "min_height": null,
      "min_width": null,
      "object_fit": null,
      "object_position": null,
      "order": null,
      "overflow": null,
      "overflow_x": null,
      "overflow_y": null,
      "padding": null,
      "right": null,
      "top": null,
      "visibility": null,
      "width": null
     }
    },
    "e9d47dee7dd645daa23538dc622913df": {
     "model_module": "@jupyter-widgets/controls",
     "model_module_version": "1.5.0",
     "model_name": "HTMLModel",
     "state": {
      "_dom_classes": [],
      "_model_module": "@jupyter-widgets/controls",
      "_model_module_version": "1.5.0",
      "_model_name": "HTMLModel",
      "_view_count": null,
      "_view_module": "@jupyter-widgets/controls",
      "_view_module_version": "1.5.0",
      "_view_name": "HTMLView",
      "description": "",
      "description_tooltip": null,
      "layout": "IPY_MODEL_8001fcc1a26e4907a590b4513ad68c12",
      "placeholder": "​",
      "style": "IPY_MODEL_4ce5e693140c4d7ba71d4416d5722bd1",
      "value": " 100/100 [00:00&lt;00:00, 1207.54 examples/s]"
     }
    },
    "ec8fdc533c7840a18445dd2359badbb4": {
     "model_module": "@jupyter-widgets/base",
     "model_module_version": "1.2.0",
     "model_name": "LayoutModel",
     "state": {
      "_model_module": "@jupyter-widgets/base",
      "_model_module_version": "1.2.0",
      "_model_name": "LayoutModel",
      "_view_count": null,
      "_view_module": "@jupyter-widgets/base",
      "_view_module_version": "1.2.0",
      "_view_name": "LayoutView",
      "align_content": null,
      "align_items": null,
      "align_self": null,
      "border": null,
      "bottom": null,
      "display": null,
      "flex": null,
      "flex_flow": null,
      "grid_area": null,
      "grid_auto_columns": null,
      "grid_auto_flow": null,
      "grid_auto_rows": null,
      "grid_column": null,
      "grid_gap": null,
      "grid_row": null,
      "grid_template_areas": null,
      "grid_template_columns": null,
      "grid_template_rows": null,
      "height": null,
      "justify_content": null,
      "justify_items": null,
      "left": null,
      "margin": null,
      "max_height": null,
      "max_width": null,
      "min_height": null,
      "min_width": null,
      "object_fit": null,
      "object_position": null,
      "order": null,
      "overflow": null,
      "overflow_x": null,
      "overflow_y": null,
      "padding": null,
      "right": null,
      "top": null,
      "visibility": null,
      "width": null
     }
    },
    "f7323247b640421dab7b924c217c84b0": {
     "model_module": "@jupyter-widgets/controls",
     "model_module_version": "1.5.0",
     "model_name": "FloatProgressModel",
     "state": {
      "_dom_classes": [],
      "_model_module": "@jupyter-widgets/controls",
      "_model_module_version": "1.5.0",
      "_model_name": "FloatProgressModel",
      "_view_count": null,
      "_view_module": "@jupyter-widgets/controls",
      "_view_module_version": "1.5.0",
      "_view_name": "ProgressView",
      "bar_style": "success",
      "description": "",
      "description_tooltip": null,
      "layout": "IPY_MODEL_26b1e19f0fb44bf99689ad59ada9bf45",
      "max": 2378,
      "min": 0,
      "orientation": "horizontal",
      "style": "IPY_MODEL_2609a95468854699b82779e2babbd0fc",
      "value": 2378
     }
    },
    "f96ebfbc20f84911abc12ceb1fefcdbb": {
     "model_module": "@jupyter-widgets/base",
     "model_module_version": "1.2.0",
     "model_name": "LayoutModel",
     "state": {
      "_model_module": "@jupyter-widgets/base",
      "_model_module_version": "1.2.0",
      "_model_name": "LayoutModel",
      "_view_count": null,
      "_view_module": "@jupyter-widgets/base",
      "_view_module_version": "1.2.0",
      "_view_name": "LayoutView",
      "align_content": null,
      "align_items": null,
      "align_self": null,
      "border": null,
      "bottom": null,
      "display": null,
      "flex": null,
      "flex_flow": null,
      "grid_area": null,
      "grid_auto_columns": null,
      "grid_auto_flow": null,
      "grid_auto_rows": null,
      "grid_column": null,
      "grid_gap": null,
      "grid_row": null,
      "grid_template_areas": null,
      "grid_template_columns": null,
      "grid_template_rows": null,
      "height": null,
      "justify_content": null,
      "justify_items": null,
      "left": null,
      "margin": null,
      "max_height": null,
      "max_width": null,
      "min_height": null,
      "min_width": null,
      "object_fit": null,
      "object_position": null,
      "order": null,
      "overflow": null,
      "overflow_x": null,
      "overflow_y": null,
      "padding": null,
      "right": null,
      "top": null,
      "visibility": null,
      "width": null
     }
    },
    "fa8ad55ce57e43d18557c872b193aa25": {
     "model_module": "@jupyter-widgets/base",
     "model_module_version": "1.2.0",
     "model_name": "LayoutModel",
     "state": {
      "_model_module": "@jupyter-widgets/base",
      "_model_module_version": "1.2.0",
      "_model_name": "LayoutModel",
      "_view_count": null,
      "_view_module": "@jupyter-widgets/base",
      "_view_module_version": "1.2.0",
      "_view_name": "LayoutView",
      "align_content": null,
      "align_items": null,
      "align_self": null,
      "border": null,
      "bottom": null,
      "display": null,
      "flex": null,
      "flex_flow": null,
      "grid_area": null,
      "grid_auto_columns": null,
      "grid_auto_flow": null,
      "grid_auto_rows": null,
      "grid_column": null,
      "grid_gap": null,
      "grid_row": null,
      "grid_template_areas": null,
      "grid_template_columns": null,
      "grid_template_rows": null,
      "height": null,
      "justify_content": null,
      "justify_items": null,
      "left": null,
      "margin": null,
      "max_height": null,
      "max_width": null,
      "min_height": null,
      "min_width": null,
      "object_fit": null,
      "object_position": null,
      "order": null,
      "overflow": null,
      "overflow_x": null,
      "overflow_y": null,
      "padding": null,
      "right": null,
      "top": null,
      "visibility": null,
      "width": null
     }
    }
   }
  }
 },
 "nbformat": 4,
 "nbformat_minor": 0
}
